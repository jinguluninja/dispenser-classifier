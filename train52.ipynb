{
 "cells": [
  {
   "cell_type": "code",
   "execution_count": 1,
   "metadata": {
    "collapsed": false
   },
   "outputs": [
    {
     "name": "stderr",
     "output_type": "stream",
     "text": [
      "Using TensorFlow backend.\n"
     ]
    }
   ],
   "source": [
    "import os\n",
    "import keras\n",
    "import numpy as np\n",
    "np.random.seed(135109)"
   ]
  },
  {
   "cell_type": "code",
   "execution_count": 2,
   "metadata": {
    "collapsed": false
   },
   "outputs": [],
   "source": [
    "sensor = '52'"
   ]
  },
  {
   "cell_type": "code",
   "execution_count": 3,
   "metadata": {
    "collapsed": false
   },
   "outputs": [],
   "source": [
    "def dataset():\n",
    "    X = []\n",
    "    y = []\n",
    "    data_dir_0 = sorted(os.listdir(os.path.join('pac_data', sensor, '0')))   \n",
    "    i = 0\n",
    "    for f in data_dir_0:\n",
    "        if i % 100 == 0: print(i)\n",
    "        i += 1\n",
    "        X.append(np.load(os.path.join('pac_data', sensor, '0', f))['x'])\n",
    "        y.append(0)\n",
    "    X = np.asarray(X, dtype=np.float16)\n",
    "    y = np.asarray(y, dtype=int)\n",
    "    indices = np.arange(y.shape[0])\n",
    "    np.random.shuffle(indices)\n",
    "    X_train = X[indices[:int(0.8*len(indices))]]\n",
    "    y_train = y[indices[:int(0.8*len(indices))]]\n",
    "    X_val = X[indices[int(0.8*len(indices)):]]\n",
    "    y_val = y[indices[int(0.8*len(indices)):]]\n",
    "    labels_present = os.listdir(os.path.join('pac_data', sensor))\n",
    "    if '1' in labels_present:\n",
    "        X = []\n",
    "        y = []\n",
    "        data_dir_1 = sorted(os.listdir(os.path.join('pac_data', sensor, '1')))\n",
    "        i = 0\n",
    "        for f in data_dir_1:\n",
    "            if i % 100 == 0: print(i)\n",
    "            i += 1\n",
    "            X.append(np.load(os.path.join('pac_data', sensor, '1', f))['x'])\n",
    "            y.append(1)        \n",
    "        X = np.asarray(X, dtype=np.float16)\n",
    "        y = np.asarray(y, dtype=int)\n",
    "        indices = np.arange(y.shape[0])\n",
    "        np.random.shuffle(indices)\n",
    "        X_train = np.concatenate([X_train, X[indices[:int(0.8*len(indices))]]])\n",
    "        y_train = np.concatenate([y_train, y[indices[:int(0.8*len(indices))]]])\n",
    "        X_val = np.concatenate([X_val, X[indices[int(0.8*len(indices)):]]])\n",
    "        y_val = np.concatenate([y_val, y[indices[int(0.8*len(indices)):]]])\n",
    "    X_train = np.expand_dims(np.asarray(X_train, dtype=np.float16), axis=3)\n",
    "    y_train = np.asarray(y_train, dtype=int)\n",
    "    X_val = np.expand_dims(np.asarray(X_val, dtype=np.float16), axis=3)\n",
    "    y_val = np.asarray(y_val, dtype=int)\n",
    "    X_train /= 5.\n",
    "    X_val /= 5.\n",
    "    mean_arr = np.mean(X_train, axis = 0)\n",
    "    np.save(os.path.join('pac_data', sensor, 'mean.npy'), mean_arr)\n",
    "    X_train -= mean_arr \n",
    "    X_val -= mean_arr  \n",
    "    return X_train, y_train, X_val, y_val"
   ]
  },
  {
   "cell_type": "code",
   "execution_count": 4,
   "metadata": {
    "collapsed": false,
    "scrolled": true
   },
   "outputs": [
    {
     "name": "stdout",
     "output_type": "stream",
     "text": [
      "0\n",
      "100\n",
      "200\n",
      "300\n",
      "400\n",
      "500\n",
      "600\n",
      "700\n",
      "800\n",
      "900\n",
      "1000\n",
      "1100\n",
      "1200\n",
      "1300\n",
      "1400\n",
      "1500\n",
      "1600\n",
      "1700\n",
      "1800\n",
      "1900\n",
      "2000\n",
      "2100\n",
      "2200\n",
      "2300\n",
      "2400\n",
      "2500\n",
      "2600\n",
      "2700\n",
      "2800\n",
      "2900\n",
      "3000\n",
      "3100\n",
      "3200\n",
      "3300\n",
      "3400\n",
      "3500\n",
      "3600\n",
      "3700\n",
      "3800\n",
      "3900\n",
      "4000\n",
      "4100\n",
      "4200\n",
      "4300\n",
      "4400\n",
      "4500\n",
      "4600\n",
      "4700\n",
      "4800\n",
      "4900\n",
      "5000\n",
      "5100\n",
      "5200\n",
      "5300\n",
      "5400\n",
      "5500\n",
      "5600\n",
      "5700\n",
      "5800\n",
      "5900\n",
      "6000\n",
      "6100\n",
      "6200\n",
      "6300\n",
      "6400\n",
      "6500\n",
      "6600\n",
      "6700\n",
      "6800\n",
      "6900\n",
      "7000\n",
      "7100\n",
      "7200\n",
      "7300\n",
      "7400\n",
      "7500\n",
      "7600\n",
      "0\n",
      "100\n",
      "200\n",
      "300\n",
      "400\n",
      "500\n",
      "600\n",
      "700\n",
      "800\n",
      "900\n",
      "1000\n",
      "1100\n",
      "1200\n",
      "1300\n"
     ]
    }
   ],
   "source": [
    "X_train, y_train, X_val, y_val = dataset()"
   ]
  },
  {
   "cell_type": "code",
   "execution_count": 5,
   "metadata": {
    "collapsed": false
   },
   "outputs": [
    {
     "name": "stdout",
     "output_type": "stream",
     "text": [
      "(7160, 240, 320, 1) (7160,) (1791, 240, 320, 1) (1791,)\n"
     ]
    }
   ],
   "source": [
    "print(X_train.shape, y_train.shape, X_val.shape, y_val.shape)"
   ]
  },
  {
   "cell_type": "code",
   "execution_count": 6,
   "metadata": {
    "collapsed": false
   },
   "outputs": [
    {
     "name": "stdout",
     "output_type": "stream",
     "text": [
      "['/gpu:0']\n"
     ]
    }
   ],
   "source": [
    "from tensorflow.python.client import device_lib\n",
    "\n",
    "def get_available_gpus():\n",
    "    local_device_protos = device_lib.list_local_devices()\n",
    "    return [x.name for x in local_device_protos if x.device_type == 'GPU']\n",
    "\n",
    "print(get_available_gpus())"
   ]
  },
  {
   "cell_type": "code",
   "execution_count": 7,
   "metadata": {
    "collapsed": false
   },
   "outputs": [],
   "source": [
    "\n",
    "from keras.models import Sequential\n",
    "from keras.layers import TimeDistributed, GlobalAveragePooling2D, Activation, Dense, Input\n",
    "from keras.layers import BatchNormalization, Conv2D, MaxPooling2D, AveragePooling2D, GlobalAveragePooling2D\n",
    "from keras.layers import GlobalMaxPooling2D\n",
    "from keras.layers.recurrent import LSTM\n",
    "from keras.callbacks import ModelCheckpoint, ReduceLROnPlateau, EarlyStopping\n",
    "from keras.layers import Dropout, Flatten\n",
    "from keras.layers import concatenate\n",
    "from keras import regularizers\n",
    "from keras import initializers\n",
    "from keras import constraints\n",
    "from keras.models import Model\n",
    "from keras import backend as K\n",
    "from keras.utils.layer_utils import convert_all_kernels_in_model\n",
    "from keras.utils.data_utils import get_file\n",
    "from keras.utils import conv_utils\n",
    "from keras.engine.topology import get_source_inputs\n",
    "from keras.engine import InputSpec\n",
    "from keras.applications.xception import Xception\n",
    "from keras import metrics"
   ]
  },
  {
   "cell_type": "code",
   "execution_count": 8,
   "metadata": {
    "collapsed": true
   },
   "outputs": [],
   "source": [
    "#linear\n",
    "def linear(dropout):\n",
    "    inputs = Input(shape=(240, 320, 1))\n",
    "    x = Flatten()(inputs)\n",
    "    x = Dropout(dropout)(x)\n",
    "    x = Dense(2, activation='softmax')(x)\n",
    "    model = Model(inputs, x, name='linear')\n",
    "    return model"
   ]
  },
  {
   "cell_type": "code",
   "execution_count": 9,
   "metadata": {
    "collapsed": false
   },
   "outputs": [
    {
     "data": {
      "text/plain": [
       "\"\\ndef xception(dropout):\\n    base_model = Xception(include_top=False, input_shape = (240, 320, 1), pooling='avg')\\n    x = base_model.output\\n    x = Flatten()(x)\\n    x = Dropout(dropout)(x) # drop prob\\n    predictions = Dense(2, activation='softmax')(x)\\n    model = Model(inputs=base_model.input, outputs=predictions, name='linear')\\n    return model\\n\""
      ]
     },
     "execution_count": 9,
     "metadata": {},
     "output_type": "execute_result"
    }
   ],
   "source": [
    "from keras import layers\n",
    "from keras.layers import Activation\n",
    "from keras.layers import SeparableConv2D\n",
    "\n",
    "def xception(dropout):\n",
    "    inputs = Input(shape=(240, 320, 1))    \n",
    "\n",
    "    x = Conv2D(32, (3, 3), padding='same', strides=(2, 2), use_bias=False, name='block1_conv1')(inputs)\n",
    "    x = BatchNormalization(name='block1_conv1_bn')(x)\n",
    "    x = Activation('relu', name='block1_conv1_act')(x)\n",
    "    x = Conv2D(64, (3, 3), padding='same', use_bias=False, name='block1_conv2')(x)\n",
    "    x = BatchNormalization(name='block1_conv2_bn')(x)\n",
    "    x = Activation('relu', name='block1_conv2_act')(x)\n",
    "\n",
    "    residual = Conv2D(128, (1, 1), strides=(2, 2),\n",
    "                      padding='same', use_bias=False)(x)\n",
    "    residual = BatchNormalization()(residual)\n",
    "\n",
    "    x = SeparableConv2D(128, (3, 3), padding='same', use_bias=False, name='block2_sepconv1')(x)\n",
    "    x = BatchNormalization(name='block2_sepconv1_bn')(x)\n",
    "    x = Activation('relu', name='block2_sepconv2_act')(x)\n",
    "    x = SeparableConv2D(128, (3, 3), padding='same', use_bias=False, name='block2_sepconv2')(x)\n",
    "    x = BatchNormalization(name='block2_sepconv2_bn')(x)\n",
    "\n",
    "    x = MaxPooling2D((3, 3), strides=(2, 2), padding='same', name='block2_pool')(x)\n",
    "    x = layers.add([x, residual])\n",
    "\n",
    "    residual = Conv2D(256, (1, 1), strides=(2, 2),\n",
    "                      padding='same', use_bias=False)(x)\n",
    "    residual = BatchNormalization()(residual)\n",
    "\n",
    "    x = Activation('relu', name='block3_sepconv1_act')(x)\n",
    "    x = SeparableConv2D(256, (3, 3), padding='same', use_bias=False, name='block3_sepconv1')(x)\n",
    "    x = BatchNormalization(name='block3_sepconv1_bn')(x)\n",
    "    x = Activation('relu', name='block3_sepconv2_act')(x)\n",
    "    x = SeparableConv2D(256, (3, 3), padding='same', use_bias=False, name='block3_sepconv2')(x)\n",
    "    x = BatchNormalization(name='block3_sepconv2_bn')(x)\n",
    "\n",
    "    x = MaxPooling2D((3, 3), strides=(2, 2), padding='same', name='block3_pool')(x)\n",
    "    x = layers.add([x, residual])\n",
    "\n",
    "    residual = Conv2D(728, (1, 1), strides=(2, 2),\n",
    "                      padding='same', use_bias=False)(x)\n",
    "    residual = BatchNormalization()(residual)\n",
    "\n",
    "    x = Activation('relu', name='block4_sepconv1_act')(x)\n",
    "    x = SeparableConv2D(728, (3, 3), padding='same', use_bias=False, name='block4_sepconv1')(x)\n",
    "    x = BatchNormalization(name='block4_sepconv1_bn')(x)\n",
    "    x = Activation('relu', name='block4_sepconv2_act')(x)\n",
    "    x = SeparableConv2D(728, (3, 3), padding='same', use_bias=False, name='block4_sepconv2')(x)\n",
    "    x = BatchNormalization(name='block4_sepconv2_bn')(x)\n",
    "\n",
    "    x = MaxPooling2D((3, 3), strides=(2, 2), padding='same', name='block4_pool')(x)\n",
    "    x = layers.add([x, residual])\n",
    "\n",
    "    for i in range(8):\n",
    "        residual = x\n",
    "        prefix = 'block' + str(i + 5)\n",
    "\n",
    "        x = Activation('relu', name=prefix + '_sepconv1_act')(x)\n",
    "        x = SeparableConv2D(728, (3, 3), padding='same', use_bias=False, name=prefix + '_sepconv1')(x)\n",
    "        x = BatchNormalization(name=prefix + '_sepconv1_bn')(x)\n",
    "        x = Activation('relu', name=prefix + '_sepconv2_act')(x)\n",
    "        x = SeparableConv2D(728, (3, 3), padding='same', use_bias=False, name=prefix + '_sepconv2')(x)\n",
    "        x = BatchNormalization(name=prefix + '_sepconv2_bn')(x)\n",
    "        x = Activation('relu', name=prefix + '_sepconv3_act')(x)\n",
    "        x = SeparableConv2D(728, (3, 3), padding='same', use_bias=False, name=prefix + '_sepconv3')(x)\n",
    "        x = BatchNormalization(name=prefix + '_sepconv3_bn')(x)\n",
    "\n",
    "        x = layers.add([x, residual])\n",
    "\n",
    "    residual = Conv2D(1024, (1, 1), strides=(2, 2),\n",
    "                      padding='same', use_bias=False)(x)\n",
    "    residual = BatchNormalization()(residual)\n",
    "\n",
    "    x = Activation('relu', name='block13_sepconv1_act')(x)\n",
    "    x = SeparableConv2D(728, (3, 3), padding='same', use_bias=False, name='block13_sepconv1')(x)\n",
    "    x = BatchNormalization(name='block13_sepconv1_bn')(x)\n",
    "    x = Activation('relu', name='block13_sepconv2_act')(x)\n",
    "    x = SeparableConv2D(1024, (3, 3), padding='same', use_bias=False, name='block13_sepconv2')(x)\n",
    "    x = BatchNormalization(name='block13_sepconv2_bn')(x)\n",
    "\n",
    "    x = MaxPooling2D((3, 3), strides=(2, 2), padding='same', name='block13_pool')(x)\n",
    "    x = layers.add([x, residual])\n",
    "\n",
    "    x = SeparableConv2D(1536, (3, 3), padding='same', use_bias=False, name='block14_sepconv1')(x)\n",
    "    x = BatchNormalization(name='block14_sepconv1_bn')(x)\n",
    "    x = Activation('relu', name='block14_sepconv1_act')(x)\n",
    "\n",
    "    x = SeparableConv2D(2048, (3, 3), padding='same', use_bias=False, name='block14_sepconv2')(x)\n",
    "    x = BatchNormalization(name='block14_sepconv2_bn')(x)\n",
    "    x = Activation('relu', name='block14_sepconv2_act')(x)\n",
    "\n",
    "    x = GlobalAveragePooling2D(name='avg_pool')(x)\n",
    "    x = Dropout(dropout)(x)\n",
    "    x = Dense(2, activation='softmax', name='predictions')(x)\n",
    "    model = Model(inputs, x, name='xception')\n",
    "    return model\n",
    "\n",
    "\n",
    "'''\n",
    "def xception(dropout):\n",
    "    base_model = Xception(include_top=False, input_shape = (240, 320, 1), pooling='avg')\n",
    "    x = base_model.output\n",
    "    x = Flatten()(x)\n",
    "    x = Dropout(dropout)(x) # drop prob\n",
    "    predictions = Dense(2, activation='softmax')(x)\n",
    "    model = Model(inputs=base_model.input, outputs=predictions, name='linear')\n",
    "    return model\n",
    "'''"
   ]
  },
  {
   "cell_type": "code",
   "execution_count": 10,
   "metadata": {
    "collapsed": false
   },
   "outputs": [],
   "source": [
    "def vanillacnn(dropout):\n",
    "    inputs = Input(shape=(240, 320, 1)) \n",
    "    x = Conv2D(32, (3, 3), strides=(2, 2), padding='same')(inputs)\n",
    "    x = BatchNormalization()(x)\n",
    "    x = Activation('relu')(x)\n",
    "    x = MaxPooling2D((2, 2), strides=(2, 2), padding='same')(x)\n",
    "    x = Dropout(dropout)(x)\n",
    "    \n",
    "    x = Conv2D(64, (3, 3), strides=(2, 2), padding='same')(x)\n",
    "    x = BatchNormalization()(x)\n",
    "    x = Activation('relu')(x)\n",
    "    x = MaxPooling2D((2, 2), strides=(2, 2), padding='same')(x)\n",
    "    x = Dropout(dropout)(x)\n",
    "    \n",
    "    x = Conv2D(128, (3, 3), strides=(2, 2), padding='same')(x)\n",
    "    x = BatchNormalization()(x)\n",
    "    x = Activation('relu')(x)\n",
    "    x = MaxPooling2D((2, 2), strides=(2, 2), padding='same')(x)\n",
    "    x = Dropout(dropout)(x)\n",
    "    \n",
    "    x = Conv2D(256, (3, 3), strides=(2, 2), padding='same')(x)\n",
    "    x = BatchNormalization()(x)\n",
    "    x = Activation('relu')(x)\n",
    "    x = MaxPooling2D((2, 2), strides=(2, 2), padding='same')(x)\n",
    "    \n",
    "    x = Flatten()(x)\n",
    "    x = Dropout(dropout)(x)\n",
    "    x = Dense(2, activation='softmax', name='predictions')(x)\n",
    "    model = Model(inputs, x, name='xception')\n",
    "    return model\n",
    "    \n",
    "    "
   ]
  },
  {
   "cell_type": "code",
   "execution_count": 11,
   "metadata": {
    "collapsed": false,
    "scrolled": true
   },
   "outputs": [
    {
     "name": "stdout",
     "output_type": "stream",
     "text": [
      "_________________________________________________________________\n",
      "Layer (type)                 Output Shape              Param #   \n",
      "=================================================================\n",
      "input_1 (InputLayer)         (None, 240, 320, 1)       0         \n",
      "_________________________________________________________________\n",
      "conv2d_1 (Conv2D)            (None, 120, 160, 32)      320       \n",
      "_________________________________________________________________\n",
      "batch_normalization_1 (Batch (None, 120, 160, 32)      128       \n",
      "_________________________________________________________________\n",
      "activation_1 (Activation)    (None, 120, 160, 32)      0         \n",
      "_________________________________________________________________\n",
      "max_pooling2d_1 (MaxPooling2 (None, 60, 80, 32)        0         \n",
      "_________________________________________________________________\n",
      "dropout_1 (Dropout)          (None, 60, 80, 32)        0         \n",
      "_________________________________________________________________\n",
      "conv2d_2 (Conv2D)            (None, 30, 40, 64)        18496     \n",
      "_________________________________________________________________\n",
      "batch_normalization_2 (Batch (None, 30, 40, 64)        256       \n",
      "_________________________________________________________________\n",
      "activation_2 (Activation)    (None, 30, 40, 64)        0         \n",
      "_________________________________________________________________\n",
      "max_pooling2d_2 (MaxPooling2 (None, 15, 20, 64)        0         \n",
      "_________________________________________________________________\n",
      "dropout_2 (Dropout)          (None, 15, 20, 64)        0         \n",
      "_________________________________________________________________\n",
      "conv2d_3 (Conv2D)            (None, 8, 10, 128)        73856     \n",
      "_________________________________________________________________\n",
      "batch_normalization_3 (Batch (None, 8, 10, 128)        512       \n",
      "_________________________________________________________________\n",
      "activation_3 (Activation)    (None, 8, 10, 128)        0         \n",
      "_________________________________________________________________\n",
      "max_pooling2d_3 (MaxPooling2 (None, 4, 5, 128)         0         \n",
      "_________________________________________________________________\n",
      "dropout_3 (Dropout)          (None, 4, 5, 128)         0         \n",
      "_________________________________________________________________\n",
      "conv2d_4 (Conv2D)            (None, 2, 3, 256)         295168    \n",
      "_________________________________________________________________\n",
      "batch_normalization_4 (Batch (None, 2, 3, 256)         1024      \n",
      "_________________________________________________________________\n",
      "activation_4 (Activation)    (None, 2, 3, 256)         0         \n",
      "_________________________________________________________________\n",
      "max_pooling2d_4 (MaxPooling2 (None, 1, 2, 256)         0         \n",
      "_________________________________________________________________\n",
      "flatten_1 (Flatten)          (None, 512)               0         \n",
      "_________________________________________________________________\n",
      "dropout_4 (Dropout)          (None, 512)               0         \n",
      "_________________________________________________________________\n",
      "predictions (Dense)          (None, 2)                 1026      \n",
      "=================================================================\n",
      "Total params: 390,786\n",
      "Trainable params: 389,826\n",
      "Non-trainable params: 960\n",
      "_________________________________________________________________\n"
     ]
    }
   ],
   "source": [
    "model_name = 'model' + sensor + '.h5'\n",
    "model = vanillacnn(0.5)\n",
    "\n",
    "adam = keras.optimizers.Adam(lr=0.001)\n",
    "model.compile(optimizer=adam, loss='sparse_categorical_crossentropy', metrics=[metrics.sparse_categorical_accuracy])\n",
    "\n",
    "\n",
    "checkpoint = ModelCheckpoint(model_name, monitor='val_loss', verbose=1, save_best_only=True, mode='min')\n",
    "stop = EarlyStopping(patience=20, verbose=1)\n",
    "\n",
    "callbacks_list = [checkpoint, stop]\n",
    "\n",
    "model.summary()\n"
   ]
  },
  {
   "cell_type": "code",
   "execution_count": 12,
   "metadata": {
    "collapsed": false,
    "scrolled": false
   },
   "outputs": [
    {
     "name": "stdout",
     "output_type": "stream",
     "text": [
      "Train on 7160 samples, validate on 1791 samples\n",
      "Epoch 1/1000\n",
      "7136/7160 [============================>.] - ETA: 0s - loss: 0.4143 - sparse_categorical_accuracy: 0.8611Epoch 00000: val_loss improved from inf to 0.49264, saving model to model52.h5\n",
      "7160/7160 [==============================] - 24s - loss: 0.4145 - sparse_categorical_accuracy: 0.8609 - val_loss: 0.4926 - val_sparse_categorical_accuracy: 0.8498\n",
      "Epoch 2/1000\n",
      "7136/7160 [============================>.] - ETA: 0s - loss: 0.2595 - sparse_categorical_accuracy: 0.8966Epoch 00001: val_loss did not improve\n",
      "7160/7160 [==============================] - 22s - loss: 0.2594 - sparse_categorical_accuracy: 0.8965 - val_loss: 0.6399 - val_sparse_categorical_accuracy: 0.8498\n",
      "Epoch 3/1000\n",
      "7136/7160 [============================>.] - ETA: 0s - loss: 0.2066 - sparse_categorical_accuracy: 0.9154Epoch 00002: val_loss improved from 0.49264 to 0.40420, saving model to model52.h5\n",
      "7160/7160 [==============================] - 22s - loss: 0.2063 - sparse_categorical_accuracy: 0.9154 - val_loss: 0.4042 - val_sparse_categorical_accuracy: 0.8498\n",
      "Epoch 4/1000\n",
      "7136/7160 [============================>.] - ETA: 0s - loss: 0.1842 - sparse_categorical_accuracy: 0.9233Epoch 00003: val_loss improved from 0.40420 to 0.13058, saving model to model52.h5\n",
      "7160/7160 [==============================] - 22s - loss: 0.1842 - sparse_categorical_accuracy: 0.9233 - val_loss: 0.1306 - val_sparse_categorical_accuracy: 0.9447\n",
      "Epoch 5/1000\n",
      "7136/7160 [============================>.] - ETA: 0s - loss: 0.1701 - sparse_categorical_accuracy: 0.9343Epoch 00004: val_loss did not improve\n",
      "7160/7160 [==============================] - 22s - loss: 0.1699 - sparse_categorical_accuracy: 0.9344 - val_loss: 0.1735 - val_sparse_categorical_accuracy: 0.9202\n",
      "Epoch 6/1000\n",
      "7136/7160 [============================>.] - ETA: 0s - loss: 0.1498 - sparse_categorical_accuracy: 0.9397Epoch 00005: val_loss did not improve\n",
      "7160/7160 [==============================] - 22s - loss: 0.1494 - sparse_categorical_accuracy: 0.9398 - val_loss: 0.1543 - val_sparse_categorical_accuracy: 0.9313\n",
      "Epoch 7/1000\n",
      "7136/7160 [============================>.] - ETA: 0s - loss: 0.1480 - sparse_categorical_accuracy: 0.9434Epoch 00006: val_loss did not improve\n",
      "7160/7160 [==============================] - 22s - loss: 0.1477 - sparse_categorical_accuracy: 0.9434 - val_loss: 0.1599 - val_sparse_categorical_accuracy: 0.9190\n",
      "Epoch 8/1000\n",
      "7136/7160 [============================>.] - ETA: 0s - loss: 0.1313 - sparse_categorical_accuracy: 0.9455Epoch 00007: val_loss improved from 0.13058 to 0.11371, saving model to model52.h5\n",
      "7160/7160 [==============================] - 22s - loss: 0.1313 - sparse_categorical_accuracy: 0.9455 - val_loss: 0.1137 - val_sparse_categorical_accuracy: 0.9486\n",
      "Epoch 9/1000\n",
      "7136/7160 [============================>.] - ETA: 0s - loss: 0.1269 - sparse_categorical_accuracy: 0.9504Epoch 00008: val_loss improved from 0.11371 to 0.10299, saving model to model52.h5\n",
      "7160/7160 [==============================] - 22s - loss: 0.1267 - sparse_categorical_accuracy: 0.9506 - val_loss: 0.1030 - val_sparse_categorical_accuracy: 0.9570\n",
      "Epoch 10/1000\n",
      "7136/7160 [============================>.] - ETA: 0s - loss: 0.1241 - sparse_categorical_accuracy: 0.9494Epoch 00009: val_loss improved from 0.10299 to 0.09560, saving model to model52.h5\n",
      "7160/7160 [==============================] - 22s - loss: 0.1244 - sparse_categorical_accuracy: 0.9493 - val_loss: 0.0956 - val_sparse_categorical_accuracy: 0.9604\n",
      "Epoch 11/1000\n",
      "7136/7160 [============================>.] - ETA: 0s - loss: 0.1186 - sparse_categorical_accuracy: 0.9535Epoch 00010: val_loss improved from 0.09560 to 0.09510, saving model to model52.h5\n",
      "7160/7160 [==============================] - 22s - loss: 0.1186 - sparse_categorical_accuracy: 0.9534 - val_loss: 0.0951 - val_sparse_categorical_accuracy: 0.9609\n",
      "Epoch 12/1000\n",
      "7136/7160 [============================>.] - ETA: 0s - loss: 0.1217 - sparse_categorical_accuracy: 0.9547Epoch 00011: val_loss improved from 0.09510 to 0.09248, saving model to model52.h5\n",
      "7160/7160 [==============================] - 22s - loss: 0.1214 - sparse_categorical_accuracy: 0.9549 - val_loss: 0.0925 - val_sparse_categorical_accuracy: 0.9604\n",
      "Epoch 13/1000\n",
      "7136/7160 [============================>.] - ETA: 0s - loss: 0.1121 - sparse_categorical_accuracy: 0.9550Epoch 00012: val_loss did not improve\n",
      "7160/7160 [==============================] - 22s - loss: 0.1118 - sparse_categorical_accuracy: 0.9552 - val_loss: 0.0973 - val_sparse_categorical_accuracy: 0.9553\n",
      "Epoch 14/1000\n",
      "7136/7160 [============================>.] - ETA: 0s - loss: 0.1147 - sparse_categorical_accuracy: 0.9538Epoch 00013: val_loss did not improve\n",
      "7160/7160 [==============================] - 22s - loss: 0.1153 - sparse_categorical_accuracy: 0.9535 - val_loss: 0.0950 - val_sparse_categorical_accuracy: 0.9592\n",
      "Epoch 15/1000\n",
      "7136/7160 [============================>.] - ETA: 0s - loss: 0.1095 - sparse_categorical_accuracy: 0.9561Epoch 00014: val_loss did not improve\n",
      "7160/7160 [==============================] - 22s - loss: 0.1097 - sparse_categorical_accuracy: 0.9560 - val_loss: 0.1584 - val_sparse_categorical_accuracy: 0.9274\n",
      "Epoch 16/1000\n",
      "7136/7160 [============================>.] - ETA: 0s - loss: 0.1040 - sparse_categorical_accuracy: 0.9581Epoch 00015: val_loss did not improve\n",
      "7160/7160 [==============================] - 22s - loss: 0.1038 - sparse_categorical_accuracy: 0.9581 - val_loss: 0.2294 - val_sparse_categorical_accuracy: 0.8861\n",
      "Epoch 17/1000\n",
      "7136/7160 [============================>.] - ETA: 0s - loss: 0.1041 - sparse_categorical_accuracy: 0.9574Epoch 00016: val_loss did not improve\n",
      "7160/7160 [==============================] - 22s - loss: 0.1039 - sparse_categorical_accuracy: 0.9575 - val_loss: 0.1350 - val_sparse_categorical_accuracy: 0.9397\n",
      "Epoch 18/1000\n",
      "7136/7160 [============================>.] - ETA: 0s - loss: 0.0983 - sparse_categorical_accuracy: 0.9624Epoch 00017: val_loss improved from 0.09248 to 0.08715, saving model to model52.h5\n",
      "7160/7160 [==============================] - 22s - loss: 0.0987 - sparse_categorical_accuracy: 0.9624 - val_loss: 0.0871 - val_sparse_categorical_accuracy: 0.9648\n",
      "Epoch 19/1000\n",
      "7136/7160 [============================>.] - ETA: 0s - loss: 0.0987 - sparse_categorical_accuracy: 0.9613Epoch 00018: val_loss did not improve\n",
      "7160/7160 [==============================] - 22s - loss: 0.0987 - sparse_categorical_accuracy: 0.9613 - val_loss: 0.1313 - val_sparse_categorical_accuracy: 0.9408\n",
      "Epoch 20/1000\n",
      "7136/7160 [============================>.] - ETA: 0s - loss: 0.1001 - sparse_categorical_accuracy: 0.9602Epoch 00019: val_loss improved from 0.08715 to 0.08059, saving model to model52.h5\n",
      "7160/7160 [==============================] - 22s - loss: 0.1003 - sparse_categorical_accuracy: 0.9602 - val_loss: 0.0806 - val_sparse_categorical_accuracy: 0.9676\n",
      "Epoch 21/1000\n",
      "7136/7160 [============================>.] - ETA: 0s - loss: 0.0973 - sparse_categorical_accuracy: 0.9610Epoch 00020: val_loss did not improve\n",
      "7160/7160 [==============================] - 22s - loss: 0.0973 - sparse_categorical_accuracy: 0.9610 - val_loss: 0.0859 - val_sparse_categorical_accuracy: 0.9648\n",
      "Epoch 22/1000\n",
      "7136/7160 [============================>.] - ETA: 0s - loss: 0.0940 - sparse_categorical_accuracy: 0.9602Epoch 00021: val_loss did not improve\n",
      "7160/7160 [==============================] - 22s - loss: 0.0945 - sparse_categorical_accuracy: 0.9601 - val_loss: 0.0833 - val_sparse_categorical_accuracy: 0.9587\n",
      "Epoch 23/1000\n",
      "7136/7160 [============================>.] - ETA: 0s - loss: 0.0971 - sparse_categorical_accuracy: 0.9619Epoch 00022: val_loss did not improve\n",
      "7160/7160 [==============================] - 22s - loss: 0.0969 - sparse_categorical_accuracy: 0.9620 - val_loss: 0.1012 - val_sparse_categorical_accuracy: 0.9525\n",
      "Epoch 24/1000\n",
      "7136/7160 [============================>.] - ETA: 0s - loss: 0.0895 - sparse_categorical_accuracy: 0.9645Epoch 00023: val_loss did not improve\n",
      "7160/7160 [==============================] - 22s - loss: 0.0895 - sparse_categorical_accuracy: 0.9645 - val_loss: 0.1327 - val_sparse_categorical_accuracy: 0.9386\n",
      "Epoch 25/1000\n",
      "7136/7160 [============================>.] - ETA: 0s - loss: 0.0869 - sparse_categorical_accuracy: 0.9633Epoch 00024: val_loss did not improve\n",
      "7160/7160 [==============================] - 22s - loss: 0.0871 - sparse_categorical_accuracy: 0.9633 - val_loss: 0.1025 - val_sparse_categorical_accuracy: 0.9531\n",
      "Epoch 26/1000\n",
      "7136/7160 [============================>.] - ETA: 0s - loss: 0.0876 - sparse_categorical_accuracy: 0.9634Epoch 00025: val_loss did not improve\n",
      "7160/7160 [==============================] - 22s - loss: 0.0874 - sparse_categorical_accuracy: 0.9635 - val_loss: 0.0850 - val_sparse_categorical_accuracy: 0.9620\n",
      "Epoch 27/1000\n",
      "7136/7160 [============================>.] - ETA: 0s - loss: 0.0878 - sparse_categorical_accuracy: 0.9634Epoch 00026: val_loss improved from 0.08059 to 0.07688, saving model to model52.h5\n",
      "7160/7160 [==============================] - 22s - loss: 0.0882 - sparse_categorical_accuracy: 0.9633 - val_loss: 0.0769 - val_sparse_categorical_accuracy: 0.9643\n",
      "Epoch 28/1000\n",
      "7136/7160 [============================>.] - ETA: 0s - loss: 0.0841 - sparse_categorical_accuracy: 0.9661Epoch 00027: val_loss did not improve\n",
      "7160/7160 [==============================] - 22s - loss: 0.0840 - sparse_categorical_accuracy: 0.9661 - val_loss: 0.1361 - val_sparse_categorical_accuracy: 0.9425\n",
      "Epoch 29/1000\n",
      "7136/7160 [============================>.] - ETA: 0s - loss: 0.0879 - sparse_categorical_accuracy: 0.9657Epoch 00028: val_loss did not improve\n",
      "7160/7160 [==============================] - 22s - loss: 0.0881 - sparse_categorical_accuracy: 0.9655 - val_loss: 0.2465 - val_sparse_categorical_accuracy: 0.8939\n",
      "Epoch 30/1000\n",
      "7136/7160 [============================>.] - ETA: 0s - loss: 0.0831 - sparse_categorical_accuracy: 0.9648Epoch 00029: val_loss did not improve\n",
      "7160/7160 [==============================] - 22s - loss: 0.0833 - sparse_categorical_accuracy: 0.9647 - val_loss: 0.0809 - val_sparse_categorical_accuracy: 0.9626\n",
      "Epoch 31/1000\n",
      "7136/7160 [============================>.] - ETA: 0s - loss: 0.0856 - sparse_categorical_accuracy: 0.9661Epoch 00030: val_loss did not improve\n",
      "7160/7160 [==============================] - 22s - loss: 0.0856 - sparse_categorical_accuracy: 0.9661 - val_loss: 0.1815 - val_sparse_categorical_accuracy: 0.9218\n",
      "Epoch 32/1000\n",
      "7136/7160 [============================>.] - ETA: 0s - loss: 0.0825 - sparse_categorical_accuracy: 0.9658Epoch 00031: val_loss did not improve\n",
      "7160/7160 [==============================] - 22s - loss: 0.0835 - sparse_categorical_accuracy: 0.9654 - val_loss: 0.1060 - val_sparse_categorical_accuracy: 0.9537\n",
      "Epoch 33/1000\n",
      "7136/7160 [============================>.] - ETA: 0s - loss: 0.0879 - sparse_categorical_accuracy: 0.9640Epoch 00032: val_loss did not improve\n",
      "7160/7160 [==============================] - 22s - loss: 0.0878 - sparse_categorical_accuracy: 0.9640 - val_loss: 0.0995 - val_sparse_categorical_accuracy: 0.9542\n",
      "Epoch 34/1000\n",
      "7136/7160 [============================>.] - ETA: 0s - loss: 0.0828 - sparse_categorical_accuracy: 0.9638Epoch 00033: val_loss did not improve\n",
      "7160/7160 [==============================] - 22s - loss: 0.0827 - sparse_categorical_accuracy: 0.9640 - val_loss: 0.4033 - val_sparse_categorical_accuracy: 0.8587\n",
      "Epoch 35/1000\n",
      "7136/7160 [============================>.] - ETA: 0s - loss: 0.0781 - sparse_categorical_accuracy: 0.9686Epoch 00034: val_loss did not improve\n",
      "7160/7160 [==============================] - 22s - loss: 0.0779 - sparse_categorical_accuracy: 0.9687 - val_loss: 0.0975 - val_sparse_categorical_accuracy: 0.9553\n",
      "Epoch 36/1000\n",
      "7136/7160 [============================>.] - ETA: 0s - loss: 0.0743 - sparse_categorical_accuracy: 0.9699Epoch 00035: val_loss improved from 0.07688 to 0.07446, saving model to model52.h5\n",
      "7160/7160 [==============================] - 22s - loss: 0.0744 - sparse_categorical_accuracy: 0.9698 - val_loss: 0.0745 - val_sparse_categorical_accuracy: 0.9626\n",
      "Epoch 37/1000\n",
      "7136/7160 [============================>.] - ETA: 0s - loss: 0.0832 - sparse_categorical_accuracy: 0.9662Epoch 00036: val_loss did not improve\n",
      "7160/7160 [==============================] - 22s - loss: 0.0832 - sparse_categorical_accuracy: 0.9661 - val_loss: 0.0785 - val_sparse_categorical_accuracy: 0.9615\n",
      "Epoch 38/1000\n",
      "7136/7160 [============================>.] - ETA: 0s - loss: 0.0760 - sparse_categorical_accuracy: 0.9680Epoch 00037: val_loss improved from 0.07446 to 0.07349, saving model to model52.h5\n",
      "7160/7160 [==============================] - 22s - loss: 0.0759 - sparse_categorical_accuracy: 0.9680 - val_loss: 0.0735 - val_sparse_categorical_accuracy: 0.9626\n",
      "Epoch 39/1000\n",
      "7136/7160 [============================>.] - ETA: 0s - loss: 0.0758 - sparse_categorical_accuracy: 0.9680Epoch 00038: val_loss did not improve\n",
      "7160/7160 [==============================] - 22s - loss: 0.0756 - sparse_categorical_accuracy: 0.9682 - val_loss: 0.1045 - val_sparse_categorical_accuracy: 0.9564\n",
      "Epoch 40/1000\n",
      "7136/7160 [============================>.] - ETA: 0s - loss: 0.0754 - sparse_categorical_accuracy: 0.9672Epoch 00039: val_loss did not improve\n",
      "7160/7160 [==============================] - 22s - loss: 0.0752 - sparse_categorical_accuracy: 0.9673 - val_loss: 0.0786 - val_sparse_categorical_accuracy: 0.9637\n",
      "Epoch 41/1000\n",
      "7136/7160 [============================>.] - ETA: 0s - loss: 0.0715 - sparse_categorical_accuracy: 0.9706Epoch 00040: val_loss did not improve\n",
      "7160/7160 [==============================] - 22s - loss: 0.0713 - sparse_categorical_accuracy: 0.9707 - val_loss: 0.0815 - val_sparse_categorical_accuracy: 0.9615\n",
      "Epoch 42/1000\n",
      "7136/7160 [============================>.] - ETA: 0s - loss: 0.0746 - sparse_categorical_accuracy: 0.9672Epoch 00041: val_loss did not improve\n",
      "7160/7160 [==============================] - 22s - loss: 0.0746 - sparse_categorical_accuracy: 0.9672 - val_loss: 0.1039 - val_sparse_categorical_accuracy: 0.9509\n",
      "Epoch 43/1000\n",
      "7136/7160 [============================>.] - ETA: 0s - loss: 0.0756 - sparse_categorical_accuracy: 0.9669Epoch 00042: val_loss did not improve\n",
      "7160/7160 [==============================] - 22s - loss: 0.0754 - sparse_categorical_accuracy: 0.9670 - val_loss: 0.0756 - val_sparse_categorical_accuracy: 0.9631\n",
      "Epoch 44/1000\n",
      "7136/7160 [============================>.] - ETA: 0s - loss: 0.0681 - sparse_categorical_accuracy: 0.9696Epoch 00043: val_loss did not improve\n",
      "7160/7160 [==============================] - 22s - loss: 0.0683 - sparse_categorical_accuracy: 0.9696 - val_loss: 0.0823 - val_sparse_categorical_accuracy: 0.9620\n",
      "Epoch 45/1000\n",
      "7136/7160 [============================>.] - ETA: 0s - loss: 0.0669 - sparse_categorical_accuracy: 0.9717Epoch 00044: val_loss did not improve\n",
      "7160/7160 [==============================] - 22s - loss: 0.0671 - sparse_categorical_accuracy: 0.9716 - val_loss: 0.1315 - val_sparse_categorical_accuracy: 0.9442\n",
      "Epoch 46/1000\n",
      "7136/7160 [============================>.] - ETA: 0s - loss: 0.0680 - sparse_categorical_accuracy: 0.9702Epoch 00045: val_loss did not improve\n",
      "7160/7160 [==============================] - 22s - loss: 0.0682 - sparse_categorical_accuracy: 0.9700 - val_loss: 0.0742 - val_sparse_categorical_accuracy: 0.9626\n",
      "Epoch 47/1000\n",
      "7136/7160 [============================>.] - ETA: 0s - loss: 0.0614 - sparse_categorical_accuracy: 0.9755Epoch 00046: val_loss did not improve\n",
      "7160/7160 [==============================] - 22s - loss: 0.0613 - sparse_categorical_accuracy: 0.9756 - val_loss: 0.1584 - val_sparse_categorical_accuracy: 0.9319\n",
      "Epoch 48/1000\n",
      "7136/7160 [============================>.] - ETA: 0s - loss: 0.0690 - sparse_categorical_accuracy: 0.9704Epoch 00047: val_loss did not improve\n",
      "7160/7160 [==============================] - 22s - loss: 0.0694 - sparse_categorical_accuracy: 0.9704 - val_loss: 0.0906 - val_sparse_categorical_accuracy: 0.9604\n",
      "Epoch 49/1000\n",
      "7136/7160 [============================>.] - ETA: 0s - loss: 0.0694 - sparse_categorical_accuracy: 0.9706Epoch 00048: val_loss did not improve\n",
      "7160/7160 [==============================] - 22s - loss: 0.0693 - sparse_categorical_accuracy: 0.9705 - val_loss: 0.0796 - val_sparse_categorical_accuracy: 0.9598\n",
      "Epoch 50/1000\n",
      "7136/7160 [============================>.] - ETA: 0s - loss: 0.0689 - sparse_categorical_accuracy: 0.9707Epoch 00049: val_loss did not improve\n",
      "7160/7160 [==============================] - 23s - loss: 0.0689 - sparse_categorical_accuracy: 0.9707 - val_loss: 0.1024 - val_sparse_categorical_accuracy: 0.9525\n",
      "Epoch 51/1000\n",
      "7136/7160 [============================>.] - ETA: 0s - loss: 0.0691 - sparse_categorical_accuracy: 0.9692Epoch 00050: val_loss did not improve\n",
      "7160/7160 [==============================] - 22s - loss: 0.0689 - sparse_categorical_accuracy: 0.9693 - val_loss: 0.0843 - val_sparse_categorical_accuracy: 0.9604\n",
      "Epoch 52/1000\n",
      "7136/7160 [============================>.] - ETA: 0s - loss: 0.0636 - sparse_categorical_accuracy: 0.9724Epoch 00051: val_loss did not improve\n",
      "7160/7160 [==============================] - 22s - loss: 0.0634 - sparse_categorical_accuracy: 0.9725 - val_loss: 0.0913 - val_sparse_categorical_accuracy: 0.9581\n",
      "Epoch 53/1000\n",
      "7136/7160 [============================>.] - ETA: 0s - loss: 0.0655 - sparse_categorical_accuracy: 0.9727Epoch 00052: val_loss did not improve\n",
      "7160/7160 [==============================] - 23s - loss: 0.0661 - sparse_categorical_accuracy: 0.9725 - val_loss: 0.0754 - val_sparse_categorical_accuracy: 0.9609\n",
      "Epoch 54/1000\n",
      "7136/7160 [============================>.] - ETA: 0s - loss: 0.0646 - sparse_categorical_accuracy: 0.9709Epoch 00053: val_loss did not improve\n",
      "7160/7160 [==============================] - 22s - loss: 0.0646 - sparse_categorical_accuracy: 0.9708 - val_loss: 0.1315 - val_sparse_categorical_accuracy: 0.9447\n",
      "Epoch 55/1000\n",
      "7136/7160 [============================>.] - ETA: 0s - loss: 0.0672 - sparse_categorical_accuracy: 0.9716Epoch 00054: val_loss did not improve\n",
      "7160/7160 [==============================] - 22s - loss: 0.0674 - sparse_categorical_accuracy: 0.9714 - val_loss: 0.1170 - val_sparse_categorical_accuracy: 0.9509\n",
      "Epoch 56/1000\n",
      "7136/7160 [============================>.] - ETA: 0s - loss: 0.0606 - sparse_categorical_accuracy: 0.9731Epoch 00055: val_loss did not improve\n",
      "7160/7160 [==============================] - 22s - loss: 0.0604 - sparse_categorical_accuracy: 0.9732 - val_loss: 0.1201 - val_sparse_categorical_accuracy: 0.9525\n",
      "Epoch 57/1000\n",
      "7136/7160 [============================>.] - ETA: 0s - loss: 0.0603 - sparse_categorical_accuracy: 0.9741Epoch 00056: val_loss did not improve\n",
      "7160/7160 [==============================] - 22s - loss: 0.0603 - sparse_categorical_accuracy: 0.9742 - val_loss: 0.0762 - val_sparse_categorical_accuracy: 0.9598\n",
      "Epoch 58/1000\n",
      "7136/7160 [============================>.] - ETA: 0s - loss: 0.0610 - sparse_categorical_accuracy: 0.9720Epoch 00057: val_loss did not improve\n",
      "7160/7160 [==============================] - 22s - loss: 0.0608 - sparse_categorical_accuracy: 0.9721 - val_loss: 0.0798 - val_sparse_categorical_accuracy: 0.9604\n",
      "Epoch 59/1000\n",
      "7136/7160 [============================>.] - ETA: 0s - loss: 0.0634 - sparse_categorical_accuracy: 0.9749Epoch 00058: val_loss did not improve\n",
      "7160/7160 [==============================] - 23s - loss: 0.0632 - sparse_categorical_accuracy: 0.9750 - val_loss: 0.0742 - val_sparse_categorical_accuracy: 0.9609\n",
      "Epoch 00058: early stopping\n"
     ]
    },
    {
     "data": {
      "text/plain": [
       "<keras.callbacks.History at 0x7fda32323358>"
      ]
     },
     "execution_count": 12,
     "metadata": {},
     "output_type": "execute_result"
    }
   ],
   "source": [
    "model.fit(x=X_train, \n",
    "          y=y_train, \n",
    "          batch_size=32, \n",
    "          epochs=1000, \n",
    "          verbose=1, \n",
    "          callbacks=callbacks_list, \n",
    "          validation_data=(X_val, y_val), \n",
    "          shuffle=True)\n"
   ]
  },
  {
   "cell_type": "code",
   "execution_count": 13,
   "metadata": {
    "collapsed": false
   },
   "outputs": [
    {
     "name": "stdout",
     "output_type": "stream",
     "text": [
      "['loss', 'sparse_categorical_accuracy']\n",
      "7136/7160 [============================>.] - ETA: 0s"
     ]
    },
    {
     "data": {
      "text/plain": [
       "[0.04486248841214608, 0.97863128491620111]"
      ]
     },
     "execution_count": 13,
     "metadata": {},
     "output_type": "execute_result"
    }
   ],
   "source": [
    "from keras.models import load_model\n",
    "trained_model = load_model(model_name)\n",
    "print(trained_model.metrics_names)\n",
    "trained_model.evaluate(x=X_train, y=y_train)\n"
   ]
  },
  {
   "cell_type": "code",
   "execution_count": 14,
   "metadata": {
    "collapsed": false
   },
   "outputs": [
    {
     "name": "stdout",
     "output_type": "stream",
     "text": [
      "1760/1791 [============================>.] - ETA: 0s"
     ]
    },
    {
     "data": {
      "text/plain": [
       "[0.073490656057184453, 0.9625907310023113]"
      ]
     },
     "execution_count": 14,
     "metadata": {},
     "output_type": "execute_result"
    }
   ],
   "source": [
    "trained_model.evaluate(x=X_val, y=y_val)"
   ]
  },
  {
   "cell_type": "markdown",
   "metadata": {
    "collapsed": true
   },
   "source": [
    "    "
   ]
  }
 ],
 "metadata": {
  "kernelspec": {
   "display_name": "Python 3",
   "language": "python",
   "name": "python3"
  },
  "language_info": {
   "codemirror_mode": {
    "name": "ipython",
    "version": 3
   },
   "file_extension": ".py",
   "mimetype": "text/x-python",
   "name": "python",
   "nbconvert_exporter": "python",
   "pygments_lexer": "ipython3",
   "version": "3.5.2"
  }
 },
 "nbformat": 4,
 "nbformat_minor": 0
}
