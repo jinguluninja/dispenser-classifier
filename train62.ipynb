{
 "cells": [
  {
   "cell_type": "code",
   "execution_count": 1,
   "metadata": {
    "collapsed": false
   },
   "outputs": [
    {
     "name": "stderr",
     "output_type": "stream",
     "text": [
      "Using TensorFlow backend.\n"
     ]
    }
   ],
   "source": [
    "import os\n",
    "import keras\n",
    "import numpy as np\n",
    "np.random.seed(135109)"
   ]
  },
  {
   "cell_type": "code",
   "execution_count": 2,
   "metadata": {
    "collapsed": false
   },
   "outputs": [],
   "source": [
    "sensor = '62'"
   ]
  },
  {
   "cell_type": "code",
   "execution_count": 3,
   "metadata": {
    "collapsed": false
   },
   "outputs": [],
   "source": [
    "def dataset():\n",
    "    X = []\n",
    "    y = []\n",
    "    data_dir_0 = sorted(os.listdir(os.path.join('pac_data', sensor, '0')))   \n",
    "    i = 0\n",
    "    for f in data_dir_0:\n",
    "        if i % 100 == 0: print(i)\n",
    "        i += 1\n",
    "        X.append(np.load(os.path.join('pac_data', sensor, '0', f))['x'])\n",
    "        y.append(0)\n",
    "    X = np.asarray(X, dtype=np.float16)\n",
    "    y = np.asarray(y, dtype=int)\n",
    "    indices = np.arange(y.shape[0])\n",
    "    np.random.shuffle(indices)\n",
    "    X_train = X[indices[:int(0.8*len(indices))]]\n",
    "    y_train = y[indices[:int(0.8*len(indices))]]\n",
    "    X_val = X[indices[int(0.8*len(indices)):]]\n",
    "    y_val = y[indices[int(0.8*len(indices)):]]\n",
    "    labels_present = os.listdir(os.path.join('pac_data', sensor))\n",
    "    if '1' in labels_present:\n",
    "        X = []\n",
    "        y = []\n",
    "        data_dir_1 = sorted(os.listdir(os.path.join('pac_data', sensor, '1')))\n",
    "        i = 0\n",
    "        for f in data_dir_1:\n",
    "            if i % 100 == 0: print(i)\n",
    "            i += 1\n",
    "            X.append(np.load(os.path.join('pac_data', sensor, '1', f))['x'])\n",
    "            y.append(1)        \n",
    "        X = np.asarray(X, dtype=np.float16)\n",
    "        y = np.asarray(y, dtype=int)\n",
    "        indices = np.arange(y.shape[0])\n",
    "        np.random.shuffle(indices)\n",
    "        X_train = np.concatenate([X_train, X[indices[:int(0.8*len(indices))]]])\n",
    "        y_train = np.concatenate([y_train, y[indices[:int(0.8*len(indices))]]])\n",
    "        X_val = np.concatenate([X_val, X[indices[int(0.8*len(indices)):]]])\n",
    "        y_val = np.concatenate([y_val, y[indices[int(0.8*len(indices)):]]])\n",
    "    X_train = np.expand_dims(np.asarray(X_train, dtype=np.float16), axis=3)\n",
    "    y_train = np.asarray(y_train, dtype=int)\n",
    "    X_val = np.expand_dims(np.asarray(X_val, dtype=np.float16), axis=3)\n",
    "    y_val = np.asarray(y_val, dtype=int)\n",
    "    X_train /= 5.\n",
    "    X_val /= 5.\n",
    "    mean_arr = np.mean(X_train, axis = 0)\n",
    "    np.save(os.path.join('pac_data', sensor, 'mean.npy'), mean_arr)\n",
    "    X_train -= mean_arr \n",
    "    X_val -= mean_arr  \n",
    "    return X_train, y_train, X_val, y_val"
   ]
  },
  {
   "cell_type": "code",
   "execution_count": 4,
   "metadata": {
    "collapsed": false,
    "scrolled": true
   },
   "outputs": [
    {
     "name": "stdout",
     "output_type": "stream",
     "text": [
      "0\n",
      "100\n",
      "200\n",
      "300\n",
      "400\n",
      "500\n",
      "600\n",
      "700\n",
      "800\n",
      "900\n",
      "1000\n",
      "1100\n",
      "1200\n",
      "1300\n",
      "1400\n",
      "1500\n",
      "1600\n",
      "1700\n",
      "1800\n",
      "1900\n",
      "2000\n",
      "2100\n",
      "2200\n",
      "2300\n",
      "2400\n",
      "2500\n",
      "2600\n",
      "2700\n",
      "2800\n",
      "2900\n",
      "3000\n",
      "3100\n",
      "3200\n",
      "3300\n",
      "3400\n",
      "3500\n",
      "3600\n",
      "3700\n",
      "3800\n",
      "3900\n",
      "4000\n",
      "4100\n",
      "4200\n",
      "4300\n",
      "4400\n",
      "4500\n",
      "4600\n",
      "4700\n",
      "4800\n",
      "4900\n",
      "5000\n",
      "5100\n",
      "5200\n",
      "5300\n",
      "5400\n",
      "5500\n",
      "5600\n",
      "5700\n",
      "5800\n",
      "5900\n",
      "0\n",
      "100\n",
      "200\n",
      "300\n",
      "400\n",
      "500\n",
      "600\n",
      "700\n",
      "800\n",
      "900\n",
      "1000\n",
      "1100\n",
      "1200\n",
      "1300\n",
      "1400\n",
      "1500\n",
      "1600\n",
      "1700\n"
     ]
    }
   ],
   "source": [
    "X_train, y_train, X_val, y_val = dataset()"
   ]
  },
  {
   "cell_type": "code",
   "execution_count": 5,
   "metadata": {
    "collapsed": false
   },
   "outputs": [
    {
     "name": "stdout",
     "output_type": "stream",
     "text": [
      "(6148, 240, 320, 1) (6148,) (1538, 240, 320, 1) (1538,)\n"
     ]
    }
   ],
   "source": [
    "print(X_train.shape, y_train.shape, X_val.shape, y_val.shape)"
   ]
  },
  {
   "cell_type": "code",
   "execution_count": 6,
   "metadata": {
    "collapsed": false
   },
   "outputs": [
    {
     "name": "stdout",
     "output_type": "stream",
     "text": [
      "['/gpu:0']\n"
     ]
    }
   ],
   "source": [
    "from tensorflow.python.client import device_lib\n",
    "\n",
    "def get_available_gpus():\n",
    "    local_device_protos = device_lib.list_local_devices()\n",
    "    return [x.name for x in local_device_protos if x.device_type == 'GPU']\n",
    "\n",
    "print(get_available_gpus())"
   ]
  },
  {
   "cell_type": "code",
   "execution_count": 7,
   "metadata": {
    "collapsed": false
   },
   "outputs": [],
   "source": [
    "\n",
    "from keras.models import Sequential\n",
    "from keras.layers import TimeDistributed, GlobalAveragePooling2D, Activation, Dense, Input\n",
    "from keras.layers import BatchNormalization, Conv2D, MaxPooling2D, AveragePooling2D, GlobalAveragePooling2D\n",
    "from keras.layers import GlobalMaxPooling2D\n",
    "from keras.layers.recurrent import LSTM\n",
    "from keras.callbacks import ModelCheckpoint, ReduceLROnPlateau, EarlyStopping\n",
    "from keras.layers import Dropout, Flatten\n",
    "from keras.layers import concatenate\n",
    "from keras import regularizers\n",
    "from keras import initializers\n",
    "from keras import constraints\n",
    "from keras.models import Model\n",
    "from keras import backend as K\n",
    "from keras.utils.layer_utils import convert_all_kernels_in_model\n",
    "from keras.utils.data_utils import get_file\n",
    "from keras.utils import conv_utils\n",
    "from keras.engine.topology import get_source_inputs\n",
    "from keras.engine import InputSpec\n",
    "from keras.applications.xception import Xception\n",
    "from keras import metrics"
   ]
  },
  {
   "cell_type": "code",
   "execution_count": 8,
   "metadata": {
    "collapsed": true
   },
   "outputs": [],
   "source": [
    "#linear\n",
    "def linear(dropout):\n",
    "    inputs = Input(shape=(240, 320, 1))\n",
    "    x = Flatten()(inputs)\n",
    "    x = Dropout(dropout)(x)\n",
    "    x = Dense(2, activation='softmax')(x)\n",
    "    model = Model(inputs, x, name='linear')\n",
    "    return model"
   ]
  },
  {
   "cell_type": "code",
   "execution_count": 9,
   "metadata": {
    "collapsed": false
   },
   "outputs": [
    {
     "data": {
      "text/plain": [
       "\"\\ndef xception(dropout):\\n    base_model = Xception(include_top=False, input_shape = (240, 320, 1), pooling='avg')\\n    x = base_model.output\\n    x = Flatten()(x)\\n    x = Dropout(dropout)(x) # drop prob\\n    predictions = Dense(2, activation='softmax')(x)\\n    model = Model(inputs=base_model.input, outputs=predictions, name='linear')\\n    return model\\n\""
      ]
     },
     "execution_count": 9,
     "metadata": {},
     "output_type": "execute_result"
    }
   ],
   "source": [
    "from keras import layers\n",
    "from keras.layers import Activation\n",
    "from keras.layers import SeparableConv2D\n",
    "\n",
    "def xception(dropout):\n",
    "    inputs = Input(shape=(240, 320, 1))    \n",
    "\n",
    "    x = Conv2D(32, (3, 3), padding='same', strides=(2, 2), use_bias=False, name='block1_conv1')(inputs)\n",
    "    x = BatchNormalization(name='block1_conv1_bn')(x)\n",
    "    x = Activation('relu', name='block1_conv1_act')(x)\n",
    "    x = Conv2D(64, (3, 3), padding='same', use_bias=False, name='block1_conv2')(x)\n",
    "    x = BatchNormalization(name='block1_conv2_bn')(x)\n",
    "    x = Activation('relu', name='block1_conv2_act')(x)\n",
    "\n",
    "    residual = Conv2D(128, (1, 1), strides=(2, 2),\n",
    "                      padding='same', use_bias=False)(x)\n",
    "    residual = BatchNormalization()(residual)\n",
    "\n",
    "    x = SeparableConv2D(128, (3, 3), padding='same', use_bias=False, name='block2_sepconv1')(x)\n",
    "    x = BatchNormalization(name='block2_sepconv1_bn')(x)\n",
    "    x = Activation('relu', name='block2_sepconv2_act')(x)\n",
    "    x = SeparableConv2D(128, (3, 3), padding='same', use_bias=False, name='block2_sepconv2')(x)\n",
    "    x = BatchNormalization(name='block2_sepconv2_bn')(x)\n",
    "\n",
    "    x = MaxPooling2D((3, 3), strides=(2, 2), padding='same', name='block2_pool')(x)\n",
    "    x = layers.add([x, residual])\n",
    "\n",
    "    residual = Conv2D(256, (1, 1), strides=(2, 2),\n",
    "                      padding='same', use_bias=False)(x)\n",
    "    residual = BatchNormalization()(residual)\n",
    "\n",
    "    x = Activation('relu', name='block3_sepconv1_act')(x)\n",
    "    x = SeparableConv2D(256, (3, 3), padding='same', use_bias=False, name='block3_sepconv1')(x)\n",
    "    x = BatchNormalization(name='block3_sepconv1_bn')(x)\n",
    "    x = Activation('relu', name='block3_sepconv2_act')(x)\n",
    "    x = SeparableConv2D(256, (3, 3), padding='same', use_bias=False, name='block3_sepconv2')(x)\n",
    "    x = BatchNormalization(name='block3_sepconv2_bn')(x)\n",
    "\n",
    "    x = MaxPooling2D((3, 3), strides=(2, 2), padding='same', name='block3_pool')(x)\n",
    "    x = layers.add([x, residual])\n",
    "\n",
    "    residual = Conv2D(728, (1, 1), strides=(2, 2),\n",
    "                      padding='same', use_bias=False)(x)\n",
    "    residual = BatchNormalization()(residual)\n",
    "\n",
    "    x = Activation('relu', name='block4_sepconv1_act')(x)\n",
    "    x = SeparableConv2D(728, (3, 3), padding='same', use_bias=False, name='block4_sepconv1')(x)\n",
    "    x = BatchNormalization(name='block4_sepconv1_bn')(x)\n",
    "    x = Activation('relu', name='block4_sepconv2_act')(x)\n",
    "    x = SeparableConv2D(728, (3, 3), padding='same', use_bias=False, name='block4_sepconv2')(x)\n",
    "    x = BatchNormalization(name='block4_sepconv2_bn')(x)\n",
    "\n",
    "    x = MaxPooling2D((3, 3), strides=(2, 2), padding='same', name='block4_pool')(x)\n",
    "    x = layers.add([x, residual])\n",
    "\n",
    "    for i in range(8):\n",
    "        residual = x\n",
    "        prefix = 'block' + str(i + 5)\n",
    "\n",
    "        x = Activation('relu', name=prefix + '_sepconv1_act')(x)\n",
    "        x = SeparableConv2D(728, (3, 3), padding='same', use_bias=False, name=prefix + '_sepconv1')(x)\n",
    "        x = BatchNormalization(name=prefix + '_sepconv1_bn')(x)\n",
    "        x = Activation('relu', name=prefix + '_sepconv2_act')(x)\n",
    "        x = SeparableConv2D(728, (3, 3), padding='same', use_bias=False, name=prefix + '_sepconv2')(x)\n",
    "        x = BatchNormalization(name=prefix + '_sepconv2_bn')(x)\n",
    "        x = Activation('relu', name=prefix + '_sepconv3_act')(x)\n",
    "        x = SeparableConv2D(728, (3, 3), padding='same', use_bias=False, name=prefix + '_sepconv3')(x)\n",
    "        x = BatchNormalization(name=prefix + '_sepconv3_bn')(x)\n",
    "\n",
    "        x = layers.add([x, residual])\n",
    "\n",
    "    residual = Conv2D(1024, (1, 1), strides=(2, 2),\n",
    "                      padding='same', use_bias=False)(x)\n",
    "    residual = BatchNormalization()(residual)\n",
    "\n",
    "    x = Activation('relu', name='block13_sepconv1_act')(x)\n",
    "    x = SeparableConv2D(728, (3, 3), padding='same', use_bias=False, name='block13_sepconv1')(x)\n",
    "    x = BatchNormalization(name='block13_sepconv1_bn')(x)\n",
    "    x = Activation('relu', name='block13_sepconv2_act')(x)\n",
    "    x = SeparableConv2D(1024, (3, 3), padding='same', use_bias=False, name='block13_sepconv2')(x)\n",
    "    x = BatchNormalization(name='block13_sepconv2_bn')(x)\n",
    "\n",
    "    x = MaxPooling2D((3, 3), strides=(2, 2), padding='same', name='block13_pool')(x)\n",
    "    x = layers.add([x, residual])\n",
    "\n",
    "    x = SeparableConv2D(1536, (3, 3), padding='same', use_bias=False, name='block14_sepconv1')(x)\n",
    "    x = BatchNormalization(name='block14_sepconv1_bn')(x)\n",
    "    x = Activation('relu', name='block14_sepconv1_act')(x)\n",
    "\n",
    "    x = SeparableConv2D(2048, (3, 3), padding='same', use_bias=False, name='block14_sepconv2')(x)\n",
    "    x = BatchNormalization(name='block14_sepconv2_bn')(x)\n",
    "    x = Activation('relu', name='block14_sepconv2_act')(x)\n",
    "\n",
    "    x = GlobalAveragePooling2D(name='avg_pool')(x)\n",
    "    x = Dropout(dropout)(x)\n",
    "    x = Dense(2, activation='softmax', name='predictions')(x)\n",
    "    model = Model(inputs, x, name='xception')\n",
    "    return model\n",
    "\n",
    "\n",
    "'''\n",
    "def xception(dropout):\n",
    "    base_model = Xception(include_top=False, input_shape = (240, 320, 1), pooling='avg')\n",
    "    x = base_model.output\n",
    "    x = Flatten()(x)\n",
    "    x = Dropout(dropout)(x) # drop prob\n",
    "    predictions = Dense(2, activation='softmax')(x)\n",
    "    model = Model(inputs=base_model.input, outputs=predictions, name='linear')\n",
    "    return model\n",
    "'''"
   ]
  },
  {
   "cell_type": "code",
   "execution_count": 10,
   "metadata": {
    "collapsed": false
   },
   "outputs": [],
   "source": [
    "def vanillacnn(dropout):\n",
    "    inputs = Input(shape=(240, 320, 1)) \n",
    "    x = Conv2D(32, (3, 3), strides=(2, 2), padding='same')(inputs)\n",
    "    x = BatchNormalization()(x)\n",
    "    x = Activation('relu')(x)\n",
    "    x = MaxPooling2D((2, 2), strides=(2, 2), padding='same')(x)\n",
    "    x = Dropout(dropout)(x)\n",
    "    \n",
    "    x = Conv2D(64, (3, 3), strides=(2, 2), padding='same')(x)\n",
    "    x = BatchNormalization()(x)\n",
    "    x = Activation('relu')(x)\n",
    "    x = MaxPooling2D((2, 2), strides=(2, 2), padding='same')(x)\n",
    "    x = Dropout(dropout)(x)\n",
    "    \n",
    "    x = Conv2D(128, (3, 3), strides=(2, 2), padding='same')(x)\n",
    "    x = BatchNormalization()(x)\n",
    "    x = Activation('relu')(x)\n",
    "    x = MaxPooling2D((2, 2), strides=(2, 2), padding='same')(x)\n",
    "    x = Dropout(dropout)(x)\n",
    "    \n",
    "    x = Conv2D(256, (3, 3), strides=(2, 2), padding='same')(x)\n",
    "    x = BatchNormalization()(x)\n",
    "    x = Activation('relu')(x)\n",
    "    x = MaxPooling2D((2, 2), strides=(2, 2), padding='same')(x)\n",
    "    \n",
    "    x = Flatten()(x)\n",
    "    x = Dropout(dropout)(x)\n",
    "    x = Dense(2, activation='softmax', name='predictions')(x)\n",
    "    model = Model(inputs, x, name='xception')\n",
    "    return model\n",
    "    \n",
    "    "
   ]
  },
  {
   "cell_type": "code",
   "execution_count": 11,
   "metadata": {
    "collapsed": false,
    "scrolled": true
   },
   "outputs": [
    {
     "name": "stdout",
     "output_type": "stream",
     "text": [
      "_________________________________________________________________\n",
      "Layer (type)                 Output Shape              Param #   \n",
      "=================================================================\n",
      "input_1 (InputLayer)         (None, 240, 320, 1)       0         \n",
      "_________________________________________________________________\n",
      "conv2d_1 (Conv2D)            (None, 120, 160, 32)      320       \n",
      "_________________________________________________________________\n",
      "batch_normalization_1 (Batch (None, 120, 160, 32)      128       \n",
      "_________________________________________________________________\n",
      "activation_1 (Activation)    (None, 120, 160, 32)      0         \n",
      "_________________________________________________________________\n",
      "max_pooling2d_1 (MaxPooling2 (None, 60, 80, 32)        0         \n",
      "_________________________________________________________________\n",
      "dropout_1 (Dropout)          (None, 60, 80, 32)        0         \n",
      "_________________________________________________________________\n",
      "conv2d_2 (Conv2D)            (None, 30, 40, 64)        18496     \n",
      "_________________________________________________________________\n",
      "batch_normalization_2 (Batch (None, 30, 40, 64)        256       \n",
      "_________________________________________________________________\n",
      "activation_2 (Activation)    (None, 30, 40, 64)        0         \n",
      "_________________________________________________________________\n",
      "max_pooling2d_2 (MaxPooling2 (None, 15, 20, 64)        0         \n",
      "_________________________________________________________________\n",
      "dropout_2 (Dropout)          (None, 15, 20, 64)        0         \n",
      "_________________________________________________________________\n",
      "conv2d_3 (Conv2D)            (None, 8, 10, 128)        73856     \n",
      "_________________________________________________________________\n",
      "batch_normalization_3 (Batch (None, 8, 10, 128)        512       \n",
      "_________________________________________________________________\n",
      "activation_3 (Activation)    (None, 8, 10, 128)        0         \n",
      "_________________________________________________________________\n",
      "max_pooling2d_3 (MaxPooling2 (None, 4, 5, 128)         0         \n",
      "_________________________________________________________________\n",
      "dropout_3 (Dropout)          (None, 4, 5, 128)         0         \n",
      "_________________________________________________________________\n",
      "conv2d_4 (Conv2D)            (None, 2, 3, 256)         295168    \n",
      "_________________________________________________________________\n",
      "batch_normalization_4 (Batch (None, 2, 3, 256)         1024      \n",
      "_________________________________________________________________\n",
      "activation_4 (Activation)    (None, 2, 3, 256)         0         \n",
      "_________________________________________________________________\n",
      "max_pooling2d_4 (MaxPooling2 (None, 1, 2, 256)         0         \n",
      "_________________________________________________________________\n",
      "flatten_1 (Flatten)          (None, 512)               0         \n",
      "_________________________________________________________________\n",
      "dropout_4 (Dropout)          (None, 512)               0         \n",
      "_________________________________________________________________\n",
      "predictions (Dense)          (None, 2)                 1026      \n",
      "=================================================================\n",
      "Total params: 390,786\n",
      "Trainable params: 389,826\n",
      "Non-trainable params: 960\n",
      "_________________________________________________________________\n"
     ]
    }
   ],
   "source": [
    "model_name = 'model' + sensor + '.h5'\n",
    "model = vanillacnn(0.5)\n",
    "\n",
    "adam = keras.optimizers.Adam(lr=0.001)\n",
    "model.compile(optimizer=adam, loss='sparse_categorical_crossentropy', metrics=[metrics.sparse_categorical_accuracy])\n",
    "\n",
    "\n",
    "checkpoint = ModelCheckpoint(model_name, monitor='val_loss', verbose=1, save_best_only=True, mode='min')\n",
    "stop = EarlyStopping(patience=20, verbose=1)\n",
    "\n",
    "callbacks_list = [checkpoint, stop]\n",
    "\n",
    "model.summary()\n"
   ]
  },
  {
   "cell_type": "code",
   "execution_count": 12,
   "metadata": {
    "collapsed": false,
    "scrolled": false
   },
   "outputs": [
    {
     "name": "stdout",
     "output_type": "stream",
     "text": [
      "Train on 6148 samples, validate on 1538 samples\n",
      "Epoch 1/1000\n",
      "6144/6148 [============================>.] - ETA: 0s - loss: 0.5538 - sparse_categorical_accuracy: 0.7980Epoch 00000: val_loss improved from inf to 1.13416, saving model to model62.h5\n",
      "6148/6148 [==============================] - 20s - loss: 0.5536 - sparse_categorical_accuracy: 0.7980 - val_loss: 1.1342 - val_sparse_categorical_accuracy: 0.7718\n",
      "Epoch 2/1000\n",
      "6144/6148 [============================>.] - ETA: 0s - loss: 0.3519 - sparse_categorical_accuracy: 0.8613Epoch 00001: val_loss did not improve\n",
      "6148/6148 [==============================] - 19s - loss: 0.3517 - sparse_categorical_accuracy: 0.8614 - val_loss: 1.2892 - val_sparse_categorical_accuracy: 0.7718\n",
      "Epoch 3/1000\n",
      "6144/6148 [============================>.] - ETA: 0s - loss: 0.2915 - sparse_categorical_accuracy: 0.8810Epoch 00002: val_loss improved from 1.13416 to 0.91054, saving model to model62.h5\n",
      "6148/6148 [==============================] - 19s - loss: 0.2916 - sparse_categorical_accuracy: 0.8809 - val_loss: 0.9105 - val_sparse_categorical_accuracy: 0.7718\n",
      "Epoch 4/1000\n",
      "6144/6148 [============================>.] - ETA: 0s - loss: 0.2560 - sparse_categorical_accuracy: 0.8952Epoch 00003: val_loss improved from 0.91054 to 0.44912, saving model to model62.h5\n",
      "6148/6148 [==============================] - 19s - loss: 0.2559 - sparse_categorical_accuracy: 0.8953 - val_loss: 0.4491 - val_sparse_categorical_accuracy: 0.8082\n",
      "Epoch 5/1000\n",
      "6144/6148 [============================>.] - ETA: 0s - loss: 0.2254 - sparse_categorical_accuracy: 0.9113Epoch 00004: val_loss improved from 0.44912 to 0.26805, saving model to model62.h5\n",
      "6148/6148 [==============================] - 19s - loss: 0.2255 - sparse_categorical_accuracy: 0.9114 - val_loss: 0.2681 - val_sparse_categorical_accuracy: 0.8882\n",
      "Epoch 6/1000\n",
      "6144/6148 [============================>.] - ETA: 0s - loss: 0.2220 - sparse_categorical_accuracy: 0.9124Epoch 00005: val_loss did not improve\n",
      "6148/6148 [==============================] - 19s - loss: 0.2219 - sparse_categorical_accuracy: 0.9125 - val_loss: 0.2877 - val_sparse_categorical_accuracy: 0.8791\n",
      "Epoch 7/1000\n",
      "6144/6148 [============================>.] - ETA: 0s - loss: 0.2038 - sparse_categorical_accuracy: 0.9194Epoch 00006: val_loss did not improve\n",
      "6148/6148 [==============================] - 19s - loss: 0.2036 - sparse_categorical_accuracy: 0.9195 - val_loss: 0.3064 - val_sparse_categorical_accuracy: 0.8732\n",
      "Epoch 8/1000\n",
      "6144/6148 [============================>.] - ETA: 0s - loss: 0.1878 - sparse_categorical_accuracy: 0.9264Epoch 00007: val_loss improved from 0.26805 to 0.15294, saving model to model62.h5\n",
      "6148/6148 [==============================] - 19s - loss: 0.1877 - sparse_categorical_accuracy: 0.9265 - val_loss: 0.1529 - val_sparse_categorical_accuracy: 0.9382\n",
      "Epoch 9/1000\n",
      "6144/6148 [============================>.] - ETA: 0s - loss: 0.1759 - sparse_categorical_accuracy: 0.9326Epoch 00008: val_loss did not improve\n",
      "6148/6148 [==============================] - 19s - loss: 0.1758 - sparse_categorical_accuracy: 0.9327 - val_loss: 0.2102 - val_sparse_categorical_accuracy: 0.9155\n",
      "Epoch 10/1000\n",
      "6144/6148 [============================>.] - ETA: 0s - loss: 0.1671 - sparse_categorical_accuracy: 0.9375Epoch 00009: val_loss did not improve\n",
      "6148/6148 [==============================] - 19s - loss: 0.1673 - sparse_categorical_accuracy: 0.9374 - val_loss: 0.2903 - val_sparse_categorical_accuracy: 0.8830\n",
      "Epoch 11/1000\n",
      "6144/6148 [============================>.] - ETA: 0s - loss: 0.1621 - sparse_categorical_accuracy: 0.9401Epoch 00010: val_loss improved from 0.15294 to 0.13820, saving model to model62.h5\n",
      "6148/6148 [==============================] - 19s - loss: 0.1620 - sparse_categorical_accuracy: 0.9401 - val_loss: 0.1382 - val_sparse_categorical_accuracy: 0.9486\n",
      "Epoch 12/1000\n",
      "6144/6148 [============================>.] - ETA: 0s - loss: 0.1496 - sparse_categorical_accuracy: 0.9447Epoch 00011: val_loss did not improve\n",
      "6148/6148 [==============================] - 19s - loss: 0.1497 - sparse_categorical_accuracy: 0.9447 - val_loss: 0.1427 - val_sparse_categorical_accuracy: 0.9454\n",
      "Epoch 13/1000\n",
      "6144/6148 [============================>.] - ETA: 0s - loss: 0.1441 - sparse_categorical_accuracy: 0.9487Epoch 00012: val_loss improved from 0.13820 to 0.13458, saving model to model62.h5\n",
      "6148/6148 [==============================] - 19s - loss: 0.1440 - sparse_categorical_accuracy: 0.9488 - val_loss: 0.1346 - val_sparse_categorical_accuracy: 0.9512\n",
      "Epoch 14/1000\n",
      "6144/6148 [============================>.] - ETA: 0s - loss: 0.1483 - sparse_categorical_accuracy: 0.9434Epoch 00013: val_loss improved from 0.13458 to 0.11631, saving model to model62.h5\n",
      "6148/6148 [==============================] - 19s - loss: 0.1483 - sparse_categorical_accuracy: 0.9434 - val_loss: 0.1163 - val_sparse_categorical_accuracy: 0.9603\n",
      "Epoch 15/1000\n",
      "6144/6148 [============================>.] - ETA: 0s - loss: 0.1290 - sparse_categorical_accuracy: 0.9535Epoch 00014: val_loss did not improve\n",
      "6148/6148 [==============================] - 19s - loss: 0.1292 - sparse_categorical_accuracy: 0.9533 - val_loss: 0.1324 - val_sparse_categorical_accuracy: 0.9525\n",
      "Epoch 16/1000\n",
      "6144/6148 [============================>.] - ETA: 0s - loss: 0.1268 - sparse_categorical_accuracy: 0.9513Epoch 00015: val_loss did not improve\n",
      "6148/6148 [==============================] - 19s - loss: 0.1267 - sparse_categorical_accuracy: 0.9514 - val_loss: 0.1401 - val_sparse_categorical_accuracy: 0.9499\n",
      "Epoch 17/1000\n",
      "6144/6148 [============================>.] - ETA: 0s - loss: 0.1224 - sparse_categorical_accuracy: 0.9549Epoch 00016: val_loss did not improve\n",
      "6148/6148 [==============================] - 19s - loss: 0.1223 - sparse_categorical_accuracy: 0.9549 - val_loss: 0.1342 - val_sparse_categorical_accuracy: 0.9519\n",
      "Epoch 18/1000\n",
      "6144/6148 [============================>.] - ETA: 0s - loss: 0.1193 - sparse_categorical_accuracy: 0.9583Epoch 00017: val_loss improved from 0.11631 to 0.10713, saving model to model62.h5\n",
      "6148/6148 [==============================] - 19s - loss: 0.1193 - sparse_categorical_accuracy: 0.9584 - val_loss: 0.1071 - val_sparse_categorical_accuracy: 0.9629\n",
      "Epoch 19/1000\n",
      "6144/6148 [============================>.] - ETA: 0s - loss: 0.1180 - sparse_categorical_accuracy: 0.9556Epoch 00018: val_loss did not improve\n",
      "6148/6148 [==============================] - 19s - loss: 0.1180 - sparse_categorical_accuracy: 0.9556 - val_loss: 0.1136 - val_sparse_categorical_accuracy: 0.9584\n",
      "Epoch 20/1000\n",
      "6144/6148 [============================>.] - ETA: 0s - loss: 0.1089 - sparse_categorical_accuracy: 0.9618Epoch 00019: val_loss improved from 0.10713 to 0.09891, saving model to model62.h5\n",
      "6148/6148 [==============================] - 19s - loss: 0.1089 - sparse_categorical_accuracy: 0.9618 - val_loss: 0.0989 - val_sparse_categorical_accuracy: 0.9642\n",
      "Epoch 21/1000\n",
      "6144/6148 [============================>.] - ETA: 0s - loss: 0.1087 - sparse_categorical_accuracy: 0.9606Epoch 00020: val_loss did not improve\n",
      "6148/6148 [==============================] - 19s - loss: 0.1086 - sparse_categorical_accuracy: 0.9606 - val_loss: 0.1228 - val_sparse_categorical_accuracy: 0.9590\n",
      "Epoch 22/1000\n",
      "6144/6148 [============================>.] - ETA: 0s - loss: 0.1105 - sparse_categorical_accuracy: 0.9569Epoch 00021: val_loss did not improve\n",
      "6148/6148 [==============================] - 19s - loss: 0.1104 - sparse_categorical_accuracy: 0.9569 - val_loss: 0.1124 - val_sparse_categorical_accuracy: 0.9558\n",
      "Epoch 23/1000\n",
      "6144/6148 [============================>.] - ETA: 0s - loss: 0.1065 - sparse_categorical_accuracy: 0.9600Epoch 00022: val_loss did not improve\n",
      "6148/6148 [==============================] - 19s - loss: 0.1065 - sparse_categorical_accuracy: 0.9600 - val_loss: 0.1094 - val_sparse_categorical_accuracy: 0.9616\n",
      "Epoch 24/1000\n",
      "6144/6148 [============================>.] - ETA: 0s - loss: 0.1121 - sparse_categorical_accuracy: 0.9593Epoch 00023: val_loss did not improve\n",
      "6148/6148 [==============================] - 19s - loss: 0.1120 - sparse_categorical_accuracy: 0.9593 - val_loss: 0.1036 - val_sparse_categorical_accuracy: 0.9636\n",
      "Epoch 25/1000\n",
      "6144/6148 [============================>.] - ETA: 0s - loss: 0.1000 - sparse_categorical_accuracy: 0.9626Epoch 00024: val_loss did not improve\n",
      "6148/6148 [==============================] - 19s - loss: 0.1002 - sparse_categorical_accuracy: 0.9624 - val_loss: 0.1017 - val_sparse_categorical_accuracy: 0.9629\n",
      "Epoch 26/1000\n",
      "6144/6148 [============================>.] - ETA: 0s - loss: 0.0968 - sparse_categorical_accuracy: 0.9645Epoch 00025: val_loss did not improve\n",
      "6148/6148 [==============================] - 19s - loss: 0.0967 - sparse_categorical_accuracy: 0.9645 - val_loss: 0.1005 - val_sparse_categorical_accuracy: 0.9603\n",
      "Epoch 27/1000\n",
      "6144/6148 [============================>.] - ETA: 0s - loss: 0.0943 - sparse_categorical_accuracy: 0.9650Epoch 00026: val_loss improved from 0.09891 to 0.09301, saving model to model62.h5\n",
      "6148/6148 [==============================] - 19s - loss: 0.0943 - sparse_categorical_accuracy: 0.9650 - val_loss: 0.0930 - val_sparse_categorical_accuracy: 0.9629\n",
      "Epoch 28/1000\n",
      "6144/6148 [============================>.] - ETA: 0s - loss: 0.0963 - sparse_categorical_accuracy: 0.9637Epoch 00027: val_loss did not improve\n",
      "6148/6148 [==============================] - 19s - loss: 0.0965 - sparse_categorical_accuracy: 0.9636 - val_loss: 0.1004 - val_sparse_categorical_accuracy: 0.9610\n",
      "Epoch 29/1000\n",
      "6144/6148 [============================>.] - ETA: 0s - loss: 0.0887 - sparse_categorical_accuracy: 0.9679Epoch 00028: val_loss improved from 0.09301 to 0.08979, saving model to model62.h5\n",
      "6148/6148 [==============================] - 19s - loss: 0.0886 - sparse_categorical_accuracy: 0.9680 - val_loss: 0.0898 - val_sparse_categorical_accuracy: 0.9662\n",
      "Epoch 30/1000\n",
      "6144/6148 [============================>.] - ETA: 0s - loss: 0.0864 - sparse_categorical_accuracy: 0.9679Epoch 00029: val_loss did not improve\n",
      "6148/6148 [==============================] - 19s - loss: 0.0864 - sparse_categorical_accuracy: 0.9680 - val_loss: 0.0960 - val_sparse_categorical_accuracy: 0.9662\n",
      "Epoch 31/1000\n",
      "6144/6148 [============================>.] - ETA: 0s - loss: 0.0854 - sparse_categorical_accuracy: 0.9673Epoch 00030: val_loss did not improve\n",
      "6148/6148 [==============================] - 19s - loss: 0.0853 - sparse_categorical_accuracy: 0.9673 - val_loss: 0.1230 - val_sparse_categorical_accuracy: 0.9590\n",
      "Epoch 32/1000\n",
      "6144/6148 [============================>.] - ETA: 0s - loss: 0.0886 - sparse_categorical_accuracy: 0.9692Epoch 00031: val_loss did not improve\n",
      "6148/6148 [==============================] - 19s - loss: 0.0885 - sparse_categorical_accuracy: 0.9693 - val_loss: 0.0966 - val_sparse_categorical_accuracy: 0.9616\n",
      "Epoch 33/1000\n",
      "6144/6148 [============================>.] - ETA: 0s - loss: 0.0859 - sparse_categorical_accuracy: 0.9684Epoch 00032: val_loss did not improve\n",
      "6148/6148 [==============================] - 19s - loss: 0.0858 - sparse_categorical_accuracy: 0.9684 - val_loss: 0.0937 - val_sparse_categorical_accuracy: 0.9662\n",
      "Epoch 34/1000\n",
      "6144/6148 [============================>.] - ETA: 0s - loss: 0.0856 - sparse_categorical_accuracy: 0.9673Epoch 00033: val_loss did not improve\n",
      "6148/6148 [==============================] - 19s - loss: 0.0855 - sparse_categorical_accuracy: 0.9673 - val_loss: 0.1044 - val_sparse_categorical_accuracy: 0.9642\n",
      "Epoch 35/1000\n",
      "6144/6148 [============================>.] - ETA: 0s - loss: 0.0851 - sparse_categorical_accuracy: 0.9704Epoch 00034: val_loss improved from 0.08979 to 0.08885, saving model to model62.h5\n",
      "6148/6148 [==============================] - 19s - loss: 0.0850 - sparse_categorical_accuracy: 0.9704 - val_loss: 0.0889 - val_sparse_categorical_accuracy: 0.9636\n",
      "Epoch 36/1000\n",
      "6144/6148 [============================>.] - ETA: 0s - loss: 0.0827 - sparse_categorical_accuracy: 0.9704Epoch 00035: val_loss did not improve\n",
      "6148/6148 [==============================] - 19s - loss: 0.0828 - sparse_categorical_accuracy: 0.9704 - val_loss: 0.0973 - val_sparse_categorical_accuracy: 0.9649\n",
      "Epoch 37/1000\n",
      "6144/6148 [============================>.] - ETA: 0s - loss: 0.0774 - sparse_categorical_accuracy: 0.9722Epoch 00036: val_loss did not improve\n",
      "6148/6148 [==============================] - 19s - loss: 0.0774 - sparse_categorical_accuracy: 0.9722 - val_loss: 0.1060 - val_sparse_categorical_accuracy: 0.9649\n",
      "Epoch 38/1000\n",
      "6144/6148 [============================>.] - ETA: 0s - loss: 0.0778 - sparse_categorical_accuracy: 0.9722Epoch 00037: val_loss improved from 0.08885 to 0.08692, saving model to model62.h5\n",
      "6148/6148 [==============================] - 19s - loss: 0.0778 - sparse_categorical_accuracy: 0.9722 - val_loss: 0.0869 - val_sparse_categorical_accuracy: 0.9668\n",
      "Epoch 39/1000\n",
      "6144/6148 [============================>.] - ETA: 0s - loss: 0.0782 - sparse_categorical_accuracy: 0.9704Epoch 00038: val_loss did not improve\n",
      "6148/6148 [==============================] - 19s - loss: 0.0784 - sparse_categorical_accuracy: 0.9702 - val_loss: 0.0918 - val_sparse_categorical_accuracy: 0.9642\n",
      "Epoch 40/1000\n",
      "6144/6148 [============================>.] - ETA: 0s - loss: 0.0807 - sparse_categorical_accuracy: 0.9710Epoch 00039: val_loss improved from 0.08692 to 0.08467, saving model to model62.h5\n",
      "6148/6148 [==============================] - 19s - loss: 0.0816 - sparse_categorical_accuracy: 0.9709 - val_loss: 0.0847 - val_sparse_categorical_accuracy: 0.9675\n",
      "Epoch 41/1000\n",
      "6144/6148 [============================>.] - ETA: 0s - loss: 0.0773 - sparse_categorical_accuracy: 0.9715Epoch 00040: val_loss did not improve\n",
      "6148/6148 [==============================] - 19s - loss: 0.0773 - sparse_categorical_accuracy: 0.9715 - val_loss: 0.0930 - val_sparse_categorical_accuracy: 0.9655\n",
      "Epoch 42/1000\n",
      "6144/6148 [============================>.] - ETA: 0s - loss: 0.0810 - sparse_categorical_accuracy: 0.9697Epoch 00041: val_loss did not improve\n",
      "6148/6148 [==============================] - 19s - loss: 0.0809 - sparse_categorical_accuracy: 0.9697 - val_loss: 0.0937 - val_sparse_categorical_accuracy: 0.9623\n",
      "Epoch 43/1000\n",
      "6144/6148 [============================>.] - ETA: 0s - loss: 0.0712 - sparse_categorical_accuracy: 0.9731Epoch 00042: val_loss did not improve\n",
      "6148/6148 [==============================] - 19s - loss: 0.0711 - sparse_categorical_accuracy: 0.9732 - val_loss: 0.0902 - val_sparse_categorical_accuracy: 0.9675\n",
      "Epoch 44/1000\n",
      "6144/6148 [============================>.] - ETA: 0s - loss: 0.0716 - sparse_categorical_accuracy: 0.9735Epoch 00043: val_loss did not improve\n",
      "6148/6148 [==============================] - 19s - loss: 0.0715 - sparse_categorical_accuracy: 0.9735 - val_loss: 0.0915 - val_sparse_categorical_accuracy: 0.9623\n",
      "Epoch 45/1000\n",
      "6144/6148 [============================>.] - ETA: 0s - loss: 0.0689 - sparse_categorical_accuracy: 0.9753Epoch 00044: val_loss did not improve\n",
      "6148/6148 [==============================] - 19s - loss: 0.0688 - sparse_categorical_accuracy: 0.9753 - val_loss: 0.0849 - val_sparse_categorical_accuracy: 0.9642\n",
      "Epoch 46/1000\n",
      "6144/6148 [============================>.] - ETA: 0s - loss: 0.0650 - sparse_categorical_accuracy: 0.9759Epoch 00045: val_loss improved from 0.08467 to 0.08163, saving model to model62.h5\n",
      "6148/6148 [==============================] - 19s - loss: 0.0650 - sparse_categorical_accuracy: 0.9759 - val_loss: 0.0816 - val_sparse_categorical_accuracy: 0.9681\n",
      "Epoch 47/1000\n",
      "6144/6148 [============================>.] - ETA: 0s - loss: 0.0655 - sparse_categorical_accuracy: 0.9764Epoch 00046: val_loss did not improve\n",
      "6148/6148 [==============================] - 19s - loss: 0.0655 - sparse_categorical_accuracy: 0.9764 - val_loss: 0.0870 - val_sparse_categorical_accuracy: 0.9668\n",
      "Epoch 48/1000\n",
      "6144/6148 [============================>.] - ETA: 0s - loss: 0.0702 - sparse_categorical_accuracy: 0.9746Epoch 00047: val_loss did not improve\n",
      "6148/6148 [==============================] - 19s - loss: 0.0702 - sparse_categorical_accuracy: 0.9746 - val_loss: 0.0955 - val_sparse_categorical_accuracy: 0.9720\n",
      "Epoch 49/1000\n",
      "6144/6148 [============================>.] - ETA: 0s - loss: 0.0640 - sparse_categorical_accuracy: 0.9761Epoch 00048: val_loss did not improve\n",
      "6148/6148 [==============================] - 19s - loss: 0.0639 - sparse_categorical_accuracy: 0.9761 - val_loss: 0.0867 - val_sparse_categorical_accuracy: 0.9668\n",
      "Epoch 50/1000\n",
      "6144/6148 [============================>.] - ETA: 0s - loss: 0.0593 - sparse_categorical_accuracy: 0.9792Epoch 00049: val_loss did not improve\n",
      "6148/6148 [==============================] - 19s - loss: 0.0593 - sparse_categorical_accuracy: 0.9792 - val_loss: 0.0891 - val_sparse_categorical_accuracy: 0.9655\n",
      "Epoch 51/1000\n",
      "6144/6148 [============================>.] - ETA: 0s - loss: 0.0652 - sparse_categorical_accuracy: 0.9759Epoch 00050: val_loss did not improve\n",
      "6148/6148 [==============================] - 19s - loss: 0.0651 - sparse_categorical_accuracy: 0.9759 - val_loss: 0.0985 - val_sparse_categorical_accuracy: 0.9662\n",
      "Epoch 52/1000\n",
      "6144/6148 [============================>.] - ETA: 0s - loss: 0.0607 - sparse_categorical_accuracy: 0.9780Epoch 00051: val_loss did not improve\n",
      "6148/6148 [==============================] - 19s - loss: 0.0606 - sparse_categorical_accuracy: 0.9780 - val_loss: 0.0887 - val_sparse_categorical_accuracy: 0.9668\n",
      "Epoch 53/1000\n",
      "6144/6148 [============================>.] - ETA: 0s - loss: 0.0556 - sparse_categorical_accuracy: 0.9801Epoch 00052: val_loss did not improve\n",
      "6148/6148 [==============================] - 19s - loss: 0.0556 - sparse_categorical_accuracy: 0.9802 - val_loss: 0.0897 - val_sparse_categorical_accuracy: 0.9649\n",
      "Epoch 54/1000\n",
      "6144/6148 [============================>.] - ETA: 0s - loss: 0.0575 - sparse_categorical_accuracy: 0.9795Epoch 00053: val_loss did not improve\n",
      "6148/6148 [==============================] - 19s - loss: 0.0575 - sparse_categorical_accuracy: 0.9795 - val_loss: 0.0893 - val_sparse_categorical_accuracy: 0.9655\n",
      "Epoch 55/1000\n",
      "6144/6148 [============================>.] - ETA: 0s - loss: 0.0692 - sparse_categorical_accuracy: 0.9754Epoch 00054: val_loss did not improve\n",
      "6148/6148 [==============================] - 19s - loss: 0.0692 - sparse_categorical_accuracy: 0.9754 - val_loss: 0.0954 - val_sparse_categorical_accuracy: 0.9662\n",
      "Epoch 56/1000\n",
      "6144/6148 [============================>.] - ETA: 0s - loss: 0.0602 - sparse_categorical_accuracy: 0.9766Epoch 00055: val_loss did not improve\n",
      "6148/6148 [==============================] - 19s - loss: 0.0602 - sparse_categorical_accuracy: 0.9766 - val_loss: 0.0962 - val_sparse_categorical_accuracy: 0.9642\n",
      "Epoch 57/1000\n",
      "6144/6148 [============================>.] - ETA: 0s - loss: 0.0575 - sparse_categorical_accuracy: 0.9782Epoch 00056: val_loss did not improve\n",
      "6148/6148 [==============================] - 19s - loss: 0.0575 - sparse_categorical_accuracy: 0.9782 - val_loss: 0.0984 - val_sparse_categorical_accuracy: 0.9649\n",
      "Epoch 58/1000\n",
      "6144/6148 [============================>.] - ETA: 0s - loss: 0.0536 - sparse_categorical_accuracy: 0.9793Epoch 00057: val_loss did not improve\n",
      "6148/6148 [==============================] - 19s - loss: 0.0536 - sparse_categorical_accuracy: 0.9793 - val_loss: 0.0888 - val_sparse_categorical_accuracy: 0.9720\n",
      "Epoch 59/1000\n",
      "6144/6148 [============================>.] - ETA: 0s - loss: 0.0595 - sparse_categorical_accuracy: 0.9767Epoch 00058: val_loss did not improve\n",
      "6148/6148 [==============================] - 19s - loss: 0.0594 - sparse_categorical_accuracy: 0.9767 - val_loss: 0.0916 - val_sparse_categorical_accuracy: 0.9623\n",
      "Epoch 60/1000\n",
      "6144/6148 [============================>.] - ETA: 0s - loss: 0.0601 - sparse_categorical_accuracy: 0.9793Epoch 00059: val_loss did not improve\n",
      "6148/6148 [==============================] - 19s - loss: 0.0601 - sparse_categorical_accuracy: 0.9793 - val_loss: 0.0835 - val_sparse_categorical_accuracy: 0.9655\n",
      "Epoch 61/1000\n",
      "6144/6148 [============================>.] - ETA: 0s - loss: 0.0550 - sparse_categorical_accuracy: 0.9810Epoch 00060: val_loss did not improve\n",
      "6148/6148 [==============================] - 19s - loss: 0.0550 - sparse_categorical_accuracy: 0.9810 - val_loss: 0.0949 - val_sparse_categorical_accuracy: 0.9688\n",
      "Epoch 62/1000\n",
      "6144/6148 [============================>.] - ETA: 0s - loss: 0.0513 - sparse_categorical_accuracy: 0.9816Epoch 00061: val_loss did not improve\n",
      "6148/6148 [==============================] - 19s - loss: 0.0513 - sparse_categorical_accuracy: 0.9816 - val_loss: 0.0881 - val_sparse_categorical_accuracy: 0.9701\n",
      "Epoch 63/1000\n",
      "6144/6148 [============================>.] - ETA: 0s - loss: 0.0593 - sparse_categorical_accuracy: 0.9787Epoch 00062: val_loss did not improve\n",
      "6148/6148 [==============================] - 19s - loss: 0.0593 - sparse_categorical_accuracy: 0.9787 - val_loss: 0.0932 - val_sparse_categorical_accuracy: 0.9636\n",
      "Epoch 64/1000\n",
      "6144/6148 [============================>.] - ETA: 0s - loss: 0.0594 - sparse_categorical_accuracy: 0.9793Epoch 00063: val_loss did not improve\n",
      "6148/6148 [==============================] - 19s - loss: 0.0594 - sparse_categorical_accuracy: 0.9793 - val_loss: 0.0929 - val_sparse_categorical_accuracy: 0.9629\n",
      "Epoch 65/1000\n",
      "6144/6148 [============================>.] - ETA: 0s - loss: 0.0575 - sparse_categorical_accuracy: 0.9788Epoch 00064: val_loss did not improve\n",
      "6148/6148 [==============================] - 19s - loss: 0.0575 - sparse_categorical_accuracy: 0.9789 - val_loss: 0.0889 - val_sparse_categorical_accuracy: 0.9688\n",
      "Epoch 66/1000\n",
      "6144/6148 [============================>.] - ETA: 0s - loss: 0.0514 - sparse_categorical_accuracy: 0.9810Epoch 00065: val_loss did not improve\n",
      "6148/6148 [==============================] - 19s - loss: 0.0513 - sparse_categorical_accuracy: 0.9810 - val_loss: 0.0854 - val_sparse_categorical_accuracy: 0.9675\n",
      "Epoch 67/1000\n",
      "6144/6148 [============================>.] - ETA: 0s - loss: 0.0617 - sparse_categorical_accuracy: 0.9772Epoch 00066: val_loss did not improve\n",
      "6148/6148 [==============================] - 19s - loss: 0.0617 - sparse_categorical_accuracy: 0.9772 - val_loss: 0.0905 - val_sparse_categorical_accuracy: 0.9668\n",
      "Epoch 00066: early stopping\n"
     ]
    },
    {
     "data": {
      "text/plain": [
       "<keras.callbacks.History at 0x7f3048bf14a8>"
      ]
     },
     "execution_count": 12,
     "metadata": {},
     "output_type": "execute_result"
    }
   ],
   "source": [
    "model.fit(x=X_train, \n",
    "          y=y_train, \n",
    "          batch_size=32, \n",
    "          epochs=1000, \n",
    "          verbose=1, \n",
    "          callbacks=callbacks_list, \n",
    "          validation_data=(X_val, y_val), \n",
    "          shuffle=True)\n"
   ]
  },
  {
   "cell_type": "code",
   "execution_count": 13,
   "metadata": {
    "collapsed": false
   },
   "outputs": [
    {
     "name": "stdout",
     "output_type": "stream",
     "text": [
      "['loss', 'sparse_categorical_accuracy']\n",
      "6148/6148 [==============================] - 8s     \n"
     ]
    },
    {
     "data": {
      "text/plain": [
       "[0.028454089866740244, 0.98942745608327909]"
      ]
     },
     "execution_count": 13,
     "metadata": {},
     "output_type": "execute_result"
    }
   ],
   "source": [
    "from keras.models import load_model\n",
    "trained_model = load_model(model_name)\n",
    "print(trained_model.metrics_names)\n",
    "trained_model.evaluate(x=X_train, y=y_train)\n"
   ]
  },
  {
   "cell_type": "code",
   "execution_count": 14,
   "metadata": {
    "collapsed": false
   },
   "outputs": [
    {
     "name": "stdout",
     "output_type": "stream",
     "text": [
      "1504/1538 [============================>.] - ETA: 0s"
     ]
    },
    {
     "data": {
      "text/plain": [
       "[0.081631288593949844, 0.96814044213263983]"
      ]
     },
     "execution_count": 14,
     "metadata": {},
     "output_type": "execute_result"
    }
   ],
   "source": [
    "trained_model.evaluate(x=X_val, y=y_val)"
   ]
  },
  {
   "cell_type": "markdown",
   "metadata": {
    "collapsed": true
   },
   "source": [
    "    "
   ]
  }
 ],
 "metadata": {
  "kernelspec": {
   "display_name": "Python 3",
   "language": "python",
   "name": "python3"
  },
  "language_info": {
   "codemirror_mode": {
    "name": "ipython",
    "version": 3
   },
   "file_extension": ".py",
   "mimetype": "text/x-python",
   "name": "python",
   "nbconvert_exporter": "python",
   "pygments_lexer": "ipython3",
   "version": "3.5.2"
  }
 },
 "nbformat": 4,
 "nbformat_minor": 0
}
