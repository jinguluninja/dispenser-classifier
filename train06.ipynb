{
 "cells": [
  {
   "cell_type": "code",
   "execution_count": 1,
   "metadata": {
    "collapsed": false
   },
   "outputs": [
    {
     "name": "stderr",
     "output_type": "stream",
     "text": [
      "Using TensorFlow backend.\n"
     ]
    }
   ],
   "source": [
    "import os\n",
    "import keras\n",
    "import numpy as np\n",
    "np.random.seed(135109)"
   ]
  },
  {
   "cell_type": "code",
   "execution_count": 2,
   "metadata": {
    "collapsed": false
   },
   "outputs": [],
   "source": [
    "sensor = '06'"
   ]
  },
  {
   "cell_type": "code",
   "execution_count": 3,
   "metadata": {
    "collapsed": false
   },
   "outputs": [],
   "source": [
    "def dataset():\n",
    "    X = []\n",
    "    y = []\n",
    "    data_dir_0 = sorted(os.listdir(os.path.join('pac_data', sensor, '0')))   \n",
    "    i = 0\n",
    "    for f in data_dir_0:\n",
    "        if i % 100 == 0: print(i)\n",
    "        i += 1\n",
    "        X.append(np.load(os.path.join('pac_data', sensor, '0', f))['x'])\n",
    "        y.append(0)\n",
    "    X = np.asarray(X, dtype=np.float16)\n",
    "    y = np.asarray(y, dtype=int)\n",
    "    indices = np.arange(y.shape[0])\n",
    "    np.random.shuffle(indices)\n",
    "    X_train = X[indices[:int(0.8*len(indices))]]\n",
    "    y_train = y[indices[:int(0.8*len(indices))]]\n",
    "    X_val = X[indices[int(0.8*len(indices)):]]\n",
    "    y_val = y[indices[int(0.8*len(indices)):]]\n",
    "    labels_present = os.listdir(os.path.join('pac_data', sensor))\n",
    "    if '1' in labels_present:\n",
    "        X = []\n",
    "        y = []\n",
    "        data_dir_1 = sorted(os.listdir(os.path.join('pac_data', sensor, '1')))\n",
    "        i = 0\n",
    "        for f in data_dir_1:\n",
    "            if i % 100 == 0: print(i)\n",
    "            i += 1\n",
    "            X.append(np.load(os.path.join('pac_data', sensor, '1', f))['x'])\n",
    "            y.append(1)        \n",
    "        X = np.asarray(X, dtype=np.float16)\n",
    "        y = np.asarray(y, dtype=int)\n",
    "        indices = np.arange(y.shape[0])\n",
    "        np.random.shuffle(indices)\n",
    "        X_train = np.concatenate([X_train, X[indices[:int(0.8*len(indices))]]])\n",
    "        y_train = np.concatenate([y_train, y[indices[:int(0.8*len(indices))]]])\n",
    "        X_val = np.concatenate([X_val, X[indices[int(0.8*len(indices)):]]])\n",
    "        y_val = np.concatenate([y_val, y[indices[int(0.8*len(indices)):]]])\n",
    "    X_train = np.expand_dims(np.asarray(X_train, dtype=np.float16), axis=3)\n",
    "    y_train = np.asarray(y_train, dtype=int)\n",
    "    X_val = np.expand_dims(np.asarray(X_val, dtype=np.float16), axis=3)\n",
    "    y_val = np.asarray(y_val, dtype=int)\n",
    "    X_train /= 5.\n",
    "    X_val /= 5.\n",
    "    mean_arr = np.mean(X_train, axis = 0)\n",
    "    np.save(os.path.join('pac_data', sensor, 'mean.npy'), mean_arr)\n",
    "    X_train -= mean_arr \n",
    "    X_val -= mean_arr  \n",
    "    return X_train, y_train, X_val, y_val"
   ]
  },
  {
   "cell_type": "code",
   "execution_count": 4,
   "metadata": {
    "collapsed": false,
    "scrolled": true
   },
   "outputs": [
    {
     "name": "stdout",
     "output_type": "stream",
     "text": [
      "0\n",
      "100\n",
      "200\n",
      "300\n",
      "400\n",
      "500\n",
      "600\n",
      "700\n",
      "800\n",
      "900\n",
      "1000\n",
      "1100\n",
      "1200\n",
      "1300\n",
      "1400\n",
      "1500\n",
      "1600\n",
      "1700\n",
      "1800\n",
      "1900\n",
      "2000\n",
      "2100\n",
      "2200\n",
      "0\n",
      "100\n",
      "200\n",
      "300\n",
      "400\n",
      "500\n",
      "600\n",
      "700\n",
      "800\n",
      "900\n",
      "1000\n",
      "1100\n",
      "1200\n",
      "1300\n"
     ]
    }
   ],
   "source": [
    "X_train, y_train, X_val, y_val = dataset()"
   ]
  },
  {
   "cell_type": "code",
   "execution_count": 5,
   "metadata": {
    "collapsed": false
   },
   "outputs": [
    {
     "name": "stdout",
     "output_type": "stream",
     "text": [
      "(2882, 240, 320, 1) (2882,) (722, 240, 320, 1) (722,)\n"
     ]
    }
   ],
   "source": [
    "print(X_train.shape, y_train.shape, X_val.shape, y_val.shape)"
   ]
  },
  {
   "cell_type": "code",
   "execution_count": 6,
   "metadata": {
    "collapsed": false
   },
   "outputs": [
    {
     "name": "stdout",
     "output_type": "stream",
     "text": [
      "['/gpu:0']\n"
     ]
    }
   ],
   "source": [
    "from tensorflow.python.client import device_lib\n",
    "\n",
    "def get_available_gpus():\n",
    "    local_device_protos = device_lib.list_local_devices()\n",
    "    return [x.name for x in local_device_protos if x.device_type == 'GPU']\n",
    "\n",
    "print(get_available_gpus())"
   ]
  },
  {
   "cell_type": "code",
   "execution_count": 7,
   "metadata": {
    "collapsed": false
   },
   "outputs": [],
   "source": [
    "\n",
    "from keras.models import Sequential\n",
    "from keras.layers import TimeDistributed, GlobalAveragePooling2D, Activation, Dense, Input\n",
    "from keras.layers import BatchNormalization, Conv2D, MaxPooling2D, AveragePooling2D, GlobalAveragePooling2D\n",
    "from keras.layers import GlobalMaxPooling2D\n",
    "from keras.layers.recurrent import LSTM\n",
    "from keras.callbacks import ModelCheckpoint, ReduceLROnPlateau, EarlyStopping\n",
    "from keras.layers import Dropout, Flatten\n",
    "from keras.layers import concatenate\n",
    "from keras import regularizers\n",
    "from keras import initializers\n",
    "from keras import constraints\n",
    "from keras.models import Model\n",
    "from keras import backend as K\n",
    "from keras.utils.layer_utils import convert_all_kernels_in_model\n",
    "from keras.utils.data_utils import get_file\n",
    "from keras.utils import conv_utils\n",
    "from keras.engine.topology import get_source_inputs\n",
    "from keras.engine import InputSpec\n",
    "from keras.applications.xception import Xception\n",
    "from keras import metrics"
   ]
  },
  {
   "cell_type": "code",
   "execution_count": 8,
   "metadata": {
    "collapsed": true
   },
   "outputs": [],
   "source": [
    "#linear\n",
    "def linear(dropout):\n",
    "    inputs = Input(shape=(240, 320, 1))\n",
    "    x = Flatten()(inputs)\n",
    "    x = Dropout(dropout)(x)\n",
    "    x = Dense(2, activation='softmax')(x)\n",
    "    model = Model(inputs, x, name='linear')\n",
    "    return model"
   ]
  },
  {
   "cell_type": "code",
   "execution_count": 9,
   "metadata": {
    "collapsed": false
   },
   "outputs": [
    {
     "data": {
      "text/plain": [
       "\"\\ndef xception(dropout):\\n    base_model = Xception(include_top=False, input_shape = (240, 320, 1), pooling='avg')\\n    x = base_model.output\\n    x = Flatten()(x)\\n    x = Dropout(dropout)(x) # drop prob\\n    predictions = Dense(2, activation='softmax')(x)\\n    model = Model(inputs=base_model.input, outputs=predictions, name='linear')\\n    return model\\n\""
      ]
     },
     "execution_count": 9,
     "metadata": {},
     "output_type": "execute_result"
    }
   ],
   "source": [
    "from keras import layers\n",
    "from keras.layers import Activation\n",
    "from keras.layers import SeparableConv2D\n",
    "\n",
    "def xception(dropout):\n",
    "    inputs = Input(shape=(240, 320, 1))    \n",
    "\n",
    "    x = Conv2D(32, (3, 3), padding='same', strides=(2, 2), use_bias=False, name='block1_conv1')(inputs)\n",
    "    x = BatchNormalization(name='block1_conv1_bn')(x)\n",
    "    x = Activation('relu', name='block1_conv1_act')(x)\n",
    "    x = Conv2D(64, (3, 3), padding='same', use_bias=False, name='block1_conv2')(x)\n",
    "    x = BatchNormalization(name='block1_conv2_bn')(x)\n",
    "    x = Activation('relu', name='block1_conv2_act')(x)\n",
    "\n",
    "    residual = Conv2D(128, (1, 1), strides=(2, 2),\n",
    "                      padding='same', use_bias=False)(x)\n",
    "    residual = BatchNormalization()(residual)\n",
    "\n",
    "    x = SeparableConv2D(128, (3, 3), padding='same', use_bias=False, name='block2_sepconv1')(x)\n",
    "    x = BatchNormalization(name='block2_sepconv1_bn')(x)\n",
    "    x = Activation('relu', name='block2_sepconv2_act')(x)\n",
    "    x = SeparableConv2D(128, (3, 3), padding='same', use_bias=False, name='block2_sepconv2')(x)\n",
    "    x = BatchNormalization(name='block2_sepconv2_bn')(x)\n",
    "\n",
    "    x = MaxPooling2D((3, 3), strides=(2, 2), padding='same', name='block2_pool')(x)\n",
    "    x = layers.add([x, residual])\n",
    "\n",
    "    residual = Conv2D(256, (1, 1), strides=(2, 2),\n",
    "                      padding='same', use_bias=False)(x)\n",
    "    residual = BatchNormalization()(residual)\n",
    "\n",
    "    x = Activation('relu', name='block3_sepconv1_act')(x)\n",
    "    x = SeparableConv2D(256, (3, 3), padding='same', use_bias=False, name='block3_sepconv1')(x)\n",
    "    x = BatchNormalization(name='block3_sepconv1_bn')(x)\n",
    "    x = Activation('relu', name='block3_sepconv2_act')(x)\n",
    "    x = SeparableConv2D(256, (3, 3), padding='same', use_bias=False, name='block3_sepconv2')(x)\n",
    "    x = BatchNormalization(name='block3_sepconv2_bn')(x)\n",
    "\n",
    "    x = MaxPooling2D((3, 3), strides=(2, 2), padding='same', name='block3_pool')(x)\n",
    "    x = layers.add([x, residual])\n",
    "\n",
    "    residual = Conv2D(728, (1, 1), strides=(2, 2),\n",
    "                      padding='same', use_bias=False)(x)\n",
    "    residual = BatchNormalization()(residual)\n",
    "\n",
    "    x = Activation('relu', name='block4_sepconv1_act')(x)\n",
    "    x = SeparableConv2D(728, (3, 3), padding='same', use_bias=False, name='block4_sepconv1')(x)\n",
    "    x = BatchNormalization(name='block4_sepconv1_bn')(x)\n",
    "    x = Activation('relu', name='block4_sepconv2_act')(x)\n",
    "    x = SeparableConv2D(728, (3, 3), padding='same', use_bias=False, name='block4_sepconv2')(x)\n",
    "    x = BatchNormalization(name='block4_sepconv2_bn')(x)\n",
    "\n",
    "    x = MaxPooling2D((3, 3), strides=(2, 2), padding='same', name='block4_pool')(x)\n",
    "    x = layers.add([x, residual])\n",
    "\n",
    "    for i in range(8):\n",
    "        residual = x\n",
    "        prefix = 'block' + str(i + 5)\n",
    "\n",
    "        x = Activation('relu', name=prefix + '_sepconv1_act')(x)\n",
    "        x = SeparableConv2D(728, (3, 3), padding='same', use_bias=False, name=prefix + '_sepconv1')(x)\n",
    "        x = BatchNormalization(name=prefix + '_sepconv1_bn')(x)\n",
    "        x = Activation('relu', name=prefix + '_sepconv2_act')(x)\n",
    "        x = SeparableConv2D(728, (3, 3), padding='same', use_bias=False, name=prefix + '_sepconv2')(x)\n",
    "        x = BatchNormalization(name=prefix + '_sepconv2_bn')(x)\n",
    "        x = Activation('relu', name=prefix + '_sepconv3_act')(x)\n",
    "        x = SeparableConv2D(728, (3, 3), padding='same', use_bias=False, name=prefix + '_sepconv3')(x)\n",
    "        x = BatchNormalization(name=prefix + '_sepconv3_bn')(x)\n",
    "\n",
    "        x = layers.add([x, residual])\n",
    "\n",
    "    residual = Conv2D(1024, (1, 1), strides=(2, 2),\n",
    "                      padding='same', use_bias=False)(x)\n",
    "    residual = BatchNormalization()(residual)\n",
    "\n",
    "    x = Activation('relu', name='block13_sepconv1_act')(x)\n",
    "    x = SeparableConv2D(728, (3, 3), padding='same', use_bias=False, name='block13_sepconv1')(x)\n",
    "    x = BatchNormalization(name='block13_sepconv1_bn')(x)\n",
    "    x = Activation('relu', name='block13_sepconv2_act')(x)\n",
    "    x = SeparableConv2D(1024, (3, 3), padding='same', use_bias=False, name='block13_sepconv2')(x)\n",
    "    x = BatchNormalization(name='block13_sepconv2_bn')(x)\n",
    "\n",
    "    x = MaxPooling2D((3, 3), strides=(2, 2), padding='same', name='block13_pool')(x)\n",
    "    x = layers.add([x, residual])\n",
    "\n",
    "    x = SeparableConv2D(1536, (3, 3), padding='same', use_bias=False, name='block14_sepconv1')(x)\n",
    "    x = BatchNormalization(name='block14_sepconv1_bn')(x)\n",
    "    x = Activation('relu', name='block14_sepconv1_act')(x)\n",
    "\n",
    "    x = SeparableConv2D(2048, (3, 3), padding='same', use_bias=False, name='block14_sepconv2')(x)\n",
    "    x = BatchNormalization(name='block14_sepconv2_bn')(x)\n",
    "    x = Activation('relu', name='block14_sepconv2_act')(x)\n",
    "\n",
    "    x = GlobalAveragePooling2D(name='avg_pool')(x)\n",
    "    x = Dropout(dropout)(x)\n",
    "    x = Dense(2, activation='softmax', name='predictions')(x)\n",
    "    model = Model(inputs, x, name='xception')\n",
    "    return model\n",
    "\n",
    "\n",
    "'''\n",
    "def xception(dropout):\n",
    "    base_model = Xception(include_top=False, input_shape = (240, 320, 1), pooling='avg')\n",
    "    x = base_model.output\n",
    "    x = Flatten()(x)\n",
    "    x = Dropout(dropout)(x) # drop prob\n",
    "    predictions = Dense(2, activation='softmax')(x)\n",
    "    model = Model(inputs=base_model.input, outputs=predictions, name='linear')\n",
    "    return model\n",
    "'''"
   ]
  },
  {
   "cell_type": "code",
   "execution_count": 10,
   "metadata": {
    "collapsed": false
   },
   "outputs": [],
   "source": [
    "def vanillacnn(dropout):\n",
    "    inputs = Input(shape=(240, 320, 1)) \n",
    "    x = Conv2D(32, (3, 3), strides=(2, 2), padding='same')(inputs)\n",
    "    x = BatchNormalization()(x)\n",
    "    x = Activation('relu')(x)\n",
    "    x = MaxPooling2D((2, 2), strides=(2, 2), padding='same')(x)\n",
    "    x = Dropout(dropout)(x)\n",
    "    \n",
    "    x = Conv2D(64, (3, 3), strides=(2, 2), padding='same')(x)\n",
    "    x = BatchNormalization()(x)\n",
    "    x = Activation('relu')(x)\n",
    "    x = MaxPooling2D((2, 2), strides=(2, 2), padding='same')(x)\n",
    "    x = Dropout(dropout)(x)\n",
    "    \n",
    "    x = Conv2D(128, (3, 3), strides=(2, 2), padding='same')(x)\n",
    "    x = BatchNormalization()(x)\n",
    "    x = Activation('relu')(x)\n",
    "    x = MaxPooling2D((2, 2), strides=(2, 2), padding='same')(x)\n",
    "    x = Dropout(dropout)(x)\n",
    "    \n",
    "    x = Conv2D(256, (3, 3), strides=(2, 2), padding='same')(x)\n",
    "    x = BatchNormalization()(x)\n",
    "    x = Activation('relu')(x)\n",
    "    x = MaxPooling2D((2, 2), strides=(2, 2), padding='same')(x)\n",
    "    \n",
    "    x = Flatten()(x)\n",
    "    x = Dropout(dropout)(x)\n",
    "    x = Dense(2, activation='softmax', name='predictions')(x)\n",
    "    model = Model(inputs, x, name='xception')\n",
    "    return model\n",
    "    \n",
    "    "
   ]
  },
  {
   "cell_type": "code",
   "execution_count": 11,
   "metadata": {
    "collapsed": false,
    "scrolled": true
   },
   "outputs": [
    {
     "name": "stdout",
     "output_type": "stream",
     "text": [
      "_________________________________________________________________\n",
      "Layer (type)                 Output Shape              Param #   \n",
      "=================================================================\n",
      "input_1 (InputLayer)         (None, 240, 320, 1)       0         \n",
      "_________________________________________________________________\n",
      "conv2d_1 (Conv2D)            (None, 120, 160, 32)      320       \n",
      "_________________________________________________________________\n",
      "batch_normalization_1 (Batch (None, 120, 160, 32)      128       \n",
      "_________________________________________________________________\n",
      "activation_1 (Activation)    (None, 120, 160, 32)      0         \n",
      "_________________________________________________________________\n",
      "max_pooling2d_1 (MaxPooling2 (None, 60, 80, 32)        0         \n",
      "_________________________________________________________________\n",
      "dropout_1 (Dropout)          (None, 60, 80, 32)        0         \n",
      "_________________________________________________________________\n",
      "conv2d_2 (Conv2D)            (None, 30, 40, 64)        18496     \n",
      "_________________________________________________________________\n",
      "batch_normalization_2 (Batch (None, 30, 40, 64)        256       \n",
      "_________________________________________________________________\n",
      "activation_2 (Activation)    (None, 30, 40, 64)        0         \n",
      "_________________________________________________________________\n",
      "max_pooling2d_2 (MaxPooling2 (None, 15, 20, 64)        0         \n",
      "_________________________________________________________________\n",
      "dropout_2 (Dropout)          (None, 15, 20, 64)        0         \n",
      "_________________________________________________________________\n",
      "conv2d_3 (Conv2D)            (None, 8, 10, 128)        73856     \n",
      "_________________________________________________________________\n",
      "batch_normalization_3 (Batch (None, 8, 10, 128)        512       \n",
      "_________________________________________________________________\n",
      "activation_3 (Activation)    (None, 8, 10, 128)        0         \n",
      "_________________________________________________________________\n",
      "max_pooling2d_3 (MaxPooling2 (None, 4, 5, 128)         0         \n",
      "_________________________________________________________________\n",
      "dropout_3 (Dropout)          (None, 4, 5, 128)         0         \n",
      "_________________________________________________________________\n",
      "conv2d_4 (Conv2D)            (None, 2, 3, 256)         295168    \n",
      "_________________________________________________________________\n",
      "batch_normalization_4 (Batch (None, 2, 3, 256)         1024      \n",
      "_________________________________________________________________\n",
      "activation_4 (Activation)    (None, 2, 3, 256)         0         \n",
      "_________________________________________________________________\n",
      "max_pooling2d_4 (MaxPooling2 (None, 1, 2, 256)         0         \n",
      "_________________________________________________________________\n",
      "flatten_1 (Flatten)          (None, 512)               0         \n",
      "_________________________________________________________________\n",
      "dropout_4 (Dropout)          (None, 512)               0         \n",
      "_________________________________________________________________\n",
      "predictions (Dense)          (None, 2)                 1026      \n",
      "=================================================================\n",
      "Total params: 390,786\n",
      "Trainable params: 389,826\n",
      "Non-trainable params: 960\n",
      "_________________________________________________________________\n"
     ]
    }
   ],
   "source": [
    "model_name = 'model' + sensor + '.h5'\n",
    "model = vanillacnn(0.5)\n",
    "\n",
    "adam = keras.optimizers.Adam(lr=0.001)\n",
    "model.compile(optimizer=adam, loss='sparse_categorical_crossentropy', metrics=[metrics.sparse_categorical_accuracy])\n",
    "\n",
    "\n",
    "checkpoint = ModelCheckpoint(model_name, monitor='val_loss', verbose=1, save_best_only=True, mode='min')\n",
    "stop = EarlyStopping(patience=20, verbose=1)\n",
    "\n",
    "callbacks_list = [checkpoint, stop]\n",
    "\n",
    "model.summary()\n"
   ]
  },
  {
   "cell_type": "code",
   "execution_count": 12,
   "metadata": {
    "collapsed": false,
    "scrolled": false
   },
   "outputs": [
    {
     "name": "stdout",
     "output_type": "stream",
     "text": [
      "Train on 2882 samples, validate on 722 samples\n",
      "Epoch 1/1000\n",
      "2880/2882 [============================>.] - ETA: 0s - loss: 0.8622 - sparse_categorical_accuracy: 0.6757Epoch 00000: val_loss improved from inf to 0.75062, saving model to model06.h5\n",
      "2882/2882 [==============================] - 10s - loss: 0.8622 - sparse_categorical_accuracy: 0.6756 - val_loss: 0.7506 - val_sparse_categorical_accuracy: 0.6302\n",
      "Epoch 2/1000\n",
      "2880/2882 [============================>.] - ETA: 0s - loss: 0.5657 - sparse_categorical_accuracy: 0.7743Epoch 00001: val_loss did not improve\n",
      "2882/2882 [==============================] - 9s - loss: 0.5654 - sparse_categorical_accuracy: 0.7745 - val_loss: 1.0129 - val_sparse_categorical_accuracy: 0.6302\n",
      "Epoch 3/1000\n",
      "2880/2882 [============================>.] - ETA: 0s - loss: 0.4215 - sparse_categorical_accuracy: 0.8122Epoch 00002: val_loss did not improve\n",
      "2882/2882 [==============================] - 9s - loss: 0.4213 - sparse_categorical_accuracy: 0.8123 - val_loss: 1.1306 - val_sparse_categorical_accuracy: 0.6302\n",
      "Epoch 4/1000\n",
      "2880/2882 [============================>.] - ETA: 0s - loss: 0.3748 - sparse_categorical_accuracy: 0.8326Epoch 00003: val_loss did not improve\n",
      "2882/2882 [==============================] - 9s - loss: 0.3754 - sparse_categorical_accuracy: 0.8324 - val_loss: 1.0939 - val_sparse_categorical_accuracy: 0.6302\n",
      "Epoch 5/1000\n",
      "2880/2882 [============================>.] - ETA: 0s - loss: 0.3367 - sparse_categorical_accuracy: 0.8497Epoch 00004: val_loss did not improve\n",
      "2882/2882 [==============================] - 9s - loss: 0.3373 - sparse_categorical_accuracy: 0.8494 - val_loss: 0.7895 - val_sparse_categorical_accuracy: 0.6302\n",
      "Epoch 6/1000\n",
      "2880/2882 [============================>.] - ETA: 0s - loss: 0.3087 - sparse_categorical_accuracy: 0.8604Epoch 00005: val_loss improved from 0.75062 to 0.73181, saving model to model06.h5\n",
      "2882/2882 [==============================] - 9s - loss: 0.3087 - sparse_categorical_accuracy: 0.8605 - val_loss: 0.7318 - val_sparse_categorical_accuracy: 0.6343\n",
      "Epoch 7/1000\n",
      "2880/2882 [============================>.] - ETA: 0s - loss: 0.2701 - sparse_categorical_accuracy: 0.8792Epoch 00006: val_loss improved from 0.73181 to 0.33974, saving model to model06.h5\n",
      "2882/2882 [==============================] - 9s - loss: 0.2700 - sparse_categorical_accuracy: 0.8793 - val_loss: 0.3397 - val_sparse_categorical_accuracy: 0.8061\n",
      "Epoch 8/1000\n",
      "2880/2882 [============================>.] - ETA: 0s - loss: 0.2532 - sparse_categorical_accuracy: 0.8872Epoch 00007: val_loss improved from 0.33974 to 0.21235, saving model to model06.h5\n",
      "2882/2882 [==============================] - 9s - loss: 0.2530 - sparse_categorical_accuracy: 0.8872 - val_loss: 0.2123 - val_sparse_categorical_accuracy: 0.8975\n",
      "Epoch 9/1000\n",
      "2880/2882 [============================>.] - ETA: 0s - loss: 0.2467 - sparse_categorical_accuracy: 0.8938Epoch 00008: val_loss improved from 0.21235 to 0.19482, saving model to model06.h5\n",
      "2882/2882 [==============================] - 9s - loss: 0.2466 - sparse_categorical_accuracy: 0.8938 - val_loss: 0.1948 - val_sparse_categorical_accuracy: 0.9086\n",
      "Epoch 10/1000\n",
      "2880/2882 [============================>.] - ETA: 0s - loss: 0.2334 - sparse_categorical_accuracy: 0.8990Epoch 00009: val_loss improved from 0.19482 to 0.19168, saving model to model06.h5\n",
      "2882/2882 [==============================] - 9s - loss: 0.2332 - sparse_categorical_accuracy: 0.8990 - val_loss: 0.1917 - val_sparse_categorical_accuracy: 0.9114\n",
      "Epoch 11/1000\n",
      "2880/2882 [============================>.] - ETA: 0s - loss: 0.2226 - sparse_categorical_accuracy: 0.9087Epoch 00010: val_loss improved from 0.19168 to 0.17268, saving model to model06.h5\n",
      "2882/2882 [==============================] - 9s - loss: 0.2225 - sparse_categorical_accuracy: 0.9087 - val_loss: 0.1727 - val_sparse_categorical_accuracy: 0.9252\n",
      "Epoch 12/1000\n",
      "2880/2882 [============================>.] - ETA: 0s - loss: 0.2106 - sparse_categorical_accuracy: 0.9156Epoch 00011: val_loss improved from 0.17268 to 0.15722, saving model to model06.h5\n",
      "2882/2882 [==============================] - 9s - loss: 0.2106 - sparse_categorical_accuracy: 0.9157 - val_loss: 0.1572 - val_sparse_categorical_accuracy: 0.9349\n",
      "Epoch 13/1000\n",
      "2880/2882 [============================>.] - ETA: 0s - loss: 0.1988 - sparse_categorical_accuracy: 0.9229Epoch 00012: val_loss improved from 0.15722 to 0.15290, saving model to model06.h5\n",
      "2882/2882 [==============================] - 9s - loss: 0.1988 - sparse_categorical_accuracy: 0.9230 - val_loss: 0.1529 - val_sparse_categorical_accuracy: 0.9404\n",
      "Epoch 14/1000\n",
      "2880/2882 [============================>.] - ETA: 0s - loss: 0.1924 - sparse_categorical_accuracy: 0.9149Epoch 00013: val_loss did not improve\n",
      "2882/2882 [==============================] - 9s - loss: 0.1923 - sparse_categorical_accuracy: 0.9150 - val_loss: 0.1728 - val_sparse_categorical_accuracy: 0.9252\n",
      "Epoch 15/1000\n",
      "2880/2882 [============================>.] - ETA: 0s - loss: 0.1666 - sparse_categorical_accuracy: 0.9316Epoch 00014: val_loss improved from 0.15290 to 0.14624, saving model to model06.h5\n",
      "2882/2882 [==============================] - 9s - loss: 0.1665 - sparse_categorical_accuracy: 0.9316 - val_loss: 0.1462 - val_sparse_categorical_accuracy: 0.9335\n",
      "Epoch 16/1000\n",
      "2880/2882 [============================>.] - ETA: 0s - loss: 0.1650 - sparse_categorical_accuracy: 0.9375Epoch 00015: val_loss improved from 0.14624 to 0.14485, saving model to model06.h5\n",
      "2882/2882 [==============================] - 9s - loss: 0.1649 - sparse_categorical_accuracy: 0.9375 - val_loss: 0.1448 - val_sparse_categorical_accuracy: 0.9391\n",
      "Epoch 17/1000\n",
      "2880/2882 [============================>.] - ETA: 0s - loss: 0.1600 - sparse_categorical_accuracy: 0.9385Epoch 00016: val_loss improved from 0.14485 to 0.13841, saving model to model06.h5\n",
      "2882/2882 [==============================] - 9s - loss: 0.1600 - sparse_categorical_accuracy: 0.9386 - val_loss: 0.1384 - val_sparse_categorical_accuracy: 0.9418\n",
      "Epoch 18/1000\n",
      "2880/2882 [============================>.] - ETA: 0s - loss: 0.1646 - sparse_categorical_accuracy: 0.9340Epoch 00017: val_loss did not improve\n",
      "2882/2882 [==============================] - 9s - loss: 0.1645 - sparse_categorical_accuracy: 0.9341 - val_loss: 0.1662 - val_sparse_categorical_accuracy: 0.9294\n",
      "Epoch 19/1000\n",
      "2880/2882 [============================>.] - ETA: 0s - loss: 0.1602 - sparse_categorical_accuracy: 0.9361Epoch 00018: val_loss improved from 0.13841 to 0.12148, saving model to model06.h5\n",
      "2882/2882 [==============================] - 9s - loss: 0.1602 - sparse_categorical_accuracy: 0.9362 - val_loss: 0.1215 - val_sparse_categorical_accuracy: 0.9501\n",
      "Epoch 20/1000\n",
      "2880/2882 [============================>.] - ETA: 0s - loss: 0.1542 - sparse_categorical_accuracy: 0.9424Epoch 00019: val_loss did not improve\n",
      "2882/2882 [==============================] - 9s - loss: 0.1546 - sparse_categorical_accuracy: 0.9421 - val_loss: 0.1242 - val_sparse_categorical_accuracy: 0.9432\n",
      "Epoch 21/1000\n",
      "2880/2882 [============================>.] - ETA: 0s - loss: 0.1569 - sparse_categorical_accuracy: 0.9351Epoch 00020: val_loss improved from 0.12148 to 0.11824, saving model to model06.h5\n",
      "2882/2882 [==============================] - 9s - loss: 0.1568 - sparse_categorical_accuracy: 0.9351 - val_loss: 0.1182 - val_sparse_categorical_accuracy: 0.9474\n",
      "Epoch 22/1000\n",
      "2880/2882 [============================>.] - ETA: 0s - loss: 0.1412 - sparse_categorical_accuracy: 0.9465Epoch 00021: val_loss improved from 0.11824 to 0.10988, saving model to model06.h5\n",
      "2882/2882 [==============================] - 9s - loss: 0.1411 - sparse_categorical_accuracy: 0.9466 - val_loss: 0.1099 - val_sparse_categorical_accuracy: 0.9529\n",
      "Epoch 23/1000\n",
      "2880/2882 [============================>.] - ETA: 0s - loss: 0.1297 - sparse_categorical_accuracy: 0.9538Epoch 00022: val_loss did not improve\n",
      "2882/2882 [==============================] - 9s - loss: 0.1296 - sparse_categorical_accuracy: 0.9539 - val_loss: 0.1133 - val_sparse_categorical_accuracy: 0.9584\n",
      "Epoch 24/1000\n",
      "2880/2882 [============================>.] - ETA: 0s - loss: 0.1258 - sparse_categorical_accuracy: 0.9493Epoch 00023: val_loss improved from 0.10988 to 0.10039, saving model to model06.h5\n",
      "2882/2882 [==============================] - 9s - loss: 0.1257 - sparse_categorical_accuracy: 0.9493 - val_loss: 0.1004 - val_sparse_categorical_accuracy: 0.9584\n",
      "Epoch 25/1000\n",
      "2880/2882 [============================>.] - ETA: 0s - loss: 0.1133 - sparse_categorical_accuracy: 0.9594Epoch 00024: val_loss did not improve\n",
      "2882/2882 [==============================] - 9s - loss: 0.1133 - sparse_categorical_accuracy: 0.9594 - val_loss: 0.1571 - val_sparse_categorical_accuracy: 0.9446\n",
      "Epoch 26/1000\n",
      "2880/2882 [============================>.] - ETA: 0s - loss: 0.1291 - sparse_categorical_accuracy: 0.9514Epoch 00025: val_loss did not improve\n",
      "2882/2882 [==============================] - 9s - loss: 0.1290 - sparse_categorical_accuracy: 0.9514 - val_loss: 0.1140 - val_sparse_categorical_accuracy: 0.9557\n",
      "Epoch 27/1000\n",
      "2880/2882 [============================>.] - ETA: 0s - loss: 0.1213 - sparse_categorical_accuracy: 0.9524Epoch 00026: val_loss did not improve\n",
      "2882/2882 [==============================] - 9s - loss: 0.1212 - sparse_categorical_accuracy: 0.9525 - val_loss: 0.1170 - val_sparse_categorical_accuracy: 0.9529\n",
      "Epoch 28/1000\n",
      "2880/2882 [============================>.] - ETA: 0s - loss: 0.0992 - sparse_categorical_accuracy: 0.9635Epoch 00027: val_loss did not improve\n",
      "2882/2882 [==============================] - 9s - loss: 0.0991 - sparse_categorical_accuracy: 0.9636 - val_loss: 0.1248 - val_sparse_categorical_accuracy: 0.9543\n",
      "Epoch 29/1000\n",
      "2880/2882 [============================>.] - ETA: 0s - loss: 0.1052 - sparse_categorical_accuracy: 0.9642Epoch 00028: val_loss did not improve\n",
      "2882/2882 [==============================] - 9s - loss: 0.1051 - sparse_categorical_accuracy: 0.9643 - val_loss: 0.1688 - val_sparse_categorical_accuracy: 0.9349\n",
      "Epoch 30/1000\n",
      "2880/2882 [============================>.] - ETA: 0s - loss: 0.1076 - sparse_categorical_accuracy: 0.9625Epoch 00029: val_loss did not improve\n",
      "2882/2882 [==============================] - 9s - loss: 0.1075 - sparse_categorical_accuracy: 0.9625 - val_loss: 0.1015 - val_sparse_categorical_accuracy: 0.9557\n",
      "Epoch 31/1000\n",
      "2880/2882 [============================>.] - ETA: 0s - loss: 0.0952 - sparse_categorical_accuracy: 0.9670Epoch 00030: val_loss improved from 0.10039 to 0.09993, saving model to model06.h5\n",
      "2882/2882 [==============================] - 9s - loss: 0.0952 - sparse_categorical_accuracy: 0.9670 - val_loss: 0.0999 - val_sparse_categorical_accuracy: 0.9598\n",
      "Epoch 32/1000\n",
      "2880/2882 [============================>.] - ETA: 0s - loss: 0.1153 - sparse_categorical_accuracy: 0.9608Epoch 00031: val_loss did not improve\n",
      "2882/2882 [==============================] - 9s - loss: 0.1152 - sparse_categorical_accuracy: 0.9608 - val_loss: 0.1045 - val_sparse_categorical_accuracy: 0.9529\n",
      "Epoch 33/1000\n",
      "2880/2882 [============================>.] - ETA: 0s - loss: 0.1008 - sparse_categorical_accuracy: 0.9646Epoch 00032: val_loss improved from 0.09993 to 0.09315, saving model to model06.h5\n",
      "2882/2882 [==============================] - 9s - loss: 0.1013 - sparse_categorical_accuracy: 0.9643 - val_loss: 0.0932 - val_sparse_categorical_accuracy: 0.9598\n",
      "Epoch 34/1000\n",
      "2880/2882 [============================>.] - ETA: 0s - loss: 0.1185 - sparse_categorical_accuracy: 0.9573Epoch 00033: val_loss did not improve\n",
      "2882/2882 [==============================] - 9s - loss: 0.1184 - sparse_categorical_accuracy: 0.9573 - val_loss: 0.1017 - val_sparse_categorical_accuracy: 0.9626\n",
      "Epoch 35/1000\n",
      "2880/2882 [============================>.] - ETA: 0s - loss: 0.1015 - sparse_categorical_accuracy: 0.9625Epoch 00034: val_loss did not improve\n",
      "2882/2882 [==============================] - 9s - loss: 0.1014 - sparse_categorical_accuracy: 0.9625 - val_loss: 0.1068 - val_sparse_categorical_accuracy: 0.9626\n",
      "Epoch 36/1000\n",
      "2880/2882 [============================>.] - ETA: 0s - loss: 0.0971 - sparse_categorical_accuracy: 0.9646Epoch 00035: val_loss did not improve\n",
      "2882/2882 [==============================] - 9s - loss: 0.0971 - sparse_categorical_accuracy: 0.9646 - val_loss: 0.1020 - val_sparse_categorical_accuracy: 0.9557\n",
      "Epoch 37/1000\n",
      "2880/2882 [============================>.] - ETA: 0s - loss: 0.0983 - sparse_categorical_accuracy: 0.9649Epoch 00036: val_loss did not improve\n",
      "2882/2882 [==============================] - 9s - loss: 0.0982 - sparse_categorical_accuracy: 0.9650 - val_loss: 0.0997 - val_sparse_categorical_accuracy: 0.9612\n",
      "Epoch 38/1000\n",
      "2880/2882 [============================>.] - ETA: 0s - loss: 0.0934 - sparse_categorical_accuracy: 0.9660Epoch 00037: val_loss did not improve\n",
      "2882/2882 [==============================] - 9s - loss: 0.0933 - sparse_categorical_accuracy: 0.9660 - val_loss: 0.1148 - val_sparse_categorical_accuracy: 0.9584\n",
      "Epoch 39/1000\n",
      "2880/2882 [============================>.] - ETA: 0s - loss: 0.0927 - sparse_categorical_accuracy: 0.9681Epoch 00038: val_loss did not improve\n",
      "2882/2882 [==============================] - 9s - loss: 0.0927 - sparse_categorical_accuracy: 0.9681 - val_loss: 0.1071 - val_sparse_categorical_accuracy: 0.9598\n",
      "Epoch 40/1000\n",
      "2880/2882 [============================>.] - ETA: 0s - loss: 0.0852 - sparse_categorical_accuracy: 0.9691Epoch 00039: val_loss did not improve\n",
      "2882/2882 [==============================] - 9s - loss: 0.0851 - sparse_categorical_accuracy: 0.9691 - val_loss: 0.1034 - val_sparse_categorical_accuracy: 0.9557\n",
      "Epoch 41/1000\n",
      "2880/2882 [============================>.] - ETA: 0s - loss: 0.0851 - sparse_categorical_accuracy: 0.9660Epoch 00040: val_loss did not improve\n",
      "2882/2882 [==============================] - 9s - loss: 0.0860 - sparse_categorical_accuracy: 0.9656 - val_loss: 0.1039 - val_sparse_categorical_accuracy: 0.9571\n",
      "Epoch 42/1000\n",
      "2880/2882 [============================>.] - ETA: 0s - loss: 0.1065 - sparse_categorical_accuracy: 0.9618Epoch 00041: val_loss did not improve\n",
      "2882/2882 [==============================] - 9s - loss: 0.1064 - sparse_categorical_accuracy: 0.9618 - val_loss: 0.1036 - val_sparse_categorical_accuracy: 0.9640\n",
      "Epoch 43/1000\n",
      "2880/2882 [============================>.] - ETA: 0s - loss: 0.0898 - sparse_categorical_accuracy: 0.9691Epoch 00042: val_loss did not improve\n",
      "2882/2882 [==============================] - 9s - loss: 0.0899 - sparse_categorical_accuracy: 0.9691 - val_loss: 0.0970 - val_sparse_categorical_accuracy: 0.9571\n",
      "Epoch 44/1000\n",
      "2880/2882 [============================>.] - ETA: 0s - loss: 0.0934 - sparse_categorical_accuracy: 0.9663Epoch 00043: val_loss did not improve\n",
      "2882/2882 [==============================] - 9s - loss: 0.0934 - sparse_categorical_accuracy: 0.9663 - val_loss: 0.0987 - val_sparse_categorical_accuracy: 0.9654\n",
      "Epoch 45/1000\n",
      "2880/2882 [============================>.] - ETA: 0s - loss: 0.0839 - sparse_categorical_accuracy: 0.9712Epoch 00044: val_loss improved from 0.09315 to 0.08616, saving model to model06.h5\n",
      "2882/2882 [==============================] - 9s - loss: 0.0841 - sparse_categorical_accuracy: 0.9709 - val_loss: 0.0862 - val_sparse_categorical_accuracy: 0.9654\n",
      "Epoch 46/1000\n",
      "2880/2882 [============================>.] - ETA: 0s - loss: 0.0912 - sparse_categorical_accuracy: 0.9667Epoch 00045: val_loss did not improve\n",
      "2882/2882 [==============================] - 9s - loss: 0.0912 - sparse_categorical_accuracy: 0.9667 - val_loss: 0.0981 - val_sparse_categorical_accuracy: 0.9584\n",
      "Epoch 47/1000\n",
      "2880/2882 [============================>.] - ETA: 0s - loss: 0.0831 - sparse_categorical_accuracy: 0.9684Epoch 00046: val_loss did not improve\n",
      "2882/2882 [==============================] - 9s - loss: 0.0831 - sparse_categorical_accuracy: 0.9684 - val_loss: 0.1010 - val_sparse_categorical_accuracy: 0.9626\n",
      "Epoch 48/1000\n",
      "2880/2882 [============================>.] - ETA: 0s - loss: 0.0857 - sparse_categorical_accuracy: 0.9705Epoch 00047: val_loss did not improve\n",
      "2882/2882 [==============================] - 9s - loss: 0.0856 - sparse_categorical_accuracy: 0.9705 - val_loss: 0.0975 - val_sparse_categorical_accuracy: 0.9640\n",
      "Epoch 49/1000\n",
      "2880/2882 [============================>.] - ETA: 0s - loss: 0.0875 - sparse_categorical_accuracy: 0.9688Epoch 00048: val_loss did not improve\n",
      "2882/2882 [==============================] - 9s - loss: 0.0874 - sparse_categorical_accuracy: 0.9688 - val_loss: 0.0973 - val_sparse_categorical_accuracy: 0.9640\n",
      "Epoch 50/1000\n",
      "2880/2882 [============================>.] - ETA: 0s - loss: 0.0749 - sparse_categorical_accuracy: 0.9715Epoch 00049: val_loss did not improve\n",
      "2882/2882 [==============================] - 9s - loss: 0.0749 - sparse_categorical_accuracy: 0.9715 - val_loss: 0.1255 - val_sparse_categorical_accuracy: 0.9612\n",
      "Epoch 51/1000\n",
      "2880/2882 [============================>.] - ETA: 0s - loss: 0.0809 - sparse_categorical_accuracy: 0.9701Epoch 00050: val_loss did not improve\n",
      "2882/2882 [==============================] - 9s - loss: 0.0808 - sparse_categorical_accuracy: 0.9702 - val_loss: 0.1001 - val_sparse_categorical_accuracy: 0.9640\n",
      "Epoch 52/1000\n",
      "2880/2882 [============================>.] - ETA: 0s - loss: 0.0741 - sparse_categorical_accuracy: 0.9698Epoch 00051: val_loss did not improve\n",
      "2882/2882 [==============================] - 9s - loss: 0.0741 - sparse_categorical_accuracy: 0.9698 - val_loss: 0.0914 - val_sparse_categorical_accuracy: 0.9723\n",
      "Epoch 53/1000\n",
      "2880/2882 [============================>.] - ETA: 0s - loss: 0.0702 - sparse_categorical_accuracy: 0.9750Epoch 00052: val_loss improved from 0.08616 to 0.08474, saving model to model06.h5\n",
      "2882/2882 [==============================] - 9s - loss: 0.0702 - sparse_categorical_accuracy: 0.9750 - val_loss: 0.0847 - val_sparse_categorical_accuracy: 0.9709\n",
      "Epoch 54/1000\n",
      "2880/2882 [============================>.] - ETA: 0s - loss: 0.0716 - sparse_categorical_accuracy: 0.9719Epoch 00053: val_loss did not improve\n",
      "2882/2882 [==============================] - 9s - loss: 0.0716 - sparse_categorical_accuracy: 0.9719 - val_loss: 0.0915 - val_sparse_categorical_accuracy: 0.9695\n",
      "Epoch 55/1000\n",
      "2880/2882 [============================>.] - ETA: 0s - loss: 0.0744 - sparse_categorical_accuracy: 0.9715Epoch 00054: val_loss did not improve\n",
      "2882/2882 [==============================] - 9s - loss: 0.0744 - sparse_categorical_accuracy: 0.9715 - val_loss: 0.0965 - val_sparse_categorical_accuracy: 0.9654\n",
      "Epoch 56/1000\n",
      "2880/2882 [============================>.] - ETA: 0s - loss: 0.0796 - sparse_categorical_accuracy: 0.9691Epoch 00055: val_loss did not improve\n",
      "2882/2882 [==============================] - 9s - loss: 0.0796 - sparse_categorical_accuracy: 0.9691 - val_loss: 0.0941 - val_sparse_categorical_accuracy: 0.9723\n",
      "Epoch 57/1000\n",
      "2880/2882 [============================>.] - ETA: 0s - loss: 0.0742 - sparse_categorical_accuracy: 0.9729Epoch 00056: val_loss did not improve\n",
      "2882/2882 [==============================] - 9s - loss: 0.0741 - sparse_categorical_accuracy: 0.9729 - val_loss: 0.0908 - val_sparse_categorical_accuracy: 0.9668\n",
      "Epoch 58/1000\n",
      "2880/2882 [============================>.] - ETA: 0s - loss: 0.0599 - sparse_categorical_accuracy: 0.9806Epoch 00057: val_loss did not improve\n",
      "2882/2882 [==============================] - 9s - loss: 0.0599 - sparse_categorical_accuracy: 0.9806 - val_loss: 0.0913 - val_sparse_categorical_accuracy: 0.9695\n",
      "Epoch 59/1000\n",
      "2880/2882 [============================>.] - ETA: 0s - loss: 0.0746 - sparse_categorical_accuracy: 0.9743Epoch 00058: val_loss did not improve\n",
      "2882/2882 [==============================] - 9s - loss: 0.0745 - sparse_categorical_accuracy: 0.9743 - val_loss: 0.1118 - val_sparse_categorical_accuracy: 0.9640\n",
      "Epoch 60/1000\n",
      "2880/2882 [============================>.] - ETA: 0s - loss: 0.0725 - sparse_categorical_accuracy: 0.9743Epoch 00059: val_loss did not improve\n",
      "2882/2882 [==============================] - 9s - loss: 0.0725 - sparse_categorical_accuracy: 0.9743 - val_loss: 0.0978 - val_sparse_categorical_accuracy: 0.9668\n",
      "Epoch 61/1000\n",
      "2880/2882 [============================>.] - ETA: 0s - loss: 0.0734 - sparse_categorical_accuracy: 0.9743Epoch 00060: val_loss did not improve\n",
      "2882/2882 [==============================] - 9s - loss: 0.0737 - sparse_categorical_accuracy: 0.9740 - val_loss: 0.0950 - val_sparse_categorical_accuracy: 0.9640\n",
      "Epoch 62/1000\n",
      "2880/2882 [============================>.] - ETA: 0s - loss: 0.0792 - sparse_categorical_accuracy: 0.9698Epoch 00061: val_loss did not improve\n",
      "2882/2882 [==============================] - 9s - loss: 0.0792 - sparse_categorical_accuracy: 0.9698 - val_loss: 0.1092 - val_sparse_categorical_accuracy: 0.9640\n",
      "Epoch 63/1000\n",
      "2880/2882 [============================>.] - ETA: 0s - loss: 0.0675 - sparse_categorical_accuracy: 0.9743Epoch 00062: val_loss did not improve\n",
      "2882/2882 [==============================] - 9s - loss: 0.0675 - sparse_categorical_accuracy: 0.9743 - val_loss: 0.0967 - val_sparse_categorical_accuracy: 0.9640\n",
      "Epoch 64/1000\n",
      "2880/2882 [============================>.] - ETA: 0s - loss: 0.0639 - sparse_categorical_accuracy: 0.9747Epoch 00063: val_loss did not improve\n",
      "2882/2882 [==============================] - 9s - loss: 0.0638 - sparse_categorical_accuracy: 0.9747 - val_loss: 0.0979 - val_sparse_categorical_accuracy: 0.9640\n",
      "Epoch 65/1000\n",
      "2880/2882 [============================>.] - ETA: 0s - loss: 0.0584 - sparse_categorical_accuracy: 0.9792Epoch 00064: val_loss did not improve\n",
      "2882/2882 [==============================] - 9s - loss: 0.0584 - sparse_categorical_accuracy: 0.9792 - val_loss: 0.1197 - val_sparse_categorical_accuracy: 0.9654\n",
      "Epoch 66/1000\n",
      "2880/2882 [============================>.] - ETA: 0s - loss: 0.0596 - sparse_categorical_accuracy: 0.9785Epoch 00065: val_loss did not improve\n",
      "2882/2882 [==============================] - 9s - loss: 0.0595 - sparse_categorical_accuracy: 0.9785 - val_loss: 0.0977 - val_sparse_categorical_accuracy: 0.9668\n",
      "Epoch 67/1000\n",
      "2880/2882 [============================>.] - ETA: 0s - loss: 0.0609 - sparse_categorical_accuracy: 0.9781Epoch 00066: val_loss did not improve\n",
      "2882/2882 [==============================] - 9s - loss: 0.0609 - sparse_categorical_accuracy: 0.9781 - val_loss: 0.1040 - val_sparse_categorical_accuracy: 0.9695\n",
      "Epoch 68/1000\n",
      "2880/2882 [============================>.] - ETA: 0s - loss: 0.0536 - sparse_categorical_accuracy: 0.9792Epoch 00067: val_loss did not improve\n",
      "2882/2882 [==============================] - 9s - loss: 0.0536 - sparse_categorical_accuracy: 0.9792 - val_loss: 0.1065 - val_sparse_categorical_accuracy: 0.9668\n",
      "Epoch 69/1000\n",
      "2880/2882 [============================>.] - ETA: 0s - loss: 0.0536 - sparse_categorical_accuracy: 0.9830Epoch 00068: val_loss did not improve\n",
      "2882/2882 [==============================] - 9s - loss: 0.0535 - sparse_categorical_accuracy: 0.9830 - val_loss: 0.0947 - val_sparse_categorical_accuracy: 0.9709\n",
      "Epoch 70/1000\n",
      "2880/2882 [============================>.] - ETA: 0s - loss: 0.0696 - sparse_categorical_accuracy: 0.9767Epoch 00069: val_loss did not improve\n",
      "2882/2882 [==============================] - 9s - loss: 0.0696 - sparse_categorical_accuracy: 0.9768 - val_loss: 0.0879 - val_sparse_categorical_accuracy: 0.9723\n",
      "Epoch 71/1000\n",
      "2880/2882 [============================>.] - ETA: 0s - loss: 0.0543 - sparse_categorical_accuracy: 0.9802Epoch 00070: val_loss did not improve\n",
      "2882/2882 [==============================] - 9s - loss: 0.0544 - sparse_categorical_accuracy: 0.9802 - val_loss: 0.0998 - val_sparse_categorical_accuracy: 0.9681\n",
      "Epoch 72/1000\n",
      "2880/2882 [============================>.] - ETA: 0s - loss: 0.0732 - sparse_categorical_accuracy: 0.9743Epoch 00071: val_loss did not improve\n",
      "2882/2882 [==============================] - 9s - loss: 0.0732 - sparse_categorical_accuracy: 0.9743 - val_loss: 0.1010 - val_sparse_categorical_accuracy: 0.9654\n",
      "Epoch 73/1000\n",
      "2880/2882 [============================>.] - ETA: 0s - loss: 0.0690 - sparse_categorical_accuracy: 0.9743Epoch 00072: val_loss did not improve\n",
      "2882/2882 [==============================] - 9s - loss: 0.0689 - sparse_categorical_accuracy: 0.9743 - val_loss: 0.0919 - val_sparse_categorical_accuracy: 0.9681\n",
      "Epoch 74/1000\n",
      "2880/2882 [============================>.] - ETA: 0s - loss: 0.0602 - sparse_categorical_accuracy: 0.9757Epoch 00073: val_loss did not improve\n",
      "2882/2882 [==============================] - 9s - loss: 0.0602 - sparse_categorical_accuracy: 0.9757 - val_loss: 0.0889 - val_sparse_categorical_accuracy: 0.9695\n",
      "Epoch 00073: early stopping\n"
     ]
    },
    {
     "data": {
      "text/plain": [
       "<keras.callbacks.History at 0x7f12dc230390>"
      ]
     },
     "execution_count": 12,
     "metadata": {},
     "output_type": "execute_result"
    }
   ],
   "source": [
    "model.fit(x=X_train, \n",
    "          y=y_train, \n",
    "          batch_size=32, \n",
    "          epochs=1000, \n",
    "          verbose=1, \n",
    "          callbacks=callbacks_list, \n",
    "          validation_data=(X_val, y_val), \n",
    "          shuffle=True)\n"
   ]
  },
  {
   "cell_type": "code",
   "execution_count": 13,
   "metadata": {
    "collapsed": false
   },
   "outputs": [
    {
     "name": "stdout",
     "output_type": "stream",
     "text": [
      "['loss', 'sparse_categorical_accuracy']\n",
      "2848/2882 [============================>.] - ETA: 0s"
     ]
    },
    {
     "data": {
      "text/plain": [
       "[0.024183857388307108, 0.99340735600277585]"
      ]
     },
     "execution_count": 13,
     "metadata": {},
     "output_type": "execute_result"
    }
   ],
   "source": [
    "from keras.models import load_model\n",
    "trained_model = load_model(model_name)\n",
    "print(trained_model.metrics_names)\n",
    "trained_model.evaluate(x=X_train, y=y_train)\n"
   ]
  },
  {
   "cell_type": "code",
   "execution_count": 14,
   "metadata": {
    "collapsed": false
   },
   "outputs": [
    {
     "name": "stdout",
     "output_type": "stream",
     "text": [
      "722/722 [==============================] - 0s     \n"
     ]
    },
    {
     "data": {
      "text/plain": [
       "[0.084737929383968708, 0.97091412742382266]"
      ]
     },
     "execution_count": 14,
     "metadata": {},
     "output_type": "execute_result"
    }
   ],
   "source": [
    "trained_model.evaluate(x=X_val, y=y_val)"
   ]
  },
  {
   "cell_type": "markdown",
   "metadata": {
    "collapsed": true
   },
   "source": [
    "    "
   ]
  }
 ],
 "metadata": {
  "kernelspec": {
   "display_name": "Python 3",
   "language": "python",
   "name": "python3"
  },
  "language_info": {
   "codemirror_mode": {
    "name": "ipython",
    "version": 3
   },
   "file_extension": ".py",
   "mimetype": "text/x-python",
   "name": "python",
   "nbconvert_exporter": "python",
   "pygments_lexer": "ipython3",
   "version": "3.5.2"
  }
 },
 "nbformat": 4,
 "nbformat_minor": 0
}
