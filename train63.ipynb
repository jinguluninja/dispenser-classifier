{
 "cells": [
  {
   "cell_type": "code",
   "execution_count": 1,
   "metadata": {
    "collapsed": false
   },
   "outputs": [
    {
     "name": "stderr",
     "output_type": "stream",
     "text": [
      "Using TensorFlow backend.\n"
     ]
    }
   ],
   "source": [
    "import os\n",
    "import keras\n",
    "import numpy as np\n",
    "np.random.seed(135109)"
   ]
  },
  {
   "cell_type": "code",
   "execution_count": 2,
   "metadata": {
    "collapsed": false
   },
   "outputs": [],
   "source": [
    "sensor = '63'"
   ]
  },
  {
   "cell_type": "code",
   "execution_count": 3,
   "metadata": {
    "collapsed": false
   },
   "outputs": [],
   "source": [
    "def dataset():\n",
    "    X = []\n",
    "    y = []\n",
    "    data_dir_0 = sorted(os.listdir(os.path.join('pac_data', sensor, '0')))   \n",
    "    i = 0\n",
    "    for f in data_dir_0:\n",
    "        if i % 100 == 0: print(i)\n",
    "        i += 1\n",
    "        X.append(np.load(os.path.join('pac_data', sensor, '0', f))['x'])\n",
    "        y.append(0)\n",
    "    X = np.asarray(X, dtype=np.float16)\n",
    "    y = np.asarray(y, dtype=int)\n",
    "    indices = np.arange(y.shape[0])\n",
    "    np.random.shuffle(indices)\n",
    "    X_train = X[indices[:int(0.8*len(indices))]]\n",
    "    y_train = y[indices[:int(0.8*len(indices))]]\n",
    "    X_val = X[indices[int(0.8*len(indices)):]]\n",
    "    y_val = y[indices[int(0.8*len(indices)):]]\n",
    "    labels_present = os.listdir(os.path.join('pac_data', sensor))\n",
    "    if '1' in labels_present:\n",
    "        X = []\n",
    "        y = []\n",
    "        data_dir_1 = sorted(os.listdir(os.path.join('pac_data', sensor, '1')))\n",
    "        i = 0\n",
    "        for f in data_dir_1:\n",
    "            if i % 100 == 0: print(i)\n",
    "            i += 1\n",
    "            X.append(np.load(os.path.join('pac_data', sensor, '1', f))['x'])\n",
    "            y.append(1)        \n",
    "        X = np.asarray(X, dtype=np.float16)\n",
    "        y = np.asarray(y, dtype=int)\n",
    "        indices = np.arange(y.shape[0])\n",
    "        np.random.shuffle(indices)\n",
    "        X_train = np.concatenate([X_train, X[indices[:int(0.8*len(indices))]]])\n",
    "        y_train = np.concatenate([y_train, y[indices[:int(0.8*len(indices))]]])\n",
    "        X_val = np.concatenate([X_val, X[indices[int(0.8*len(indices)):]]])\n",
    "        y_val = np.concatenate([y_val, y[indices[int(0.8*len(indices)):]]])\n",
    "    X_train = np.expand_dims(np.asarray(X_train, dtype=np.float16), axis=3)\n",
    "    y_train = np.asarray(y_train, dtype=int)\n",
    "    X_val = np.expand_dims(np.asarray(X_val, dtype=np.float16), axis=3)\n",
    "    y_val = np.asarray(y_val, dtype=int)\n",
    "    X_train /= 5.\n",
    "    X_val /= 5.\n",
    "    mean_arr = np.mean(X_train, axis = 0)\n",
    "    np.save(os.path.join('pac_data', sensor, 'mean.npy'), mean_arr)\n",
    "    X_train -= mean_arr \n",
    "    X_val -= mean_arr  \n",
    "    return X_train, y_train, X_val, y_val"
   ]
  },
  {
   "cell_type": "code",
   "execution_count": 4,
   "metadata": {
    "collapsed": false,
    "scrolled": true
   },
   "outputs": [
    {
     "name": "stdout",
     "output_type": "stream",
     "text": [
      "0\n",
      "100\n",
      "200\n",
      "300\n",
      "400\n",
      "500\n",
      "600\n",
      "700\n",
      "800\n",
      "900\n",
      "1000\n",
      "1100\n",
      "1200\n",
      "1300\n",
      "1400\n",
      "1500\n",
      "1600\n",
      "1700\n",
      "1800\n",
      "1900\n",
      "2000\n",
      "2100\n",
      "2200\n",
      "2300\n",
      "0\n",
      "100\n",
      "200\n",
      "300\n",
      "400\n",
      "500\n",
      "600\n",
      "700\n",
      "800\n",
      "900\n",
      "1000\n"
     ]
    }
   ],
   "source": [
    "X_train, y_train, X_val, y_val = dataset()"
   ]
  },
  {
   "cell_type": "code",
   "execution_count": 5,
   "metadata": {
    "collapsed": false
   },
   "outputs": [
    {
     "name": "stdout",
     "output_type": "stream",
     "text": [
      "(2682, 240, 320, 1) (2682,) (671, 240, 320, 1) (671,)\n"
     ]
    }
   ],
   "source": [
    "print(X_train.shape, y_train.shape, X_val.shape, y_val.shape)"
   ]
  },
  {
   "cell_type": "code",
   "execution_count": 6,
   "metadata": {
    "collapsed": false
   },
   "outputs": [
    {
     "name": "stdout",
     "output_type": "stream",
     "text": [
      "['/gpu:0']\n"
     ]
    }
   ],
   "source": [
    "from tensorflow.python.client import device_lib\n",
    "\n",
    "def get_available_gpus():\n",
    "    local_device_protos = device_lib.list_local_devices()\n",
    "    return [x.name for x in local_device_protos if x.device_type == 'GPU']\n",
    "\n",
    "print(get_available_gpus())"
   ]
  },
  {
   "cell_type": "code",
   "execution_count": 7,
   "metadata": {
    "collapsed": false
   },
   "outputs": [],
   "source": [
    "\n",
    "from keras.models import Sequential\n",
    "from keras.layers import TimeDistributed, GlobalAveragePooling2D, Activation, Dense, Input\n",
    "from keras.layers import BatchNormalization, Conv2D, MaxPooling2D, AveragePooling2D, GlobalAveragePooling2D\n",
    "from keras.layers import GlobalMaxPooling2D\n",
    "from keras.layers.recurrent import LSTM\n",
    "from keras.callbacks import ModelCheckpoint, ReduceLROnPlateau, EarlyStopping\n",
    "from keras.layers import Dropout, Flatten\n",
    "from keras.layers import concatenate\n",
    "from keras import regularizers\n",
    "from keras import initializers\n",
    "from keras import constraints\n",
    "from keras.models import Model\n",
    "from keras import backend as K\n",
    "from keras.utils.layer_utils import convert_all_kernels_in_model\n",
    "from keras.utils.data_utils import get_file\n",
    "from keras.utils import conv_utils\n",
    "from keras.engine.topology import get_source_inputs\n",
    "from keras.engine import InputSpec\n",
    "from keras.applications.xception import Xception\n",
    "from keras import metrics"
   ]
  },
  {
   "cell_type": "code",
   "execution_count": 8,
   "metadata": {
    "collapsed": true
   },
   "outputs": [],
   "source": [
    "#linear\n",
    "def linear(dropout):\n",
    "    inputs = Input(shape=(240, 320, 1))\n",
    "    x = Flatten()(inputs)\n",
    "    x = Dropout(dropout)(x)\n",
    "    x = Dense(2, activation='softmax')(x)\n",
    "    model = Model(inputs, x, name='linear')\n",
    "    return model"
   ]
  },
  {
   "cell_type": "code",
   "execution_count": 9,
   "metadata": {
    "collapsed": false
   },
   "outputs": [
    {
     "data": {
      "text/plain": [
       "\"\\ndef xception(dropout):\\n    base_model = Xception(include_top=False, input_shape = (240, 320, 1), pooling='avg')\\n    x = base_model.output\\n    x = Flatten()(x)\\n    x = Dropout(dropout)(x) # drop prob\\n    predictions = Dense(2, activation='softmax')(x)\\n    model = Model(inputs=base_model.input, outputs=predictions, name='linear')\\n    return model\\n\""
      ]
     },
     "execution_count": 9,
     "metadata": {},
     "output_type": "execute_result"
    }
   ],
   "source": [
    "from keras import layers\n",
    "from keras.layers import Activation\n",
    "from keras.layers import SeparableConv2D\n",
    "\n",
    "def xception(dropout):\n",
    "    inputs = Input(shape=(240, 320, 1))    \n",
    "\n",
    "    x = Conv2D(32, (3, 3), padding='same', strides=(2, 2), use_bias=False, name='block1_conv1')(inputs)\n",
    "    x = BatchNormalization(name='block1_conv1_bn')(x)\n",
    "    x = Activation('relu', name='block1_conv1_act')(x)\n",
    "    x = Conv2D(64, (3, 3), padding='same', use_bias=False, name='block1_conv2')(x)\n",
    "    x = BatchNormalization(name='block1_conv2_bn')(x)\n",
    "    x = Activation('relu', name='block1_conv2_act')(x)\n",
    "\n",
    "    residual = Conv2D(128, (1, 1), strides=(2, 2),\n",
    "                      padding='same', use_bias=False)(x)\n",
    "    residual = BatchNormalization()(residual)\n",
    "\n",
    "    x = SeparableConv2D(128, (3, 3), padding='same', use_bias=False, name='block2_sepconv1')(x)\n",
    "    x = BatchNormalization(name='block2_sepconv1_bn')(x)\n",
    "    x = Activation('relu', name='block2_sepconv2_act')(x)\n",
    "    x = SeparableConv2D(128, (3, 3), padding='same', use_bias=False, name='block2_sepconv2')(x)\n",
    "    x = BatchNormalization(name='block2_sepconv2_bn')(x)\n",
    "\n",
    "    x = MaxPooling2D((3, 3), strides=(2, 2), padding='same', name='block2_pool')(x)\n",
    "    x = layers.add([x, residual])\n",
    "\n",
    "    residual = Conv2D(256, (1, 1), strides=(2, 2),\n",
    "                      padding='same', use_bias=False)(x)\n",
    "    residual = BatchNormalization()(residual)\n",
    "\n",
    "    x = Activation('relu', name='block3_sepconv1_act')(x)\n",
    "    x = SeparableConv2D(256, (3, 3), padding='same', use_bias=False, name='block3_sepconv1')(x)\n",
    "    x = BatchNormalization(name='block3_sepconv1_bn')(x)\n",
    "    x = Activation('relu', name='block3_sepconv2_act')(x)\n",
    "    x = SeparableConv2D(256, (3, 3), padding='same', use_bias=False, name='block3_sepconv2')(x)\n",
    "    x = BatchNormalization(name='block3_sepconv2_bn')(x)\n",
    "\n",
    "    x = MaxPooling2D((3, 3), strides=(2, 2), padding='same', name='block3_pool')(x)\n",
    "    x = layers.add([x, residual])\n",
    "\n",
    "    residual = Conv2D(728, (1, 1), strides=(2, 2),\n",
    "                      padding='same', use_bias=False)(x)\n",
    "    residual = BatchNormalization()(residual)\n",
    "\n",
    "    x = Activation('relu', name='block4_sepconv1_act')(x)\n",
    "    x = SeparableConv2D(728, (3, 3), padding='same', use_bias=False, name='block4_sepconv1')(x)\n",
    "    x = BatchNormalization(name='block4_sepconv1_bn')(x)\n",
    "    x = Activation('relu', name='block4_sepconv2_act')(x)\n",
    "    x = SeparableConv2D(728, (3, 3), padding='same', use_bias=False, name='block4_sepconv2')(x)\n",
    "    x = BatchNormalization(name='block4_sepconv2_bn')(x)\n",
    "\n",
    "    x = MaxPooling2D((3, 3), strides=(2, 2), padding='same', name='block4_pool')(x)\n",
    "    x = layers.add([x, residual])\n",
    "\n",
    "    for i in range(8):\n",
    "        residual = x\n",
    "        prefix = 'block' + str(i + 5)\n",
    "\n",
    "        x = Activation('relu', name=prefix + '_sepconv1_act')(x)\n",
    "        x = SeparableConv2D(728, (3, 3), padding='same', use_bias=False, name=prefix + '_sepconv1')(x)\n",
    "        x = BatchNormalization(name=prefix + '_sepconv1_bn')(x)\n",
    "        x = Activation('relu', name=prefix + '_sepconv2_act')(x)\n",
    "        x = SeparableConv2D(728, (3, 3), padding='same', use_bias=False, name=prefix + '_sepconv2')(x)\n",
    "        x = BatchNormalization(name=prefix + '_sepconv2_bn')(x)\n",
    "        x = Activation('relu', name=prefix + '_sepconv3_act')(x)\n",
    "        x = SeparableConv2D(728, (3, 3), padding='same', use_bias=False, name=prefix + '_sepconv3')(x)\n",
    "        x = BatchNormalization(name=prefix + '_sepconv3_bn')(x)\n",
    "\n",
    "        x = layers.add([x, residual])\n",
    "\n",
    "    residual = Conv2D(1024, (1, 1), strides=(2, 2),\n",
    "                      padding='same', use_bias=False)(x)\n",
    "    residual = BatchNormalization()(residual)\n",
    "\n",
    "    x = Activation('relu', name='block13_sepconv1_act')(x)\n",
    "    x = SeparableConv2D(728, (3, 3), padding='same', use_bias=False, name='block13_sepconv1')(x)\n",
    "    x = BatchNormalization(name='block13_sepconv1_bn')(x)\n",
    "    x = Activation('relu', name='block13_sepconv2_act')(x)\n",
    "    x = SeparableConv2D(1024, (3, 3), padding='same', use_bias=False, name='block13_sepconv2')(x)\n",
    "    x = BatchNormalization(name='block13_sepconv2_bn')(x)\n",
    "\n",
    "    x = MaxPooling2D((3, 3), strides=(2, 2), padding='same', name='block13_pool')(x)\n",
    "    x = layers.add([x, residual])\n",
    "\n",
    "    x = SeparableConv2D(1536, (3, 3), padding='same', use_bias=False, name='block14_sepconv1')(x)\n",
    "    x = BatchNormalization(name='block14_sepconv1_bn')(x)\n",
    "    x = Activation('relu', name='block14_sepconv1_act')(x)\n",
    "\n",
    "    x = SeparableConv2D(2048, (3, 3), padding='same', use_bias=False, name='block14_sepconv2')(x)\n",
    "    x = BatchNormalization(name='block14_sepconv2_bn')(x)\n",
    "    x = Activation('relu', name='block14_sepconv2_act')(x)\n",
    "\n",
    "    x = GlobalAveragePooling2D(name='avg_pool')(x)\n",
    "    x = Dropout(dropout)(x)\n",
    "    x = Dense(2, activation='softmax', name='predictions')(x)\n",
    "    model = Model(inputs, x, name='xception')\n",
    "    return model\n",
    "\n",
    "\n",
    "'''\n",
    "def xception(dropout):\n",
    "    base_model = Xception(include_top=False, input_shape = (240, 320, 1), pooling='avg')\n",
    "    x = base_model.output\n",
    "    x = Flatten()(x)\n",
    "    x = Dropout(dropout)(x) # drop prob\n",
    "    predictions = Dense(2, activation='softmax')(x)\n",
    "    model = Model(inputs=base_model.input, outputs=predictions, name='linear')\n",
    "    return model\n",
    "'''"
   ]
  },
  {
   "cell_type": "code",
   "execution_count": 10,
   "metadata": {
    "collapsed": false
   },
   "outputs": [],
   "source": [
    "def vanillacnn(dropout):\n",
    "    inputs = Input(shape=(240, 320, 1)) \n",
    "    x = Conv2D(32, (3, 3), strides=(2, 2), padding='same')(inputs)\n",
    "    x = BatchNormalization()(x)\n",
    "    x = Activation('relu')(x)\n",
    "    x = MaxPooling2D((2, 2), strides=(2, 2), padding='same')(x)\n",
    "    x = Dropout(dropout)(x)\n",
    "    \n",
    "    x = Conv2D(64, (3, 3), strides=(2, 2), padding='same')(x)\n",
    "    x = BatchNormalization()(x)\n",
    "    x = Activation('relu')(x)\n",
    "    x = MaxPooling2D((2, 2), strides=(2, 2), padding='same')(x)\n",
    "    x = Dropout(dropout)(x)\n",
    "    \n",
    "    x = Conv2D(128, (3, 3), strides=(2, 2), padding='same')(x)\n",
    "    x = BatchNormalization()(x)\n",
    "    x = Activation('relu')(x)\n",
    "    x = MaxPooling2D((2, 2), strides=(2, 2), padding='same')(x)\n",
    "    x = Dropout(dropout)(x)\n",
    "    \n",
    "    x = Conv2D(256, (3, 3), strides=(2, 2), padding='same')(x)\n",
    "    x = BatchNormalization()(x)\n",
    "    x = Activation('relu')(x)\n",
    "    x = MaxPooling2D((2, 2), strides=(2, 2), padding='same')(x)\n",
    "    \n",
    "    x = Flatten()(x)\n",
    "    x = Dropout(dropout)(x)\n",
    "    x = Dense(2, activation='softmax', name='predictions')(x)\n",
    "    model = Model(inputs, x, name='xception')\n",
    "    return model\n",
    "    \n",
    "    "
   ]
  },
  {
   "cell_type": "code",
   "execution_count": 11,
   "metadata": {
    "collapsed": false,
    "scrolled": true
   },
   "outputs": [
    {
     "name": "stdout",
     "output_type": "stream",
     "text": [
      "_________________________________________________________________\n",
      "Layer (type)                 Output Shape              Param #   \n",
      "=================================================================\n",
      "input_1 (InputLayer)         (None, 240, 320, 1)       0         \n",
      "_________________________________________________________________\n",
      "conv2d_1 (Conv2D)            (None, 120, 160, 32)      320       \n",
      "_________________________________________________________________\n",
      "batch_normalization_1 (Batch (None, 120, 160, 32)      128       \n",
      "_________________________________________________________________\n",
      "activation_1 (Activation)    (None, 120, 160, 32)      0         \n",
      "_________________________________________________________________\n",
      "max_pooling2d_1 (MaxPooling2 (None, 60, 80, 32)        0         \n",
      "_________________________________________________________________\n",
      "dropout_1 (Dropout)          (None, 60, 80, 32)        0         \n",
      "_________________________________________________________________\n",
      "conv2d_2 (Conv2D)            (None, 30, 40, 64)        18496     \n",
      "_________________________________________________________________\n",
      "batch_normalization_2 (Batch (None, 30, 40, 64)        256       \n",
      "_________________________________________________________________\n",
      "activation_2 (Activation)    (None, 30, 40, 64)        0         \n",
      "_________________________________________________________________\n",
      "max_pooling2d_2 (MaxPooling2 (None, 15, 20, 64)        0         \n",
      "_________________________________________________________________\n",
      "dropout_2 (Dropout)          (None, 15, 20, 64)        0         \n",
      "_________________________________________________________________\n",
      "conv2d_3 (Conv2D)            (None, 8, 10, 128)        73856     \n",
      "_________________________________________________________________\n",
      "batch_normalization_3 (Batch (None, 8, 10, 128)        512       \n",
      "_________________________________________________________________\n",
      "activation_3 (Activation)    (None, 8, 10, 128)        0         \n",
      "_________________________________________________________________\n",
      "max_pooling2d_3 (MaxPooling2 (None, 4, 5, 128)         0         \n",
      "_________________________________________________________________\n",
      "dropout_3 (Dropout)          (None, 4, 5, 128)         0         \n",
      "_________________________________________________________________\n",
      "conv2d_4 (Conv2D)            (None, 2, 3, 256)         295168    \n",
      "_________________________________________________________________\n",
      "batch_normalization_4 (Batch (None, 2, 3, 256)         1024      \n",
      "_________________________________________________________________\n",
      "activation_4 (Activation)    (None, 2, 3, 256)         0         \n",
      "_________________________________________________________________\n",
      "max_pooling2d_4 (MaxPooling2 (None, 1, 2, 256)         0         \n",
      "_________________________________________________________________\n",
      "flatten_1 (Flatten)          (None, 512)               0         \n",
      "_________________________________________________________________\n",
      "dropout_4 (Dropout)          (None, 512)               0         \n",
      "_________________________________________________________________\n",
      "predictions (Dense)          (None, 2)                 1026      \n",
      "=================================================================\n",
      "Total params: 390,786\n",
      "Trainable params: 389,826\n",
      "Non-trainable params: 960\n",
      "_________________________________________________________________\n"
     ]
    }
   ],
   "source": [
    "model_name = 'model' + sensor + '.h5'\n",
    "model = vanillacnn(0.5)\n",
    "\n",
    "adam = keras.optimizers.Adam(lr=0.001)\n",
    "model.compile(optimizer=adam, loss='sparse_categorical_crossentropy', metrics=[metrics.sparse_categorical_accuracy])\n",
    "\n",
    "\n",
    "checkpoint = ModelCheckpoint(model_name, monitor='val_loss', verbose=1, save_best_only=True, mode='min')\n",
    "stop = EarlyStopping(patience=20, verbose=1)\n",
    "\n",
    "callbacks_list = [checkpoint, stop]\n",
    "\n",
    "model.summary()\n"
   ]
  },
  {
   "cell_type": "code",
   "execution_count": 12,
   "metadata": {
    "collapsed": false,
    "scrolled": false
   },
   "outputs": [
    {
     "name": "stdout",
     "output_type": "stream",
     "text": [
      "Train on 2682 samples, validate on 671 samples\n",
      "Epoch 1/1000\n",
      "2656/2682 [============================>.] - ETA: 0s - loss: 0.7272 - sparse_categorical_accuracy: 0.7398Epoch 00000: val_loss improved from inf to 0.65754, saving model to model63.h5\n",
      "2682/2682 [==============================] - 9s - loss: 0.7265 - sparse_categorical_accuracy: 0.7397 - val_loss: 0.6575 - val_sparse_categorical_accuracy: 0.7004\n",
      "Epoch 2/1000\n",
      "2656/2682 [============================>.] - ETA: 0s - loss: 0.5030 - sparse_categorical_accuracy: 0.8076Epoch 00001: val_loss improved from 0.65754 to 0.61382, saving model to model63.h5\n",
      "2682/2682 [==============================] - 8s - loss: 0.4992 - sparse_categorical_accuracy: 0.8087 - val_loss: 0.6138 - val_sparse_categorical_accuracy: 0.7004\n",
      "Epoch 3/1000\n",
      "2656/2682 [============================>.] - ETA: 0s - loss: 0.3939 - sparse_categorical_accuracy: 0.8490Epoch 00002: val_loss improved from 0.61382 to 0.60730, saving model to model63.h5\n",
      "2682/2682 [==============================] - 8s - loss: 0.3959 - sparse_categorical_accuracy: 0.8490 - val_loss: 0.6073 - val_sparse_categorical_accuracy: 0.7004\n",
      "Epoch 4/1000\n",
      "2656/2682 [============================>.] - ETA: 0s - loss: 0.3176 - sparse_categorical_accuracy: 0.8810Epoch 00003: val_loss improved from 0.60730 to 0.60153, saving model to model63.h5\n",
      "2682/2682 [==============================] - 8s - loss: 0.3167 - sparse_categorical_accuracy: 0.8814 - val_loss: 0.6015 - val_sparse_categorical_accuracy: 0.7004\n",
      "Epoch 5/1000\n",
      "2656/2682 [============================>.] - ETA: 0s - loss: 0.2671 - sparse_categorical_accuracy: 0.8991Epoch 00004: val_loss improved from 0.60153 to 0.59893, saving model to model63.h5\n",
      "2682/2682 [==============================] - 8s - loss: 0.2679 - sparse_categorical_accuracy: 0.8986 - val_loss: 0.5989 - val_sparse_categorical_accuracy: 0.7004\n",
      "Epoch 6/1000\n",
      "2656/2682 [============================>.] - ETA: 0s - loss: 0.2440 - sparse_categorical_accuracy: 0.9062Epoch 00005: val_loss improved from 0.59893 to 0.50967, saving model to model63.h5\n",
      "2682/2682 [==============================] - 8s - loss: 0.2445 - sparse_categorical_accuracy: 0.9057 - val_loss: 0.5097 - val_sparse_categorical_accuracy: 0.7049\n",
      "Epoch 7/1000\n",
      "2656/2682 [============================>.] - ETA: 0s - loss: 0.2265 - sparse_categorical_accuracy: 0.9111Epoch 00006: val_loss improved from 0.50967 to 0.42144, saving model to model63.h5\n",
      "2682/2682 [==============================] - 8s - loss: 0.2255 - sparse_categorical_accuracy: 0.9116 - val_loss: 0.4214 - val_sparse_categorical_accuracy: 0.7571\n",
      "Epoch 8/1000\n",
      "2656/2682 [============================>.] - ETA: 0s - loss: 0.2212 - sparse_categorical_accuracy: 0.9239Epoch 00007: val_loss improved from 0.42144 to 0.22242, saving model to model63.h5\n",
      "2682/2682 [==============================] - 8s - loss: 0.2223 - sparse_categorical_accuracy: 0.9239 - val_loss: 0.2224 - val_sparse_categorical_accuracy: 0.8972\n",
      "Epoch 9/1000\n",
      "2656/2682 [============================>.] - ETA: 0s - loss: 0.2109 - sparse_categorical_accuracy: 0.9221Epoch 00008: val_loss improved from 0.22242 to 0.15854, saving model to model63.h5\n",
      "2682/2682 [==============================] - 8s - loss: 0.2097 - sparse_categorical_accuracy: 0.9221 - val_loss: 0.1585 - val_sparse_categorical_accuracy: 0.9359\n",
      "Epoch 10/1000\n",
      "2656/2682 [============================>.] - ETA: 0s - loss: 0.1829 - sparse_categorical_accuracy: 0.9326Epoch 00009: val_loss did not improve\n",
      "2682/2682 [==============================] - 8s - loss: 0.1821 - sparse_categorical_accuracy: 0.9329 - val_loss: 0.1605 - val_sparse_categorical_accuracy: 0.9359\n",
      "Epoch 11/1000\n",
      "2656/2682 [============================>.] - ETA: 0s - loss: 0.1653 - sparse_categorical_accuracy: 0.9379Epoch 00010: val_loss improved from 0.15854 to 0.14424, saving model to model63.h5\n",
      "2682/2682 [==============================] - 8s - loss: 0.1663 - sparse_categorical_accuracy: 0.9381 - val_loss: 0.1442 - val_sparse_categorical_accuracy: 0.9449\n",
      "Epoch 12/1000\n",
      "2656/2682 [============================>.] - ETA: 0s - loss: 0.2095 - sparse_categorical_accuracy: 0.9187Epoch 00011: val_loss improved from 0.14424 to 0.13743, saving model to model63.h5\n",
      "2682/2682 [==============================] - 8s - loss: 0.2098 - sparse_categorical_accuracy: 0.9180 - val_loss: 0.1374 - val_sparse_categorical_accuracy: 0.9449\n",
      "Epoch 13/1000\n",
      "2656/2682 [============================>.] - ETA: 0s - loss: 0.1683 - sparse_categorical_accuracy: 0.9337Epoch 00012: val_loss improved from 0.13743 to 0.12892, saving model to model63.h5\n",
      "2682/2682 [==============================] - 8s - loss: 0.1679 - sparse_categorical_accuracy: 0.9336 - val_loss: 0.1289 - val_sparse_categorical_accuracy: 0.9523\n",
      "Epoch 14/1000\n",
      "2656/2682 [============================>.] - ETA: 0s - loss: 0.1653 - sparse_categorical_accuracy: 0.9330Epoch 00013: val_loss improved from 0.12892 to 0.12835, saving model to model63.h5\n",
      "2682/2682 [==============================] - 8s - loss: 0.1641 - sparse_categorical_accuracy: 0.9336 - val_loss: 0.1284 - val_sparse_categorical_accuracy: 0.9449\n",
      "Epoch 15/1000\n",
      "2656/2682 [============================>.] - ETA: 0s - loss: 0.1509 - sparse_categorical_accuracy: 0.9450Epoch 00014: val_loss improved from 0.12835 to 0.12695, saving model to model63.h5\n",
      "2682/2682 [==============================] - 8s - loss: 0.1513 - sparse_categorical_accuracy: 0.9444 - val_loss: 0.1269 - val_sparse_categorical_accuracy: 0.9523\n",
      "Epoch 16/1000\n",
      "2656/2682 [============================>.] - ETA: 0s - loss: 0.1503 - sparse_categorical_accuracy: 0.9439Epoch 00015: val_loss improved from 0.12695 to 0.12653, saving model to model63.h5\n",
      "2682/2682 [==============================] - 8s - loss: 0.1525 - sparse_categorical_accuracy: 0.9441 - val_loss: 0.1265 - val_sparse_categorical_accuracy: 0.9508\n",
      "Epoch 17/1000\n",
      "2656/2682 [============================>.] - ETA: 0s - loss: 0.1451 - sparse_categorical_accuracy: 0.9458Epoch 00016: val_loss improved from 0.12653 to 0.12142, saving model to model63.h5\n",
      "2682/2682 [==============================] - 8s - loss: 0.1451 - sparse_categorical_accuracy: 0.9456 - val_loss: 0.1214 - val_sparse_categorical_accuracy: 0.9553\n",
      "Epoch 18/1000\n",
      "2656/2682 [============================>.] - ETA: 0s - loss: 0.1491 - sparse_categorical_accuracy: 0.9473Epoch 00017: val_loss improved from 0.12142 to 0.12109, saving model to model63.h5\n",
      "2682/2682 [==============================] - 8s - loss: 0.1494 - sparse_categorical_accuracy: 0.9471 - val_loss: 0.1211 - val_sparse_categorical_accuracy: 0.9478\n",
      "Epoch 19/1000\n",
      "2656/2682 [============================>.] - ETA: 0s - loss: 0.1448 - sparse_categorical_accuracy: 0.9469Epoch 00018: val_loss improved from 0.12109 to 0.11905, saving model to model63.h5\n",
      "2682/2682 [==============================] - 8s - loss: 0.1436 - sparse_categorical_accuracy: 0.9474 - val_loss: 0.1190 - val_sparse_categorical_accuracy: 0.9523\n",
      "Epoch 20/1000\n",
      "2656/2682 [============================>.] - ETA: 0s - loss: 0.1366 - sparse_categorical_accuracy: 0.9462Epoch 00019: val_loss did not improve\n",
      "2682/2682 [==============================] - 8s - loss: 0.1371 - sparse_categorical_accuracy: 0.9459 - val_loss: 0.1237 - val_sparse_categorical_accuracy: 0.9508\n",
      "Epoch 21/1000\n",
      "2656/2682 [============================>.] - ETA: 0s - loss: 0.1308 - sparse_categorical_accuracy: 0.9488Epoch 00020: val_loss did not improve\n",
      "2682/2682 [==============================] - 8s - loss: 0.1299 - sparse_categorical_accuracy: 0.9493 - val_loss: 0.1215 - val_sparse_categorical_accuracy: 0.9508\n",
      "Epoch 22/1000\n",
      "2656/2682 [============================>.] - ETA: 0s - loss: 0.1227 - sparse_categorical_accuracy: 0.9544Epoch 00021: val_loss did not improve\n",
      "2682/2682 [==============================] - 8s - loss: 0.1220 - sparse_categorical_accuracy: 0.9545 - val_loss: 0.1222 - val_sparse_categorical_accuracy: 0.9478\n",
      "Epoch 23/1000\n",
      "2656/2682 [============================>.] - ETA: 0s - loss: 0.1173 - sparse_categorical_accuracy: 0.9556Epoch 00022: val_loss did not improve\n",
      "2682/2682 [==============================] - 8s - loss: 0.1166 - sparse_categorical_accuracy: 0.9560 - val_loss: 0.1194 - val_sparse_categorical_accuracy: 0.9538\n",
      "Epoch 24/1000\n",
      "2656/2682 [============================>.] - ETA: 0s - loss: 0.1114 - sparse_categorical_accuracy: 0.9575Epoch 00023: val_loss did not improve\n",
      "2682/2682 [==============================] - 8s - loss: 0.1118 - sparse_categorical_accuracy: 0.9575 - val_loss: 0.1213 - val_sparse_categorical_accuracy: 0.9538\n",
      "Epoch 25/1000\n",
      "2656/2682 [============================>.] - ETA: 0s - loss: 0.1224 - sparse_categorical_accuracy: 0.9526Epoch 00024: val_loss did not improve\n",
      "2682/2682 [==============================] - 8s - loss: 0.1229 - sparse_categorical_accuracy: 0.9523 - val_loss: 0.1327 - val_sparse_categorical_accuracy: 0.9449\n",
      "Epoch 26/1000\n",
      "2656/2682 [============================>.] - ETA: 0s - loss: 0.1332 - sparse_categorical_accuracy: 0.9537Epoch 00025: val_loss did not improve\n",
      "2682/2682 [==============================] - 8s - loss: 0.1320 - sparse_categorical_accuracy: 0.9541 - val_loss: 0.1326 - val_sparse_categorical_accuracy: 0.9508\n",
      "Epoch 27/1000\n",
      "2656/2682 [============================>.] - ETA: 0s - loss: 0.0996 - sparse_categorical_accuracy: 0.9657Epoch 00026: val_loss improved from 0.11905 to 0.11820, saving model to model63.h5\n",
      "2682/2682 [==============================] - 8s - loss: 0.0997 - sparse_categorical_accuracy: 0.9657 - val_loss: 0.1182 - val_sparse_categorical_accuracy: 0.9538\n",
      "Epoch 28/1000\n",
      "2656/2682 [============================>.] - ETA: 0s - loss: 0.1069 - sparse_categorical_accuracy: 0.9612Epoch 00027: val_loss did not improve\n",
      "2682/2682 [==============================] - 8s - loss: 0.1088 - sparse_categorical_accuracy: 0.9605 - val_loss: 0.1227 - val_sparse_categorical_accuracy: 0.9508\n",
      "Epoch 29/1000\n",
      "2656/2682 [============================>.] - ETA: 0s - loss: 0.1216 - sparse_categorical_accuracy: 0.9503Epoch 00028: val_loss improved from 0.11820 to 0.11469, saving model to model63.h5\n",
      "2682/2682 [==============================] - 8s - loss: 0.1217 - sparse_categorical_accuracy: 0.9497 - val_loss: 0.1147 - val_sparse_categorical_accuracy: 0.9568\n",
      "Epoch 30/1000\n",
      "2656/2682 [============================>.] - ETA: 0s - loss: 0.1038 - sparse_categorical_accuracy: 0.9612Epoch 00029: val_loss did not improve\n",
      "2682/2682 [==============================] - 8s - loss: 0.1045 - sparse_categorical_accuracy: 0.9612 - val_loss: 0.1188 - val_sparse_categorical_accuracy: 0.9598\n",
      "Epoch 31/1000\n",
      "2656/2682 [============================>.] - ETA: 0s - loss: 0.0991 - sparse_categorical_accuracy: 0.9620Epoch 00030: val_loss improved from 0.11469 to 0.11378, saving model to model63.h5\n",
      "2682/2682 [==============================] - 8s - loss: 0.0985 - sparse_categorical_accuracy: 0.9623 - val_loss: 0.1138 - val_sparse_categorical_accuracy: 0.9583\n",
      "Epoch 32/1000\n",
      "2656/2682 [============================>.] - ETA: 0s - loss: 0.1027 - sparse_categorical_accuracy: 0.9597Epoch 00031: val_loss did not improve\n",
      "2682/2682 [==============================] - 8s - loss: 0.1029 - sparse_categorical_accuracy: 0.9597 - val_loss: 0.1234 - val_sparse_categorical_accuracy: 0.9523\n",
      "Epoch 33/1000\n",
      "2656/2682 [============================>.] - ETA: 0s - loss: 0.1076 - sparse_categorical_accuracy: 0.9627Epoch 00032: val_loss did not improve\n",
      "2682/2682 [==============================] - 8s - loss: 0.1093 - sparse_categorical_accuracy: 0.9627 - val_loss: 0.1239 - val_sparse_categorical_accuracy: 0.9493\n",
      "Epoch 34/1000\n",
      "2656/2682 [============================>.] - ETA: 0s - loss: 0.0924 - sparse_categorical_accuracy: 0.9627Epoch 00033: val_loss improved from 0.11378 to 0.11133, saving model to model63.h5\n",
      "2682/2682 [==============================] - 8s - loss: 0.0918 - sparse_categorical_accuracy: 0.9631 - val_loss: 0.1113 - val_sparse_categorical_accuracy: 0.9613\n",
      "Epoch 35/1000\n",
      "2656/2682 [============================>.] - ETA: 0s - loss: 0.0948 - sparse_categorical_accuracy: 0.9657Epoch 00034: val_loss improved from 0.11133 to 0.10635, saving model to model63.h5\n",
      "2682/2682 [==============================] - 8s - loss: 0.0946 - sparse_categorical_accuracy: 0.9653 - val_loss: 0.1063 - val_sparse_categorical_accuracy: 0.9627\n",
      "Epoch 36/1000\n",
      "2656/2682 [============================>.] - ETA: 0s - loss: 0.0910 - sparse_categorical_accuracy: 0.9680Epoch 00035: val_loss did not improve\n",
      "2682/2682 [==============================] - 8s - loss: 0.0903 - sparse_categorical_accuracy: 0.9683 - val_loss: 0.1234 - val_sparse_categorical_accuracy: 0.9523\n",
      "Epoch 37/1000\n",
      "2656/2682 [============================>.] - ETA: 0s - loss: 0.0884 - sparse_categorical_accuracy: 0.9669Epoch 00036: val_loss did not improve\n",
      "2682/2682 [==============================] - 8s - loss: 0.0904 - sparse_categorical_accuracy: 0.9661 - val_loss: 0.1310 - val_sparse_categorical_accuracy: 0.9463\n",
      "Epoch 38/1000\n",
      "2656/2682 [============================>.] - ETA: 0s - loss: 0.0869 - sparse_categorical_accuracy: 0.9639Epoch 00037: val_loss did not improve\n",
      "2682/2682 [==============================] - 8s - loss: 0.0887 - sparse_categorical_accuracy: 0.9635 - val_loss: 0.1198 - val_sparse_categorical_accuracy: 0.9553\n",
      "Epoch 39/1000\n",
      "2656/2682 [============================>.] - ETA: 0s - loss: 0.0929 - sparse_categorical_accuracy: 0.9665Epoch 00038: val_loss did not improve\n",
      "2682/2682 [==============================] - 8s - loss: 0.0923 - sparse_categorical_accuracy: 0.9668 - val_loss: 0.1127 - val_sparse_categorical_accuracy: 0.9613\n",
      "Epoch 40/1000\n",
      "2656/2682 [============================>.] - ETA: 0s - loss: 0.0943 - sparse_categorical_accuracy: 0.9639Epoch 00039: val_loss did not improve\n",
      "2682/2682 [==============================] - 8s - loss: 0.0935 - sparse_categorical_accuracy: 0.9642 - val_loss: 0.1095 - val_sparse_categorical_accuracy: 0.9613\n",
      "Epoch 41/1000\n",
      "2656/2682 [============================>.] - ETA: 0s - loss: 0.0928 - sparse_categorical_accuracy: 0.9661Epoch 00040: val_loss did not improve\n",
      "2682/2682 [==============================] - 8s - loss: 0.0932 - sparse_categorical_accuracy: 0.9653 - val_loss: 0.1336 - val_sparse_categorical_accuracy: 0.9553\n",
      "Epoch 42/1000\n",
      "2656/2682 [============================>.] - ETA: 0s - loss: 0.0852 - sparse_categorical_accuracy: 0.9680Epoch 00041: val_loss did not improve\n",
      "2682/2682 [==============================] - 8s - loss: 0.0844 - sparse_categorical_accuracy: 0.9683 - val_loss: 0.1149 - val_sparse_categorical_accuracy: 0.9598\n",
      "Epoch 43/1000\n",
      "2656/2682 [============================>.] - ETA: 0s - loss: 0.0960 - sparse_categorical_accuracy: 0.9657Epoch 00042: val_loss did not improve\n",
      "2682/2682 [==============================] - 8s - loss: 0.0954 - sparse_categorical_accuracy: 0.9661 - val_loss: 0.1444 - val_sparse_categorical_accuracy: 0.9404\n",
      "Epoch 44/1000\n",
      "2656/2682 [============================>.] - ETA: 0s - loss: 0.0807 - sparse_categorical_accuracy: 0.9699Epoch 00043: val_loss did not improve\n",
      "2682/2682 [==============================] - 8s - loss: 0.0818 - sparse_categorical_accuracy: 0.9698 - val_loss: 0.1138 - val_sparse_categorical_accuracy: 0.9538\n",
      "Epoch 45/1000\n",
      "2656/2682 [============================>.] - ETA: 0s - loss: 0.0718 - sparse_categorical_accuracy: 0.9736Epoch 00044: val_loss did not improve\n",
      "2682/2682 [==============================] - 8s - loss: 0.0717 - sparse_categorical_accuracy: 0.9735 - val_loss: 0.1182 - val_sparse_categorical_accuracy: 0.9553\n",
      "Epoch 46/1000\n",
      "2656/2682 [============================>.] - ETA: 0s - loss: 0.0759 - sparse_categorical_accuracy: 0.9703Epoch 00045: val_loss did not improve\n",
      "2682/2682 [==============================] - 8s - loss: 0.0756 - sparse_categorical_accuracy: 0.9702 - val_loss: 0.1328 - val_sparse_categorical_accuracy: 0.9449\n",
      "Epoch 47/1000\n",
      "2656/2682 [============================>.] - ETA: 0s - loss: 0.0746 - sparse_categorical_accuracy: 0.9721Epoch 00046: val_loss did not improve\n",
      "2682/2682 [==============================] - 8s - loss: 0.0746 - sparse_categorical_accuracy: 0.9720 - val_loss: 0.1184 - val_sparse_categorical_accuracy: 0.9568\n",
      "Epoch 48/1000\n",
      "2656/2682 [============================>.] - ETA: 0s - loss: 0.0741 - sparse_categorical_accuracy: 0.9725Epoch 00047: val_loss did not improve\n",
      "2682/2682 [==============================] - 8s - loss: 0.0747 - sparse_categorical_accuracy: 0.9724 - val_loss: 0.1430 - val_sparse_categorical_accuracy: 0.9449\n",
      "Epoch 49/1000\n",
      "2656/2682 [============================>.] - ETA: 0s - loss: 0.0745 - sparse_categorical_accuracy: 0.9714Epoch 00048: val_loss did not improve\n",
      "2682/2682 [==============================] - 8s - loss: 0.0741 - sparse_categorical_accuracy: 0.9717 - val_loss: 0.1719 - val_sparse_categorical_accuracy: 0.9434\n",
      "Epoch 50/1000\n",
      "2656/2682 [============================>.] - ETA: 0s - loss: 0.0722 - sparse_categorical_accuracy: 0.9710Epoch 00049: val_loss did not improve\n",
      "2682/2682 [==============================] - 8s - loss: 0.0727 - sparse_categorical_accuracy: 0.9705 - val_loss: 0.1216 - val_sparse_categorical_accuracy: 0.9493\n",
      "Epoch 51/1000\n",
      "2656/2682 [============================>.] - ETA: 0s - loss: 0.0739 - sparse_categorical_accuracy: 0.9710Epoch 00050: val_loss did not improve\n",
      "2682/2682 [==============================] - 8s - loss: 0.0734 - sparse_categorical_accuracy: 0.9713 - val_loss: 0.1225 - val_sparse_categorical_accuracy: 0.9523\n",
      "Epoch 52/1000\n",
      "2656/2682 [============================>.] - ETA: 0s - loss: 0.0732 - sparse_categorical_accuracy: 0.9733Epoch 00051: val_loss did not improve\n",
      "2682/2682 [==============================] - 8s - loss: 0.0762 - sparse_categorical_accuracy: 0.9732 - val_loss: 0.1282 - val_sparse_categorical_accuracy: 0.9493\n",
      "Epoch 53/1000\n",
      "2656/2682 [============================>.] - ETA: 0s - loss: 0.0692 - sparse_categorical_accuracy: 0.9752Epoch 00052: val_loss did not improve\n",
      "2682/2682 [==============================] - 8s - loss: 0.0687 - sparse_categorical_accuracy: 0.9754 - val_loss: 0.1114 - val_sparse_categorical_accuracy: 0.9583\n",
      "Epoch 54/1000\n",
      "2656/2682 [============================>.] - ETA: 0s - loss: 0.0633 - sparse_categorical_accuracy: 0.9782Epoch 00053: val_loss did not improve\n",
      "2682/2682 [==============================] - 8s - loss: 0.0636 - sparse_categorical_accuracy: 0.9780 - val_loss: 0.1148 - val_sparse_categorical_accuracy: 0.9553\n",
      "Epoch 55/1000\n",
      "2656/2682 [============================>.] - ETA: 0s - loss: 0.0676 - sparse_categorical_accuracy: 0.9759Epoch 00054: val_loss did not improve\n",
      "2682/2682 [==============================] - 8s - loss: 0.0692 - sparse_categorical_accuracy: 0.9758 - val_loss: 0.1174 - val_sparse_categorical_accuracy: 0.9583\n",
      "Epoch 56/1000\n",
      "2656/2682 [============================>.] - ETA: 0s - loss: 0.0632 - sparse_categorical_accuracy: 0.9767Epoch 00055: val_loss did not improve\n",
      "2682/2682 [==============================] - 8s - loss: 0.0630 - sparse_categorical_accuracy: 0.9769 - val_loss: 0.1114 - val_sparse_categorical_accuracy: 0.9583\n",
      "Epoch 00055: early stopping\n"
     ]
    },
    {
     "data": {
      "text/plain": [
       "<keras.callbacks.History at 0x7f0bd40192e8>"
      ]
     },
     "execution_count": 12,
     "metadata": {},
     "output_type": "execute_result"
    }
   ],
   "source": [
    "model.fit(x=X_train, \n",
    "          y=y_train, \n",
    "          batch_size=32, \n",
    "          epochs=1000, \n",
    "          verbose=1, \n",
    "          callbacks=callbacks_list, \n",
    "          validation_data=(X_val, y_val), \n",
    "          shuffle=True)\n"
   ]
  },
  {
   "cell_type": "code",
   "execution_count": 13,
   "metadata": {
    "collapsed": false
   },
   "outputs": [
    {
     "name": "stdout",
     "output_type": "stream",
     "text": [
      "['loss', 'sparse_categorical_accuracy']\n",
      "2656/2682 [============================>.] - ETA: 0s"
     ]
    },
    {
     "data": {
      "text/plain": [
       "[0.040881738496220642, 0.98545861328652684]"
      ]
     },
     "execution_count": 13,
     "metadata": {},
     "output_type": "execute_result"
    }
   ],
   "source": [
    "from keras.models import load_model\n",
    "trained_model = load_model(model_name)\n",
    "print(trained_model.metrics_names)\n",
    "trained_model.evaluate(x=X_train, y=y_train)\n"
   ]
  },
  {
   "cell_type": "code",
   "execution_count": 14,
   "metadata": {
    "collapsed": false
   },
   "outputs": [
    {
     "name": "stdout",
     "output_type": "stream",
     "text": [
      "671/671 [==============================] - 0s     \n"
     ]
    },
    {
     "data": {
      "text/plain": [
       "[0.10634939807804437, 0.96274217319204269]"
      ]
     },
     "execution_count": 14,
     "metadata": {},
     "output_type": "execute_result"
    }
   ],
   "source": [
    "trained_model.evaluate(x=X_val, y=y_val)"
   ]
  },
  {
   "cell_type": "code",
   "execution_count": 15,
   "metadata": {
    "collapsed": false
   },
   "outputs": [
    {
     "name": "stdout",
     "output_type": "stream",
     "text": [
      "2656/2682 [============================>.] - ETA: 0s"
     ]
    },
    {
     "data": {
      "text/plain": [
       "[0.040881738496220642, 0.98545861328652684]"
      ]
     },
     "execution_count": 15,
     "metadata": {},
     "output_type": "execute_result"
    }
   ],
   "source": [
    "trained_model.evaluate(x=X_train, y=y_train)"
   ]
  },
  {
   "cell_type": "markdown",
   "metadata": {
    "collapsed": true
   },
   "source": [
    "    "
   ]
  }
 ],
 "metadata": {
  "kernelspec": {
   "display_name": "Python 3",
   "language": "python",
   "name": "python3"
  },
  "language_info": {
   "codemirror_mode": {
    "name": "ipython",
    "version": 3
   },
   "file_extension": ".py",
   "mimetype": "text/x-python",
   "name": "python",
   "nbconvert_exporter": "python",
   "pygments_lexer": "ipython3",
   "version": "3.5.2"
  }
 },
 "nbformat": 4,
 "nbformat_minor": 0
}
