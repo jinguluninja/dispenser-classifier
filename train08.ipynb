{
 "cells": [
  {
   "cell_type": "code",
   "execution_count": 1,
   "metadata": {
    "collapsed": false
   },
   "outputs": [
    {
     "name": "stderr",
     "output_type": "stream",
     "text": [
      "Using TensorFlow backend.\n"
     ]
    }
   ],
   "source": [
    "import os\n",
    "import keras\n",
    "import numpy as np\n",
    "np.random.seed(135109)"
   ]
  },
  {
   "cell_type": "code",
   "execution_count": 2,
   "metadata": {
    "collapsed": false
   },
   "outputs": [],
   "source": [
    "sensor = '08'"
   ]
  },
  {
   "cell_type": "code",
   "execution_count": 3,
   "metadata": {
    "collapsed": false
   },
   "outputs": [],
   "source": [
    "def dataset():\n",
    "    X = []\n",
    "    y = []\n",
    "    data_dir_0 = sorted(os.listdir(os.path.join('pac_data', sensor, '0')))   \n",
    "    i = 0\n",
    "    for f in data_dir_0:\n",
    "        if i % 100 == 0: print(i)\n",
    "        i += 1\n",
    "        X.append(np.load(os.path.join('pac_data', sensor, '0', f))['x'])\n",
    "        y.append(0)\n",
    "    X = np.asarray(X, dtype=np.float16)\n",
    "    y = np.asarray(y, dtype=int)\n",
    "    indices = np.arange(y.shape[0])\n",
    "    np.random.shuffle(indices)\n",
    "    X_train = X[indices[:int(0.8*len(indices))]]\n",
    "    y_train = y[indices[:int(0.8*len(indices))]]\n",
    "    X_val = X[indices[int(0.8*len(indices)):]]\n",
    "    y_val = y[indices[int(0.8*len(indices)):]]\n",
    "    labels_present = os.listdir(os.path.join('pac_data', sensor))\n",
    "    if '1' in labels_present:\n",
    "        X = []\n",
    "        y = []\n",
    "        data_dir_1 = sorted(os.listdir(os.path.join('pac_data', sensor, '1')))\n",
    "        i = 0\n",
    "        for f in data_dir_1:\n",
    "            if i % 100 == 0: print(i)\n",
    "            i += 1\n",
    "            X.append(np.load(os.path.join('pac_data', sensor, '1', f))['x'])\n",
    "            y.append(1)        \n",
    "        X = np.asarray(X, dtype=np.float16)\n",
    "        y = np.asarray(y, dtype=int)\n",
    "        indices = np.arange(y.shape[0])\n",
    "        np.random.shuffle(indices)\n",
    "        X_train = np.concatenate([X_train, X[indices[:int(0.8*len(indices))]]])\n",
    "        y_train = np.concatenate([y_train, y[indices[:int(0.8*len(indices))]]])\n",
    "        X_val = np.concatenate([X_val, X[indices[int(0.8*len(indices)):]]])\n",
    "        y_val = np.concatenate([y_val, y[indices[int(0.8*len(indices)):]]])\n",
    "    X_train = np.expand_dims(np.asarray(X_train, dtype=np.float16), axis=3)\n",
    "    y_train = np.asarray(y_train, dtype=int)\n",
    "    X_val = np.expand_dims(np.asarray(X_val, dtype=np.float16), axis=3)\n",
    "    y_val = np.asarray(y_val, dtype=int)\n",
    "    X_train /= 5.\n",
    "    X_val /= 5.\n",
    "    mean_arr = np.mean(X_train, axis = 0)\n",
    "    np.save(os.path.join('pac_data', sensor, 'mean.npy'), mean_arr)\n",
    "    X_train -= mean_arr \n",
    "    X_val -= mean_arr  \n",
    "    return X_train, y_train, X_val, y_val"
   ]
  },
  {
   "cell_type": "code",
   "execution_count": 4,
   "metadata": {
    "collapsed": false,
    "scrolled": true
   },
   "outputs": [
    {
     "name": "stdout",
     "output_type": "stream",
     "text": [
      "0\n",
      "100\n",
      "200\n",
      "300\n",
      "400\n",
      "500\n",
      "600\n",
      "700\n",
      "800\n",
      "900\n",
      "1000\n",
      "1100\n",
      "1200\n",
      "1300\n",
      "1400\n",
      "1500\n",
      "1600\n",
      "1700\n",
      "1800\n",
      "1900\n",
      "2000\n",
      "2100\n",
      "2200\n",
      "2300\n",
      "2400\n",
      "2500\n",
      "2600\n",
      "2700\n",
      "2800\n",
      "2900\n",
      "3000\n",
      "3100\n",
      "3200\n",
      "3300\n",
      "3400\n",
      "0\n",
      "100\n",
      "200\n",
      "300\n",
      "400\n"
     ]
    }
   ],
   "source": [
    "X_train, y_train, X_val, y_val = dataset()"
   ]
  },
  {
   "cell_type": "code",
   "execution_count": 5,
   "metadata": {
    "collapsed": false
   },
   "outputs": [
    {
     "name": "stdout",
     "output_type": "stream",
     "text": [
      "(3044, 240, 320, 1) (3044,) (762, 240, 320, 1) (762,)\n"
     ]
    }
   ],
   "source": [
    "print(X_train.shape, y_train.shape, X_val.shape, y_val.shape)"
   ]
  },
  {
   "cell_type": "code",
   "execution_count": 6,
   "metadata": {
    "collapsed": false
   },
   "outputs": [
    {
     "name": "stdout",
     "output_type": "stream",
     "text": [
      "['/gpu:0']\n"
     ]
    }
   ],
   "source": [
    "from tensorflow.python.client import device_lib\n",
    "\n",
    "def get_available_gpus():\n",
    "    local_device_protos = device_lib.list_local_devices()\n",
    "    return [x.name for x in local_device_protos if x.device_type == 'GPU']\n",
    "\n",
    "print(get_available_gpus())"
   ]
  },
  {
   "cell_type": "code",
   "execution_count": 7,
   "metadata": {
    "collapsed": false
   },
   "outputs": [],
   "source": [
    "\n",
    "from keras.models import Sequential\n",
    "from keras.layers import TimeDistributed, GlobalAveragePooling2D, Activation, Dense, Input\n",
    "from keras.layers import BatchNormalization, Conv2D, MaxPooling2D, AveragePooling2D, GlobalAveragePooling2D\n",
    "from keras.layers import GlobalMaxPooling2D\n",
    "from keras.layers.recurrent import LSTM\n",
    "from keras.callbacks import ModelCheckpoint, ReduceLROnPlateau, EarlyStopping\n",
    "from keras.layers import Dropout, Flatten\n",
    "from keras.layers import concatenate\n",
    "from keras import regularizers\n",
    "from keras import initializers\n",
    "from keras import constraints\n",
    "from keras.models import Model\n",
    "from keras import backend as K\n",
    "from keras.utils.layer_utils import convert_all_kernels_in_model\n",
    "from keras.utils.data_utils import get_file\n",
    "from keras.utils import conv_utils\n",
    "from keras.engine.topology import get_source_inputs\n",
    "from keras.engine import InputSpec\n",
    "from keras.applications.xception import Xception\n",
    "from keras import metrics"
   ]
  },
  {
   "cell_type": "code",
   "execution_count": 8,
   "metadata": {
    "collapsed": true
   },
   "outputs": [],
   "source": [
    "#linear\n",
    "def linear(dropout):\n",
    "    inputs = Input(shape=(240, 320, 1))\n",
    "    x = Flatten()(inputs)\n",
    "    x = Dropout(dropout)(x)\n",
    "    x = Dense(2, activation='softmax')(x)\n",
    "    model = Model(inputs, x, name='linear')\n",
    "    return model"
   ]
  },
  {
   "cell_type": "code",
   "execution_count": 9,
   "metadata": {
    "collapsed": false
   },
   "outputs": [
    {
     "data": {
      "text/plain": [
       "\"\\ndef xception(dropout):\\n    base_model = Xception(include_top=False, input_shape = (240, 320, 1), pooling='avg')\\n    x = base_model.output\\n    x = Flatten()(x)\\n    x = Dropout(dropout)(x) # drop prob\\n    predictions = Dense(2, activation='softmax')(x)\\n    model = Model(inputs=base_model.input, outputs=predictions, name='linear')\\n    return model\\n\""
      ]
     },
     "execution_count": 9,
     "metadata": {},
     "output_type": "execute_result"
    }
   ],
   "source": [
    "from keras import layers\n",
    "from keras.layers import Activation\n",
    "from keras.layers import SeparableConv2D\n",
    "\n",
    "def xception(dropout):\n",
    "    inputs = Input(shape=(240, 320, 1))    \n",
    "\n",
    "    x = Conv2D(32, (3, 3), padding='same', strides=(2, 2), use_bias=False, name='block1_conv1')(inputs)\n",
    "    x = BatchNormalization(name='block1_conv1_bn')(x)\n",
    "    x = Activation('relu', name='block1_conv1_act')(x)\n",
    "    x = Conv2D(64, (3, 3), padding='same', use_bias=False, name='block1_conv2')(x)\n",
    "    x = BatchNormalization(name='block1_conv2_bn')(x)\n",
    "    x = Activation('relu', name='block1_conv2_act')(x)\n",
    "\n",
    "    residual = Conv2D(128, (1, 1), strides=(2, 2),\n",
    "                      padding='same', use_bias=False)(x)\n",
    "    residual = BatchNormalization()(residual)\n",
    "\n",
    "    x = SeparableConv2D(128, (3, 3), padding='same', use_bias=False, name='block2_sepconv1')(x)\n",
    "    x = BatchNormalization(name='block2_sepconv1_bn')(x)\n",
    "    x = Activation('relu', name='block2_sepconv2_act')(x)\n",
    "    x = SeparableConv2D(128, (3, 3), padding='same', use_bias=False, name='block2_sepconv2')(x)\n",
    "    x = BatchNormalization(name='block2_sepconv2_bn')(x)\n",
    "\n",
    "    x = MaxPooling2D((3, 3), strides=(2, 2), padding='same', name='block2_pool')(x)\n",
    "    x = layers.add([x, residual])\n",
    "\n",
    "    residual = Conv2D(256, (1, 1), strides=(2, 2),\n",
    "                      padding='same', use_bias=False)(x)\n",
    "    residual = BatchNormalization()(residual)\n",
    "\n",
    "    x = Activation('relu', name='block3_sepconv1_act')(x)\n",
    "    x = SeparableConv2D(256, (3, 3), padding='same', use_bias=False, name='block3_sepconv1')(x)\n",
    "    x = BatchNormalization(name='block3_sepconv1_bn')(x)\n",
    "    x = Activation('relu', name='block3_sepconv2_act')(x)\n",
    "    x = SeparableConv2D(256, (3, 3), padding='same', use_bias=False, name='block3_sepconv2')(x)\n",
    "    x = BatchNormalization(name='block3_sepconv2_bn')(x)\n",
    "\n",
    "    x = MaxPooling2D((3, 3), strides=(2, 2), padding='same', name='block3_pool')(x)\n",
    "    x = layers.add([x, residual])\n",
    "\n",
    "    residual = Conv2D(728, (1, 1), strides=(2, 2),\n",
    "                      padding='same', use_bias=False)(x)\n",
    "    residual = BatchNormalization()(residual)\n",
    "\n",
    "    x = Activation('relu', name='block4_sepconv1_act')(x)\n",
    "    x = SeparableConv2D(728, (3, 3), padding='same', use_bias=False, name='block4_sepconv1')(x)\n",
    "    x = BatchNormalization(name='block4_sepconv1_bn')(x)\n",
    "    x = Activation('relu', name='block4_sepconv2_act')(x)\n",
    "    x = SeparableConv2D(728, (3, 3), padding='same', use_bias=False, name='block4_sepconv2')(x)\n",
    "    x = BatchNormalization(name='block4_sepconv2_bn')(x)\n",
    "\n",
    "    x = MaxPooling2D((3, 3), strides=(2, 2), padding='same', name='block4_pool')(x)\n",
    "    x = layers.add([x, residual])\n",
    "\n",
    "    for i in range(8):\n",
    "        residual = x\n",
    "        prefix = 'block' + str(i + 5)\n",
    "\n",
    "        x = Activation('relu', name=prefix + '_sepconv1_act')(x)\n",
    "        x = SeparableConv2D(728, (3, 3), padding='same', use_bias=False, name=prefix + '_sepconv1')(x)\n",
    "        x = BatchNormalization(name=prefix + '_sepconv1_bn')(x)\n",
    "        x = Activation('relu', name=prefix + '_sepconv2_act')(x)\n",
    "        x = SeparableConv2D(728, (3, 3), padding='same', use_bias=False, name=prefix + '_sepconv2')(x)\n",
    "        x = BatchNormalization(name=prefix + '_sepconv2_bn')(x)\n",
    "        x = Activation('relu', name=prefix + '_sepconv3_act')(x)\n",
    "        x = SeparableConv2D(728, (3, 3), padding='same', use_bias=False, name=prefix + '_sepconv3')(x)\n",
    "        x = BatchNormalization(name=prefix + '_sepconv3_bn')(x)\n",
    "\n",
    "        x = layers.add([x, residual])\n",
    "\n",
    "    residual = Conv2D(1024, (1, 1), strides=(2, 2),\n",
    "                      padding='same', use_bias=False)(x)\n",
    "    residual = BatchNormalization()(residual)\n",
    "\n",
    "    x = Activation('relu', name='block13_sepconv1_act')(x)\n",
    "    x = SeparableConv2D(728, (3, 3), padding='same', use_bias=False, name='block13_sepconv1')(x)\n",
    "    x = BatchNormalization(name='block13_sepconv1_bn')(x)\n",
    "    x = Activation('relu', name='block13_sepconv2_act')(x)\n",
    "    x = SeparableConv2D(1024, (3, 3), padding='same', use_bias=False, name='block13_sepconv2')(x)\n",
    "    x = BatchNormalization(name='block13_sepconv2_bn')(x)\n",
    "\n",
    "    x = MaxPooling2D((3, 3), strides=(2, 2), padding='same', name='block13_pool')(x)\n",
    "    x = layers.add([x, residual])\n",
    "\n",
    "    x = SeparableConv2D(1536, (3, 3), padding='same', use_bias=False, name='block14_sepconv1')(x)\n",
    "    x = BatchNormalization(name='block14_sepconv1_bn')(x)\n",
    "    x = Activation('relu', name='block14_sepconv1_act')(x)\n",
    "\n",
    "    x = SeparableConv2D(2048, (3, 3), padding='same', use_bias=False, name='block14_sepconv2')(x)\n",
    "    x = BatchNormalization(name='block14_sepconv2_bn')(x)\n",
    "    x = Activation('relu', name='block14_sepconv2_act')(x)\n",
    "\n",
    "    x = GlobalAveragePooling2D(name='avg_pool')(x)\n",
    "    x = Dropout(dropout)(x)\n",
    "    x = Dense(2, activation='softmax', name='predictions')(x)\n",
    "    model = Model(inputs, x, name='xception')\n",
    "    return model\n",
    "\n",
    "\n",
    "'''\n",
    "def xception(dropout):\n",
    "    base_model = Xception(include_top=False, input_shape = (240, 320, 1), pooling='avg')\n",
    "    x = base_model.output\n",
    "    x = Flatten()(x)\n",
    "    x = Dropout(dropout)(x) # drop prob\n",
    "    predictions = Dense(2, activation='softmax')(x)\n",
    "    model = Model(inputs=base_model.input, outputs=predictions, name='linear')\n",
    "    return model\n",
    "'''"
   ]
  },
  {
   "cell_type": "code",
   "execution_count": 10,
   "metadata": {
    "collapsed": false
   },
   "outputs": [],
   "source": [
    "def vanillacnn(dropout):\n",
    "    inputs = Input(shape=(240, 320, 1)) \n",
    "    x = Conv2D(32, (3, 3), strides=(2, 2), padding='same')(inputs)\n",
    "    x = BatchNormalization()(x)\n",
    "    x = Activation('relu')(x)\n",
    "    x = MaxPooling2D((2, 2), strides=(2, 2), padding='same')(x)\n",
    "    x = Dropout(dropout)(x)\n",
    "    \n",
    "    x = Conv2D(64, (3, 3), strides=(2, 2), padding='same')(x)\n",
    "    x = BatchNormalization()(x)\n",
    "    x = Activation('relu')(x)\n",
    "    x = MaxPooling2D((2, 2), strides=(2, 2), padding='same')(x)\n",
    "    x = Dropout(dropout)(x)\n",
    "    \n",
    "    x = Conv2D(128, (3, 3), strides=(2, 2), padding='same')(x)\n",
    "    x = BatchNormalization()(x)\n",
    "    x = Activation('relu')(x)\n",
    "    x = MaxPooling2D((2, 2), strides=(2, 2), padding='same')(x)\n",
    "    x = Dropout(dropout)(x)\n",
    "    \n",
    "    x = Conv2D(256, (3, 3), strides=(2, 2), padding='same')(x)\n",
    "    x = BatchNormalization()(x)\n",
    "    x = Activation('relu')(x)\n",
    "    x = MaxPooling2D((2, 2), strides=(2, 2), padding='same')(x)\n",
    "    \n",
    "    x = Flatten()(x)\n",
    "    x = Dropout(dropout)(x)\n",
    "    x = Dense(2, activation='softmax', name='predictions')(x)\n",
    "    model = Model(inputs, x, name='xception')\n",
    "    return model\n",
    "    \n",
    "    "
   ]
  },
  {
   "cell_type": "code",
   "execution_count": 11,
   "metadata": {
    "collapsed": false,
    "scrolled": true
   },
   "outputs": [
    {
     "name": "stdout",
     "output_type": "stream",
     "text": [
      "_________________________________________________________________\n",
      "Layer (type)                 Output Shape              Param #   \n",
      "=================================================================\n",
      "input_1 (InputLayer)         (None, 240, 320, 1)       0         \n",
      "_________________________________________________________________\n",
      "conv2d_1 (Conv2D)            (None, 120, 160, 32)      320       \n",
      "_________________________________________________________________\n",
      "batch_normalization_1 (Batch (None, 120, 160, 32)      128       \n",
      "_________________________________________________________________\n",
      "activation_1 (Activation)    (None, 120, 160, 32)      0         \n",
      "_________________________________________________________________\n",
      "max_pooling2d_1 (MaxPooling2 (None, 60, 80, 32)        0         \n",
      "_________________________________________________________________\n",
      "dropout_1 (Dropout)          (None, 60, 80, 32)        0         \n",
      "_________________________________________________________________\n",
      "conv2d_2 (Conv2D)            (None, 30, 40, 64)        18496     \n",
      "_________________________________________________________________\n",
      "batch_normalization_2 (Batch (None, 30, 40, 64)        256       \n",
      "_________________________________________________________________\n",
      "activation_2 (Activation)    (None, 30, 40, 64)        0         \n",
      "_________________________________________________________________\n",
      "max_pooling2d_2 (MaxPooling2 (None, 15, 20, 64)        0         \n",
      "_________________________________________________________________\n",
      "dropout_2 (Dropout)          (None, 15, 20, 64)        0         \n",
      "_________________________________________________________________\n",
      "conv2d_3 (Conv2D)            (None, 8, 10, 128)        73856     \n",
      "_________________________________________________________________\n",
      "batch_normalization_3 (Batch (None, 8, 10, 128)        512       \n",
      "_________________________________________________________________\n",
      "activation_3 (Activation)    (None, 8, 10, 128)        0         \n",
      "_________________________________________________________________\n",
      "max_pooling2d_3 (MaxPooling2 (None, 4, 5, 128)         0         \n",
      "_________________________________________________________________\n",
      "dropout_3 (Dropout)          (None, 4, 5, 128)         0         \n",
      "_________________________________________________________________\n",
      "conv2d_4 (Conv2D)            (None, 2, 3, 256)         295168    \n",
      "_________________________________________________________________\n",
      "batch_normalization_4 (Batch (None, 2, 3, 256)         1024      \n",
      "_________________________________________________________________\n",
      "activation_4 (Activation)    (None, 2, 3, 256)         0         \n",
      "_________________________________________________________________\n",
      "max_pooling2d_4 (MaxPooling2 (None, 1, 2, 256)         0         \n",
      "_________________________________________________________________\n",
      "flatten_1 (Flatten)          (None, 512)               0         \n",
      "_________________________________________________________________\n",
      "dropout_4 (Dropout)          (None, 512)               0         \n",
      "_________________________________________________________________\n",
      "predictions (Dense)          (None, 2)                 1026      \n",
      "=================================================================\n",
      "Total params: 390,786\n",
      "Trainable params: 389,826\n",
      "Non-trainable params: 960\n",
      "_________________________________________________________________\n"
     ]
    }
   ],
   "source": [
    "model_name = 'model' + sensor + '.h5'\n",
    "model = vanillacnn(0.5)\n",
    "\n",
    "adam = keras.optimizers.Adam(lr=0.001)\n",
    "model.compile(optimizer=adam, loss='sparse_categorical_crossentropy', metrics=[metrics.sparse_categorical_accuracy])\n",
    "\n",
    "\n",
    "checkpoint = ModelCheckpoint(model_name, monitor='val_loss', verbose=1, save_best_only=True, mode='min')\n",
    "stop = EarlyStopping(patience=20, verbose=1)\n",
    "\n",
    "callbacks_list = [checkpoint, stop]\n",
    "\n",
    "model.summary()\n"
   ]
  },
  {
   "cell_type": "code",
   "execution_count": 12,
   "metadata": {
    "collapsed": false,
    "scrolled": false
   },
   "outputs": [
    {
     "name": "stdout",
     "output_type": "stream",
     "text": [
      "Train on 3044 samples, validate on 762 samples\n",
      "Epoch 1/1000\n",
      "3040/3044 [============================>.] - ETA: 0s - loss: 0.2705 - sparse_categorical_accuracy: 0.9227Epoch 00000: val_loss improved from inf to 0.39047, saving model to model08.h5\n",
      "3044/3044 [==============================] - 10s - loss: 0.2702 - sparse_categorical_accuracy: 0.9228 - val_loss: 0.3905 - val_sparse_categorical_accuracy: 0.8937\n",
      "Epoch 2/1000\n",
      "3040/3044 [============================>.] - ETA: 0s - loss: 0.1634 - sparse_categorical_accuracy: 0.9470Epoch 00001: val_loss did not improve\n",
      "3044/3044 [==============================] - 9s - loss: 0.1632 - sparse_categorical_accuracy: 0.9471 - val_loss: 0.4700 - val_sparse_categorical_accuracy: 0.8937\n",
      "Epoch 3/1000\n",
      "3040/3044 [============================>.] - ETA: 0s - loss: 0.1343 - sparse_categorical_accuracy: 0.9563Epoch 00002: val_loss did not improve\n",
      "3044/3044 [==============================] - 9s - loss: 0.1342 - sparse_categorical_accuracy: 0.9563 - val_loss: 0.5015 - val_sparse_categorical_accuracy: 0.8937\n",
      "Epoch 4/1000\n",
      "3040/3044 [============================>.] - ETA: 0s - loss: 0.1203 - sparse_categorical_accuracy: 0.9605Epoch 00003: val_loss did not improve\n",
      "3044/3044 [==============================] - 9s - loss: 0.1201 - sparse_categorical_accuracy: 0.9606 - val_loss: 0.4357 - val_sparse_categorical_accuracy: 0.8937\n",
      "Epoch 5/1000\n",
      "3040/3044 [============================>.] - ETA: 0s - loss: 0.0986 - sparse_categorical_accuracy: 0.9632Epoch 00004: val_loss improved from 0.39047 to 0.26622, saving model to model08.h5\n",
      "3044/3044 [==============================] - 9s - loss: 0.0986 - sparse_categorical_accuracy: 0.9632 - val_loss: 0.2662 - val_sparse_categorical_accuracy: 0.8937\n",
      "Epoch 6/1000\n",
      "3040/3044 [============================>.] - ETA: 0s - loss: 0.0984 - sparse_categorical_accuracy: 0.9655Epoch 00005: val_loss improved from 0.26622 to 0.12991, saving model to model08.h5\n",
      "3044/3044 [==============================] - 9s - loss: 0.0986 - sparse_categorical_accuracy: 0.9652 - val_loss: 0.1299 - val_sparse_categorical_accuracy: 0.9396\n",
      "Epoch 7/1000\n",
      "3040/3044 [============================>.] - ETA: 0s - loss: 0.0826 - sparse_categorical_accuracy: 0.9671Epoch 00006: val_loss improved from 0.12991 to 0.07311, saving model to model08.h5\n",
      "3044/3044 [==============================] - 9s - loss: 0.0825 - sparse_categorical_accuracy: 0.9671 - val_loss: 0.0731 - val_sparse_categorical_accuracy: 0.9698\n",
      "Epoch 8/1000\n",
      "3040/3044 [============================>.] - ETA: 0s - loss: 0.0848 - sparse_categorical_accuracy: 0.9681Epoch 00007: val_loss improved from 0.07311 to 0.06520, saving model to model08.h5\n",
      "3044/3044 [==============================] - 9s - loss: 0.0847 - sparse_categorical_accuracy: 0.9681 - val_loss: 0.0652 - val_sparse_categorical_accuracy: 0.9738\n",
      "Epoch 9/1000\n",
      "3040/3044 [============================>.] - ETA: 0s - loss: 0.0753 - sparse_categorical_accuracy: 0.9704Epoch 00008: val_loss improved from 0.06520 to 0.05469, saving model to model08.h5\n",
      "3044/3044 [==============================] - 9s - loss: 0.0759 - sparse_categorical_accuracy: 0.9701 - val_loss: 0.0547 - val_sparse_categorical_accuracy: 0.9816\n",
      "Epoch 10/1000\n",
      "3040/3044 [============================>.] - ETA: 0s - loss: 0.0767 - sparse_categorical_accuracy: 0.9743Epoch 00009: val_loss did not improve\n",
      "3044/3044 [==============================] - 9s - loss: 0.0766 - sparse_categorical_accuracy: 0.9744 - val_loss: 0.0576 - val_sparse_categorical_accuracy: 0.9803\n",
      "Epoch 11/1000\n",
      "3040/3044 [============================>.] - ETA: 0s - loss: 0.0738 - sparse_categorical_accuracy: 0.9724Epoch 00010: val_loss improved from 0.05469 to 0.04530, saving model to model08.h5\n",
      "3044/3044 [==============================] - 9s - loss: 0.0738 - sparse_categorical_accuracy: 0.9724 - val_loss: 0.0453 - val_sparse_categorical_accuracy: 0.9856\n",
      "Epoch 12/1000\n",
      "3040/3044 [============================>.] - ETA: 0s - loss: 0.0629 - sparse_categorical_accuracy: 0.9743Epoch 00011: val_loss did not improve\n",
      "3044/3044 [==============================] - 9s - loss: 0.0628 - sparse_categorical_accuracy: 0.9744 - val_loss: 0.0552 - val_sparse_categorical_accuracy: 0.9790\n",
      "Epoch 13/1000\n",
      "3040/3044 [============================>.] - ETA: 0s - loss: 0.0616 - sparse_categorical_accuracy: 0.9760Epoch 00012: val_loss did not improve\n",
      "3044/3044 [==============================] - 9s - loss: 0.0615 - sparse_categorical_accuracy: 0.9760 - val_loss: 0.0613 - val_sparse_categorical_accuracy: 0.9738\n",
      "Epoch 14/1000\n",
      "3040/3044 [============================>.] - ETA: 0s - loss: 0.0636 - sparse_categorical_accuracy: 0.9747Epoch 00013: val_loss did not improve\n",
      "3044/3044 [==============================] - 9s - loss: 0.0635 - sparse_categorical_accuracy: 0.9747 - val_loss: 0.0458 - val_sparse_categorical_accuracy: 0.9843\n",
      "Epoch 15/1000\n",
      "3040/3044 [============================>.] - ETA: 0s - loss: 0.0575 - sparse_categorical_accuracy: 0.9757Epoch 00014: val_loss did not improve\n",
      "3044/3044 [==============================] - 9s - loss: 0.0574 - sparse_categorical_accuracy: 0.9757 - val_loss: 0.0517 - val_sparse_categorical_accuracy: 0.9803\n",
      "Epoch 16/1000\n",
      "3040/3044 [============================>.] - ETA: 0s - loss: 0.0563 - sparse_categorical_accuracy: 0.9743Epoch 00015: val_loss improved from 0.04530 to 0.04522, saving model to model08.h5\n",
      "3044/3044 [==============================] - 9s - loss: 0.0562 - sparse_categorical_accuracy: 0.9744 - val_loss: 0.0452 - val_sparse_categorical_accuracy: 0.9856\n",
      "Epoch 17/1000\n",
      "3040/3044 [============================>.] - ETA: 0s - loss: 0.0598 - sparse_categorical_accuracy: 0.9763Epoch 00016: val_loss improved from 0.04522 to 0.04312, saving model to model08.h5\n",
      "3044/3044 [==============================] - 9s - loss: 0.0597 - sparse_categorical_accuracy: 0.9763 - val_loss: 0.0431 - val_sparse_categorical_accuracy: 0.9869\n",
      "Epoch 18/1000\n",
      "3040/3044 [============================>.] - ETA: 0s - loss: 0.0544 - sparse_categorical_accuracy: 0.9783Epoch 00017: val_loss did not improve\n",
      "3044/3044 [==============================] - 9s - loss: 0.0543 - sparse_categorical_accuracy: 0.9783 - val_loss: 0.0455 - val_sparse_categorical_accuracy: 0.9829\n",
      "Epoch 19/1000\n",
      "3040/3044 [============================>.] - ETA: 0s - loss: 0.0510 - sparse_categorical_accuracy: 0.9812Epoch 00018: val_loss did not improve\n",
      "3044/3044 [==============================] - 9s - loss: 0.0510 - sparse_categorical_accuracy: 0.9813 - val_loss: 0.0529 - val_sparse_categorical_accuracy: 0.9777\n",
      "Epoch 20/1000\n",
      "3040/3044 [============================>.] - ETA: 0s - loss: 0.0463 - sparse_categorical_accuracy: 0.9809Epoch 00019: val_loss did not improve\n",
      "3044/3044 [==============================] - 9s - loss: 0.0463 - sparse_categorical_accuracy: 0.9809 - val_loss: 0.0458 - val_sparse_categorical_accuracy: 0.9816\n",
      "Epoch 21/1000\n",
      "3040/3044 [============================>.] - ETA: 0s - loss: 0.0526 - sparse_categorical_accuracy: 0.9799Epoch 00020: val_loss improved from 0.04312 to 0.04159, saving model to model08.h5\n",
      "3044/3044 [==============================] - 9s - loss: 0.0526 - sparse_categorical_accuracy: 0.9800 - val_loss: 0.0416 - val_sparse_categorical_accuracy: 0.9843\n",
      "Epoch 22/1000\n",
      "3040/3044 [============================>.] - ETA: 0s - loss: 0.0441 - sparse_categorical_accuracy: 0.9822Epoch 00021: val_loss did not improve\n",
      "3044/3044 [==============================] - 9s - loss: 0.0440 - sparse_categorical_accuracy: 0.9823 - val_loss: 0.0437 - val_sparse_categorical_accuracy: 0.9829\n",
      "Epoch 23/1000\n",
      "3040/3044 [============================>.] - ETA: 0s - loss: 0.0536 - sparse_categorical_accuracy: 0.9796Epoch 00022: val_loss improved from 0.04159 to 0.04096, saving model to model08.h5\n",
      "3044/3044 [==============================] - 9s - loss: 0.0535 - sparse_categorical_accuracy: 0.9796 - val_loss: 0.0410 - val_sparse_categorical_accuracy: 0.9856\n",
      "Epoch 24/1000\n",
      "3040/3044 [============================>.] - ETA: 0s - loss: 0.0444 - sparse_categorical_accuracy: 0.9806Epoch 00023: val_loss did not improve\n",
      "3044/3044 [==============================] - 9s - loss: 0.0445 - sparse_categorical_accuracy: 0.9806 - val_loss: 0.0479 - val_sparse_categorical_accuracy: 0.9856\n",
      "Epoch 25/1000\n",
      "3040/3044 [============================>.] - ETA: 0s - loss: 0.0481 - sparse_categorical_accuracy: 0.9806Epoch 00024: val_loss did not improve\n",
      "3044/3044 [==============================] - 9s - loss: 0.0480 - sparse_categorical_accuracy: 0.9806 - val_loss: 0.0474 - val_sparse_categorical_accuracy: 0.9856\n",
      "Epoch 26/1000\n",
      "3040/3044 [============================>.] - ETA: 0s - loss: 0.0429 - sparse_categorical_accuracy: 0.9842Epoch 00025: val_loss did not improve\n",
      "3044/3044 [==============================] - 9s - loss: 0.0428 - sparse_categorical_accuracy: 0.9842 - val_loss: 0.0514 - val_sparse_categorical_accuracy: 0.9790\n",
      "Epoch 27/1000\n",
      "3040/3044 [============================>.] - ETA: 0s - loss: 0.0461 - sparse_categorical_accuracy: 0.9806Epoch 00026: val_loss did not improve\n",
      "3044/3044 [==============================] - 9s - loss: 0.0460 - sparse_categorical_accuracy: 0.9806 - val_loss: 0.0442 - val_sparse_categorical_accuracy: 0.9856\n",
      "Epoch 28/1000\n",
      "3040/3044 [============================>.] - ETA: 0s - loss: 0.0392 - sparse_categorical_accuracy: 0.9836Epoch 00027: val_loss did not improve\n",
      "3044/3044 [==============================] - 9s - loss: 0.0391 - sparse_categorical_accuracy: 0.9836 - val_loss: 0.0430 - val_sparse_categorical_accuracy: 0.9829\n",
      "Epoch 29/1000\n",
      "3040/3044 [============================>.] - ETA: 0s - loss: 0.0457 - sparse_categorical_accuracy: 0.9822Epoch 00028: val_loss did not improve\n",
      "3044/3044 [==============================] - 9s - loss: 0.0456 - sparse_categorical_accuracy: 0.9823 - val_loss: 0.0510 - val_sparse_categorical_accuracy: 0.9856\n",
      "Epoch 30/1000\n",
      "3040/3044 [============================>.] - ETA: 0s - loss: 0.0418 - sparse_categorical_accuracy: 0.9845Epoch 00029: val_loss did not improve\n",
      "3044/3044 [==============================] - 9s - loss: 0.0418 - sparse_categorical_accuracy: 0.9846 - val_loss: 0.0513 - val_sparse_categorical_accuracy: 0.9816\n",
      "Epoch 31/1000\n",
      "3040/3044 [============================>.] - ETA: 0s - loss: 0.0371 - sparse_categorical_accuracy: 0.9852Epoch 00030: val_loss did not improve\n",
      "3044/3044 [==============================] - 9s - loss: 0.0370 - sparse_categorical_accuracy: 0.9852 - val_loss: 0.0412 - val_sparse_categorical_accuracy: 0.9856\n",
      "Epoch 32/1000\n",
      "3040/3044 [============================>.] - ETA: 0s - loss: 0.0358 - sparse_categorical_accuracy: 0.9849Epoch 00031: val_loss did not improve\n",
      "3044/3044 [==============================] - 9s - loss: 0.0358 - sparse_categorical_accuracy: 0.9849 - val_loss: 0.0478 - val_sparse_categorical_accuracy: 0.9829\n",
      "Epoch 33/1000\n",
      "3040/3044 [============================>.] - ETA: 0s - loss: 0.0396 - sparse_categorical_accuracy: 0.9852Epoch 00032: val_loss did not improve\n",
      "3044/3044 [==============================] - 9s - loss: 0.0400 - sparse_categorical_accuracy: 0.9849 - val_loss: 0.0573 - val_sparse_categorical_accuracy: 0.9856\n",
      "Epoch 34/1000\n",
      "3040/3044 [============================>.] - ETA: 0s - loss: 0.0479 - sparse_categorical_accuracy: 0.9806Epoch 00033: val_loss did not improve\n",
      "3044/3044 [==============================] - 9s - loss: 0.0478 - sparse_categorical_accuracy: 0.9806 - val_loss: 0.0512 - val_sparse_categorical_accuracy: 0.9777\n",
      "Epoch 35/1000\n",
      "3040/3044 [============================>.] - ETA: 0s - loss: 0.0394 - sparse_categorical_accuracy: 0.9852Epoch 00034: val_loss did not improve\n",
      "3044/3044 [==============================] - 9s - loss: 0.0394 - sparse_categorical_accuracy: 0.9852 - val_loss: 0.0424 - val_sparse_categorical_accuracy: 0.9869\n",
      "Epoch 36/1000\n",
      "3040/3044 [============================>.] - ETA: 0s - loss: 0.0358 - sparse_categorical_accuracy: 0.9855Epoch 00035: val_loss did not improve\n",
      "3044/3044 [==============================] - 9s - loss: 0.0358 - sparse_categorical_accuracy: 0.9855 - val_loss: 0.0451 - val_sparse_categorical_accuracy: 0.9843\n",
      "Epoch 37/1000\n",
      "3040/3044 [============================>.] - ETA: 0s - loss: 0.0440 - sparse_categorical_accuracy: 0.9803Epoch 00036: val_loss improved from 0.04096 to 0.04082, saving model to model08.h5\n",
      "3044/3044 [==============================] - 9s - loss: 0.0439 - sparse_categorical_accuracy: 0.9803 - val_loss: 0.0408 - val_sparse_categorical_accuracy: 0.9843\n",
      "Epoch 38/1000\n",
      "3040/3044 [============================>.] - ETA: 0s - loss: 0.0376 - sparse_categorical_accuracy: 0.9842Epoch 00037: val_loss did not improve\n",
      "3044/3044 [==============================] - 9s - loss: 0.0375 - sparse_categorical_accuracy: 0.9842 - val_loss: 0.0542 - val_sparse_categorical_accuracy: 0.9856\n",
      "Epoch 39/1000\n",
      "3040/3044 [============================>.] - ETA: 0s - loss: 0.0385 - sparse_categorical_accuracy: 0.9849Epoch 00038: val_loss did not improve\n",
      "3044/3044 [==============================] - 9s - loss: 0.0385 - sparse_categorical_accuracy: 0.9849 - val_loss: 0.0526 - val_sparse_categorical_accuracy: 0.9790\n",
      "Epoch 40/1000\n",
      "3040/3044 [============================>.] - ETA: 0s - loss: 0.0332 - sparse_categorical_accuracy: 0.9865Epoch 00039: val_loss did not improve\n",
      "3044/3044 [==============================] - 9s - loss: 0.0332 - sparse_categorical_accuracy: 0.9865 - val_loss: 0.0421 - val_sparse_categorical_accuracy: 0.9829\n",
      "Epoch 41/1000\n",
      "3040/3044 [============================>.] - ETA: 0s - loss: 0.0366 - sparse_categorical_accuracy: 0.9842Epoch 00040: val_loss improved from 0.04082 to 0.04042, saving model to model08.h5\n",
      "3044/3044 [==============================] - 9s - loss: 0.0365 - sparse_categorical_accuracy: 0.9842 - val_loss: 0.0404 - val_sparse_categorical_accuracy: 0.9803\n",
      "Epoch 42/1000\n",
      "3040/3044 [============================>.] - ETA: 0s - loss: 0.0333 - sparse_categorical_accuracy: 0.9865Epoch 00041: val_loss did not improve\n",
      "3044/3044 [==============================] - 9s - loss: 0.0335 - sparse_categorical_accuracy: 0.9865 - val_loss: 0.0416 - val_sparse_categorical_accuracy: 0.9803\n",
      "Epoch 43/1000\n",
      "3040/3044 [============================>.] - ETA: 0s - loss: 0.0353 - sparse_categorical_accuracy: 0.9875Epoch 00042: val_loss did not improve\n",
      "3044/3044 [==============================] - 9s - loss: 0.0352 - sparse_categorical_accuracy: 0.9875 - val_loss: 0.0470 - val_sparse_categorical_accuracy: 0.9803\n",
      "Epoch 44/1000\n",
      "3040/3044 [============================>.] - ETA: 0s - loss: 0.0374 - sparse_categorical_accuracy: 0.9836Epoch 00043: val_loss did not improve\n",
      "3044/3044 [==============================] - 9s - loss: 0.0374 - sparse_categorical_accuracy: 0.9836 - val_loss: 0.0477 - val_sparse_categorical_accuracy: 0.9829\n",
      "Epoch 45/1000\n",
      "3040/3044 [============================>.] - ETA: 0s - loss: 0.0385 - sparse_categorical_accuracy: 0.9832Epoch 00044: val_loss did not improve\n",
      "3044/3044 [==============================] - 9s - loss: 0.0384 - sparse_categorical_accuracy: 0.9832 - val_loss: 0.0405 - val_sparse_categorical_accuracy: 0.9869\n",
      "Epoch 46/1000\n",
      "3040/3044 [============================>.] - ETA: 0s - loss: 0.0375 - sparse_categorical_accuracy: 0.9849Epoch 00045: val_loss did not improve\n",
      "3044/3044 [==============================] - 9s - loss: 0.0375 - sparse_categorical_accuracy: 0.9849 - val_loss: 0.0455 - val_sparse_categorical_accuracy: 0.9869\n",
      "Epoch 47/1000\n",
      "3040/3044 [============================>.] - ETA: 0s - loss: 0.0294 - sparse_categorical_accuracy: 0.9865Epoch 00046: val_loss did not improve\n",
      "3044/3044 [==============================] - 9s - loss: 0.0294 - sparse_categorical_accuracy: 0.9865 - val_loss: 0.0432 - val_sparse_categorical_accuracy: 0.9856\n",
      "Epoch 48/1000\n",
      "3040/3044 [============================>.] - ETA: 0s - loss: 0.0361 - sparse_categorical_accuracy: 0.9868Epoch 00047: val_loss did not improve\n",
      "3044/3044 [==============================] - 9s - loss: 0.0360 - sparse_categorical_accuracy: 0.9869 - val_loss: 0.0479 - val_sparse_categorical_accuracy: 0.9816\n",
      "Epoch 49/1000\n",
      "3040/3044 [============================>.] - ETA: 0s - loss: 0.0421 - sparse_categorical_accuracy: 0.9842Epoch 00048: val_loss did not improve\n",
      "3044/3044 [==============================] - 9s - loss: 0.0420 - sparse_categorical_accuracy: 0.9842 - val_loss: 0.0547 - val_sparse_categorical_accuracy: 0.9790\n",
      "Epoch 50/1000\n",
      "3040/3044 [============================>.] - ETA: 0s - loss: 0.0270 - sparse_categorical_accuracy: 0.9888Epoch 00049: val_loss did not improve\n",
      "3044/3044 [==============================] - 9s - loss: 0.0269 - sparse_categorical_accuracy: 0.9888 - val_loss: 0.0501 - val_sparse_categorical_accuracy: 0.9843\n",
      "Epoch 51/1000\n",
      "3040/3044 [============================>.] - ETA: 0s - loss: 0.0290 - sparse_categorical_accuracy: 0.9862Epoch 00050: val_loss did not improve\n",
      "3044/3044 [==============================] - 9s - loss: 0.0290 - sparse_categorical_accuracy: 0.9862 - val_loss: 0.0461 - val_sparse_categorical_accuracy: 0.9856\n",
      "Epoch 52/1000\n",
      "3040/3044 [============================>.] - ETA: 0s - loss: 0.0358 - sparse_categorical_accuracy: 0.9845Epoch 00051: val_loss did not improve\n",
      "3044/3044 [==============================] - 9s - loss: 0.0359 - sparse_categorical_accuracy: 0.9846 - val_loss: 0.0618 - val_sparse_categorical_accuracy: 0.9777\n",
      "Epoch 53/1000\n",
      "3040/3044 [============================>.] - ETA: 0s - loss: 0.0266 - sparse_categorical_accuracy: 0.9895Epoch 00052: val_loss did not improve\n",
      "3044/3044 [==============================] - 9s - loss: 0.0267 - sparse_categorical_accuracy: 0.9895 - val_loss: 0.0431 - val_sparse_categorical_accuracy: 0.9829\n",
      "Epoch 54/1000\n",
      "3040/3044 [============================>.] - ETA: 0s - loss: 0.0337 - sparse_categorical_accuracy: 0.9855Epoch 00053: val_loss did not improve\n",
      "3044/3044 [==============================] - 9s - loss: 0.0337 - sparse_categorical_accuracy: 0.9855 - val_loss: 0.0480 - val_sparse_categorical_accuracy: 0.9843\n",
      "Epoch 55/1000\n",
      "3040/3044 [============================>.] - ETA: 0s - loss: 0.0310 - sparse_categorical_accuracy: 0.9875Epoch 00054: val_loss did not improve\n",
      "3044/3044 [==============================] - 9s - loss: 0.0309 - sparse_categorical_accuracy: 0.9875 - val_loss: 0.0450 - val_sparse_categorical_accuracy: 0.9816\n",
      "Epoch 56/1000\n",
      "3040/3044 [============================>.] - ETA: 0s - loss: 0.0281 - sparse_categorical_accuracy: 0.9875Epoch 00055: val_loss did not improve\n",
      "3044/3044 [==============================] - 9s - loss: 0.0281 - sparse_categorical_accuracy: 0.9875 - val_loss: 0.0455 - val_sparse_categorical_accuracy: 0.9816\n",
      "Epoch 57/1000\n",
      "3040/3044 [============================>.] - ETA: 0s - loss: 0.0278 - sparse_categorical_accuracy: 0.9891Epoch 00056: val_loss did not improve\n",
      "3044/3044 [==============================] - 9s - loss: 0.0278 - sparse_categorical_accuracy: 0.9892 - val_loss: 0.0440 - val_sparse_categorical_accuracy: 0.9843\n",
      "Epoch 58/1000\n",
      "3040/3044 [============================>.] - ETA: 0s - loss: 0.0325 - sparse_categorical_accuracy: 0.9872Epoch 00057: val_loss did not improve\n",
      "3044/3044 [==============================] - 9s - loss: 0.0324 - sparse_categorical_accuracy: 0.9872 - val_loss: 0.0442 - val_sparse_categorical_accuracy: 0.9843\n",
      "Epoch 59/1000\n",
      "3040/3044 [============================>.] - ETA: 0s - loss: 0.0308 - sparse_categorical_accuracy: 0.9862Epoch 00058: val_loss did not improve\n",
      "3044/3044 [==============================] - 9s - loss: 0.0308 - sparse_categorical_accuracy: 0.9862 - val_loss: 0.0428 - val_sparse_categorical_accuracy: 0.9843\n",
      "Epoch 60/1000\n",
      "3040/3044 [============================>.] - ETA: 0s - loss: 0.0321 - sparse_categorical_accuracy: 0.9849Epoch 00059: val_loss did not improve\n",
      "3044/3044 [==============================] - 9s - loss: 0.0321 - sparse_categorical_accuracy: 0.9849 - val_loss: 0.0407 - val_sparse_categorical_accuracy: 0.9829\n",
      "Epoch 61/1000\n",
      "3040/3044 [============================>.] - ETA: 0s - loss: 0.0279 - sparse_categorical_accuracy: 0.9878Epoch 00060: val_loss did not improve\n",
      "3044/3044 [==============================] - 9s - loss: 0.0278 - sparse_categorical_accuracy: 0.9878 - val_loss: 0.0488 - val_sparse_categorical_accuracy: 0.9790\n",
      "Epoch 62/1000\n",
      "3040/3044 [============================>.] - ETA: 0s - loss: 0.0296 - sparse_categorical_accuracy: 0.9901Epoch 00061: val_loss did not improve\n",
      "3044/3044 [==============================] - 9s - loss: 0.0295 - sparse_categorical_accuracy: 0.9901 - val_loss: 0.0454 - val_sparse_categorical_accuracy: 0.9777\n",
      "Epoch 00061: early stopping\n"
     ]
    },
    {
     "data": {
      "text/plain": [
       "<keras.callbacks.History at 0x7fb28f52a4e0>"
      ]
     },
     "execution_count": 12,
     "metadata": {},
     "output_type": "execute_result"
    }
   ],
   "source": [
    "model.fit(x=X_train, \n",
    "          y=y_train, \n",
    "          batch_size=32, \n",
    "          epochs=1000, \n",
    "          verbose=1, \n",
    "          callbacks=callbacks_list, \n",
    "          validation_data=(X_val, y_val), \n",
    "          shuffle=True)\n"
   ]
  },
  {
   "cell_type": "code",
   "execution_count": 13,
   "metadata": {
    "collapsed": false
   },
   "outputs": [
    {
     "name": "stdout",
     "output_type": "stream",
     "text": [
      "['loss', 'sparse_categorical_accuracy']\n",
      "3040/3044 [============================>.] - ETA: 0s"
     ]
    },
    {
     "data": {
      "text/plain": [
       "[0.020271961413092579, 0.99080157687253612]"
      ]
     },
     "execution_count": 13,
     "metadata": {},
     "output_type": "execute_result"
    }
   ],
   "source": [
    "from keras.models import load_model\n",
    "trained_model = load_model(model_name)\n",
    "print(trained_model.metrics_names)\n",
    "trained_model.evaluate(x=X_train, y=y_train)\n"
   ]
  },
  {
   "cell_type": "code",
   "execution_count": 14,
   "metadata": {
    "collapsed": false
   },
   "outputs": [
    {
     "name": "stdout",
     "output_type": "stream",
     "text": [
      "736/762 [===========================>..] - ETA: 0s"
     ]
    },
    {
     "data": {
      "text/plain": [
       "[0.040424621357748117, 0.98031496282011821]"
      ]
     },
     "execution_count": 14,
     "metadata": {},
     "output_type": "execute_result"
    }
   ],
   "source": [
    "trained_model.evaluate(x=X_val, y=y_val)"
   ]
  },
  {
   "cell_type": "markdown",
   "metadata": {
    "collapsed": true
   },
   "source": [
    "    "
   ]
  }
 ],
 "metadata": {
  "kernelspec": {
   "display_name": "Python 3",
   "language": "python",
   "name": "python3"
  },
  "language_info": {
   "codemirror_mode": {
    "name": "ipython",
    "version": 3
   },
   "file_extension": ".py",
   "mimetype": "text/x-python",
   "name": "python",
   "nbconvert_exporter": "python",
   "pygments_lexer": "ipython3",
   "version": "3.5.2"
  }
 },
 "nbformat": 4,
 "nbformat_minor": 0
}
